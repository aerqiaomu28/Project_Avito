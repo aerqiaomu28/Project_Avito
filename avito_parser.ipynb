{
 "cells": [
  {
   "attachments": {},
   "cell_type": "markdown",
   "metadata": {},
   "source": [
    "# Парсинг данных с сайта **avito.ru**"
   ]
  },
  {
   "cell_type": "code",
   "execution_count": 1,
   "metadata": {},
   "outputs": [],
   "source": [
    "from bs4 import BeautifulSoup\n",
    "from tqdm import tqdm\n",
    "from time import sleep\n",
    "import requests\n",
    "import random\n",
    "from urllib.parse import quote\n",
    "import os\n",
    "import re\n",
    "import pandas as pd\n"
   ]
  },
  {
   "attachments": {},
   "cell_type": "markdown",
   "metadata": {},
   "source": [
    "## Подготовка\n",
    "\n",
    "Для того, чтобы сайт не мог так просто заподозрить, что мы берем данные с него, возьмем заголовки с реального браузера."
   ]
  },
  {
   "cell_type": "code",
   "execution_count": 2,
   "metadata": {},
   "outputs": [],
   "source": [
    "with open('user_agents.txt', 'r') as parse_items:\n",
    "    user_agents = list(map(lambda x: x.strip(), parse_items.readlines()))"
   ]
  },
  {
   "attachments": {},
   "cell_type": "markdown",
   "metadata": {},
   "source": [
    "Указываем ссылку, с которой будем брать данные `data_url` и ссылку-якорь, которая позволит создавать ссылки на страницы с объявлениями `base_url`."
   ]
  },
  {
   "cell_type": "code",
   "execution_count": 3,
   "metadata": {},
   "outputs": [],
   "source": [
    "data_url = 'https://www.avito.ru/all/kvartiry/prodam-ASgBAgICAUSSA8YQ'\n",
    "base_url = 'https://www.avito.ru'\n",
    "\n",
    "# Очень желательно поставить реальную куку с сайта, иначе очень быстро забанят\n",
    "# cookie = кука\n",
    "cookie = кука\n",
    "\n",
    "# не рекомендуется создавать данные больше 4000, так как реальных объявлений квартир не так много и со временем они начинают повторяться\n",
    "dataset_size = 4000\n",
    "links = set()\n",
    "\n",
    "# точка означает, что будет записано в текущую директорию\n",
    "folder_to_save_csvs = 'csvs'\n",
    "folder_to_save_htmls = 'html_pages'"
   ]
  },
  {
   "attachments": {},
   "cell_type": "markdown",
   "metadata": {},
   "source": [
    "## Приступаем к делу (парсим ссылки на объявления)\n",
    "\n",
    "Для начала нам придется достать все ссылки с объявлениями"
   ]
  },
  {
   "cell_type": "code",
   "execution_count": 4,
   "metadata": {},
   "outputs": [
    {
     "name": "stdout",
     "output_type": "stream",
     "text": [
      "Созданы папки для сохранения данных\n"
     ]
    }
   ],
   "source": [
    "os.path.exists(folder_to_save_htmls) or os.makedirs(folder_to_save_htmls)\n",
    "os.path.exists(folder_to_save_csvs) or os.makedirs(folder_to_save_csvs)\n",
    "print('Созданы папки для сохранения данных')"
   ]
  },
  {
   "cell_type": "code",
   "execution_count": 5,
   "metadata": {},
   "outputs": [
    {
     "name": "stderr",
     "output_type": "stream",
     "text": [
      "Links obtained: 100%|██████████| 4000/4000 [07:28<00:00,  8.91it/s]\n"
     ]
    }
   ],
   "source": [
    "pbar = tqdm(total=dataset_size, desc='Links obtained')\n",
    "\n",
    "current_page = 1\n",
    "while len(links) < dataset_size:\n",
    "\n",
    "    page = requests.get(\n",
    "        data_url,\n",
    "        # для получения следующей страницы нужно передать параметр p с номером страницы, которую мы будем получать\n",
    "        params={'p': current_page},\n",
    "        headers={\n",
    "            'User-Agent': quote(random.choice(user_agents)),\n",
    "\n",
    "            # Очень желательно поставить реальную куку с сайта, иначе очень быстро забанят\n",
    "            'Cookie': cookie,\n",
    "        }\n",
    "    )\n",
    "\n",
    "    soup = BeautifulSoup(page.text, 'html.parser')\n",
    "    # print(soup.prettify())\n",
    "    # break\n",
    "    prev_len = len(links)\n",
    "\n",
    "    for item in soup.find_all(name='a', attrs={'data-marker': 'item-title'}):\n",
    "        if str(item.get('href')).startswith('http'):\n",
    "            continue\n",
    "\n",
    "        # Получаем ссылку на одно из объявлений\n",
    "        cur_link = f'{base_url}{item.get(\"href\")}'.strip()\n",
    "\n",
    "        # Если эта ссылка уже была, пропускаем\n",
    "        if cur_link in links:\n",
    "            continue\n",
    "\n",
    "        links.add(cur_link)\n",
    "\n",
    "        if len(links) >= dataset_size:\n",
    "            break\n",
    "\n",
    "    pbar.update(len(links) - prev_len)\n",
    "    current_page += 1\n",
    "\n",
    "    # задержка между запросами, чтобы не забанили\n",
    "    sleep(3 + abs(random.uniform(0, 1)))\n",
    "\n",
    "del pbar\n"
   ]
  },
  {
   "cell_type": "code",
   "execution_count": 6,
   "metadata": {},
   "outputs": [],
   "source": [
    "links = list(links)"
   ]
  },
  {
   "attachments": {},
   "cell_type": "markdown",
   "metadata": {},
   "source": [
    "После того, как все ссылки получены, записываем на в файл, для того, чтобы нечаянно не потерять их в будущем"
   ]
  },
  {
   "cell_type": "code",
   "execution_count": 7,
   "metadata": {},
   "outputs": [
    {
     "name": "stdout",
     "output_type": "stream",
     "text": [
      "Примеры ссылок:\n",
      "https://www.avito.ru/moskva/kvartiry/2-k._apartamenty_68m_1131et._2697437340\n",
      "https://www.avito.ru/selyatino/kvartiry/3-k._kvartira_72m_33et._2751575016\n",
      "https://www.avito.ru/novo-talitsy/kvartiry/4-k._kvartira_592m_23et._2899169847\n",
      "https://www.avito.ru/velikiy_novgorod/kvartiry/3-k._kvartira_782m_59et._2470065859\n",
      "https://www.avito.ru/perm/kvartiry/4-k._kvartira_835m_1212et._2727751263\n",
      "\n",
      "Всего ссылок 4000\n"
     ]
    }
   ],
   "source": [
    "print(\"Примеры ссылок:\")\n",
    "print(*links[:5], sep='\\n')\n",
    "print()\n",
    "print(\"Всего ссылок {}\".format(len(links)))\n",
    "\n",
    "with open(f'{folder_to_save_csvs}/links.csv', 'w') as links_csv:\n",
    "    links_csv.write('\\n'.join(links))"
   ]
  },
  {
   "attachments": {},
   "cell_type": "markdown",
   "metadata": {},
   "source": [
    "## Достаем объявления\n",
    "\n",
    "После того, как мы получили все ссылки на объявления, приступим к парсингу самих объявлений"
   ]
  },
  {
   "attachments": {},
   "cell_type": "markdown",
   "metadata": {},
   "source": [
    "Небольшая фукнция, которая проверяет наличие необходимых тегов на странице"
   ]
  },
  {
   "cell_type": "code",
   "execution_count": 8,
   "metadata": {},
   "outputs": [],
   "source": [
    "def parse_items(x: str):\n",
    "    if x is None:\n",
    "        return False\n",
    "    return 'params-paramsList__item' in x \\\n",
    "        or 'style-item-params-list-item' in x\n",
    "    # or 'style-item-address__string' in x \\\n",
    "    # or 'style-item-map-wrapper' in x and 'style-expanded' in x"
   ]
  },
  {
   "attachments": {},
   "cell_type": "markdown",
   "metadata": {},
   "source": [
    "Скачиваем страницы аналогично тому, как мы скачивали ссылки на объявления, только теперь проверяем на валидность и сохраняем файлы.\n",
    "\n",
    "Необходимость в скачивании нужна по нескольким причинам. Во-первых, для того, чтобы изменить таблицу с данными, не нужно заново качать страницы, достаточно изменить код их обрабатывающий. Во-вторых данные на сайте могут устареть: ранее работавшая ссылка может измениться, могут измениться данные по ссылке (иногда ссылка может просто перестать работать)."
   ]
  },
  {
   "cell_type": "code",
   "execution_count": 9,
   "metadata": {},
   "outputs": [
    {
     "name": "stderr",
     "output_type": "stream",
     "text": [
      "Links obtained:   7%|▋         | 263/4000 [17:03<4:01:10,  3.87s/it]"
     ]
    },
    {
     "name": "stdout",
     "output_type": "stream",
     "text": [
      "Что то пошло не так со ссылкой 262\n",
      "https://www.avito.ru/usinsk/kvartiry/1-k._kvartira_332m_45et._2627166168\n"
     ]
    },
    {
     "name": "stderr",
     "output_type": "stream",
     "text": [
      "Links obtained:  15%|█▍        | 581/4000 [37:47<3:47:44,  4.00s/it]"
     ]
    },
    {
     "name": "stdout",
     "output_type": "stream",
     "text": [
      "Что то пошло не так со ссылкой 580\n",
      "https://www.avito.ru/moskva/kvartiry/1-k._kvartira_28m_99et._2888043126\n"
     ]
    },
    {
     "name": "stderr",
     "output_type": "stream",
     "text": [
      "Links obtained:  21%|██        | 821/4000 [53:24<3:35:41,  4.07s/it]"
     ]
    },
    {
     "name": "stdout",
     "output_type": "stream",
     "text": [
      "Что то пошло не так со ссылкой 820\n",
      "https://www.avito.ru/kotelniki/kvartiry/2-k._kvartira_52m_817et._2543398295\n"
     ]
    },
    {
     "name": "stderr",
     "output_type": "stream",
     "text": [
      "Links obtained:  25%|██▌       | 1007/4000 [1:05:25<3:17:07,  3.95s/it]"
     ]
    },
    {
     "name": "stdout",
     "output_type": "stream",
     "text": [
      "Что то пошло не так со ссылкой 1006\n",
      "https://www.avito.ru/moskva/kvartiry/kvartira-studiya_154m_217et._2851811050\n"
     ]
    },
    {
     "name": "stderr",
     "output_type": "stream",
     "text": [
      "Links obtained:  32%|███▏      | 1268/4000 [1:22:19<2:52:31,  3.79s/it]"
     ]
    },
    {
     "name": "stdout",
     "output_type": "stream",
     "text": [
      "Что то пошло не так со ссылкой 1267\n",
      "https://www.avito.ru/kazan/kvartiry/2-k._kvartira_535m_419et._2889264860\n"
     ]
    },
    {
     "name": "stderr",
     "output_type": "stream",
     "text": [
      "Links obtained:  63%|██████▎   | 2523/4000 [2:44:14<1:34:03,  3.82s/it]"
     ]
    },
    {
     "name": "stdout",
     "output_type": "stream",
     "text": [
      "Что то пошло не так со ссылкой 2522\n",
      "https://www.avito.ru/ryazan/kvartiry/1-k._kvartira_406m_710et._2903814570\n"
     ]
    },
    {
     "name": "stderr",
     "output_type": "stream",
     "text": [
      "Links obtained:  72%|███████▏  | 2882/4000 [3:07:36<1:13:08,  3.92s/it]"
     ]
    },
    {
     "name": "stdout",
     "output_type": "stream",
     "text": [
      "Что то пошло не так со ссылкой 2881\n",
      "https://www.avito.ru/lipetsk/kvartiry/2-k._kvartira_68m_317et._2576190022\n"
     ]
    },
    {
     "name": "stderr",
     "output_type": "stream",
     "text": [
      "Links obtained:  90%|████████▉ | 3583/4000 [3:53:19<27:16,  3.92s/it]  "
     ]
    },
    {
     "name": "stdout",
     "output_type": "stream",
     "text": [
      "Что то пошло не так со ссылкой 3582\n",
      "https://www.avito.ru/evpatoriya/kvartiry/3-k._kvartira_66m_39et._3101477779\n"
     ]
    },
    {
     "name": "stderr",
     "output_type": "stream",
     "text": [
      "Links obtained:  92%|█████████▏| 3672/4000 [3:59:06<21:14,  3.88s/it]"
     ]
    },
    {
     "name": "stdout",
     "output_type": "stream",
     "text": [
      "Что то пошло не так со ссылкой 3671\n",
      "https://www.avito.ru/sochi/kvartiry/kvartira-studiya_289m_14et._2575605749\n"
     ]
    },
    {
     "name": "stderr",
     "output_type": "stream",
     "text": [
      "Links obtained: 100%|██████████| 4000/4000 [4:20:31<00:00,  3.83s/it]"
     ]
    }
   ],
   "source": [
    "pbar = tqdm(total=len(links), desc='Links obtained')\n",
    "\n",
    "for index, link in enumerate(links):\n",
    "    res = requests.get(\n",
    "        url=link,\n",
    "        headers={\n",
    "            'User-Agent': quote(random.choice(user_agents)),\n",
    "\n",
    "            # Очень желательно поставить реальную куку с сайта, иначе очень быстро забанят\n",
    "            'Cookie': cookie,\n",
    "        }\n",
    "    )\n",
    "\n",
    "    soup = BeautifulSoup(res.text)\n",
    "\n",
    "    parsed_data = soup.find_all(\n",
    "        name='li',\n",
    "        class_=lambda x: parse_items(x)\n",
    "    )\n",
    "\n",
    "    if len(parsed_data) == 0:\n",
    "        print(f'Что то пошло не так со ссылкой {index}\\n{link}')\n",
    "        with open(f'{folder_to_save_csvs}/trouble_links.txt', 'a') as trouble_links:\n",
    "            trouble_links.write(link + '\\n')\n",
    "        \n",
    "        continue\n",
    "\n",
    "    filename = f\"{folder_to_save_htmls}/{link.split('/')[-1]}.html\"\n",
    "    with open(filename, 'w') as html_file:\n",
    "        html_file.write(res.text)\n",
    "\n",
    "    with open(f'{folder_to_save_csvs}/data.csv', 'a') as output_csv:\n",
    "        output_csv.write(f'{link},{filename}\\n')\n",
    "\n",
    "    pbar.update()\n",
    "    sleep(3 + abs(random.uniform(0, 1)))\n"
   ]
  },
  {
   "attachments": {},
   "cell_type": "markdown",
   "metadata": {},
   "source": [
    "## Парсим страницы\n",
    "\n",
    "Теперь, когда у нас есть все необходимое, можно начать работать с данными.\n",
    "\n",
    "Напишем функцию, превращающую html страничку в словарь с данными"
   ]
  },
  {
   "cell_type": "code",
   "execution_count": 12,
   "metadata": {},
   "outputs": [
    {
     "data": {
      "text/plain": [
       "{'Общая площадь': '68\\xa0м²',\n",
       " 'Площадь кухни': '15\\xa0м²',\n",
       " 'Этаж': '11 из 31',\n",
       " 'Балкон или лоджия': 'балкон',\n",
       " 'Тип комнат': 'изолированные, смежные',\n",
       " 'Высота потолков': '3.2\\xa0м',\n",
       " 'Санузел': 'совмещенный',\n",
       " 'Окна': 'во двор, на солнечную сторону',\n",
       " 'Ремонт': 'дизайнерский',\n",
       " 'Тёплый пол': 'есть',\n",
       " 'Мебель': 'кухня, хранение одежды, спальные места',\n",
       " 'Техника': 'кондиционер, холодильник, стиральная машина, посудомоечная машина',\n",
       " 'Способ продажи': 'свободная',\n",
       " 'Вид сделки': 'возможна ипотека',\n",
       " 'Тип дома': 'монолитно-кирпичный',\n",
       " 'Год постройки': '2015',\n",
       " 'Этажей в доме': '31',\n",
       " 'Пассажирский лифт': '3',\n",
       " 'Грузовой лифт': '1',\n",
       " 'Двор': 'закрытая территория, детская площадка, спортивная площадка',\n",
       " 'Парковка': 'подземная, открытая во дворе, за шлагбаумом во дворе',\n",
       " 'Цена': 24500000.0,\n",
       " 'Валюта': 'RUB'}"
      ]
     },
     "execution_count": 12,
     "metadata": {},
     "output_type": "execute_result"
    }
   ],
   "source": [
    "# Напишем функцию, превращающую html страничку в словарь с данными\n",
    "def parse_html(filename: str):\n",
    "\n",
    "    with open(filename) as html_file:\n",
    "        soup = BeautifulSoup(html_file.read())\n",
    "\n",
    "    parsed_data = soup.find_all(\n",
    "        name='li',\n",
    "        class_=lambda x: parse_items(x)\n",
    "    )\n",
    "    \n",
    "    if not len(parsed_data):\n",
    "        return None\n",
    "\n",
    "    parsed_data[0] = re.sub('<style.*<\\/style>', '', str(parsed_data[0]))\n",
    "\n",
    "    price = float(soup.find(name='span', attrs={\n",
    "                  'itemprop': 'price'}).attrs['content'])\n",
    "    currency = soup.find(name='span', attrs={\n",
    "                         'itemprop': 'priceCurrency'}).attrs['content']\n",
    "\n",
    "    parsed_data = {x.contents[0].contents[0]: x.contents[1]\n",
    "                   for x in parsed_data[1:]}\n",
    "    parsed_data['Цена'] = price\n",
    "    parsed_data['Валюта'] = currency\n",
    "\n",
    "    return parsed_data\n",
    "\n",
    "\n",
    "parse_html(\n",
    "    f'{folder_to_save_htmls}/{links[0].split(\"/\")[-1]}.html')"
   ]
  },
  {
   "attachments": {},
   "cell_type": "markdown",
   "metadata": {},
   "source": [
    "Получим подобные словари для всех наших данных"
   ]
  },
  {
   "cell_type": "code",
   "execution_count": 13,
   "metadata": {},
   "outputs": [
    {
     "name": "stdout",
     "output_type": "stream",
     "text": [
      "{'Общая площадь': '68\\xa0м²', 'Площадь кухни': '15\\xa0м²', 'Этаж': '11 из 31', 'Балкон или лоджия': 'балкон', 'Тип комнат': 'изолированные, смежные', 'Высота потолков': '3.2\\xa0м', 'Санузел': 'совмещенный', 'Окна': 'во двор, на солнечную сторону', 'Ремонт': 'дизайнерский', 'Тёплый пол': 'есть', 'Мебель': 'кухня, хранение одежды, спальные места', 'Техника': 'кондиционер, холодильник, стиральная машина, посудомоечная машина', 'Способ продажи': 'свободная', 'Вид сделки': 'возможна ипотека', 'Тип дома': 'монолитно-кирпичный', 'Год постройки': '2015', 'Этажей в доме': '31', 'Пассажирский лифт': '3', 'Грузовой лифт': '1', 'Двор': 'закрытая территория, детская площадка, спортивная площадка', 'Парковка': 'подземная, открытая во дворе, за шлагбаумом во дворе', 'Цена': 24500000.0, 'Валюта': 'RUB', 'Ссылка': 'https://www.avito.ru/moskva/kvartiry/2-k._apartamenty_68m_1131et._2697437340'}\n",
      "{'Общая площадь': '72\\xa0м²', 'Площадь кухни': '13.4\\xa0м²', 'Жилая площадь': '43\\xa0м²', 'Этаж': '3 из 3', 'Балкон или лоджия': 'лоджия', 'Тип комнат': 'изолированные', 'Санузел': 'раздельный', 'Способ продажи': 'свободная', 'Тип дома': 'кирпичный', 'Этажей в доме': '3', 'Цена': 8900000.0, 'Валюта': 'RUB', 'Ссылка': 'https://www.avito.ru/selyatino/kvartiry/3-k._kvartira_72m_33et._2751575016'}\n",
      "{'Общая площадь': '59.2\\xa0м²', 'Площадь кухни': '6\\xa0м²', 'Этаж': '2 из 3', 'Тип комнат': 'изолированные, смежные', 'Санузел': 'раздельный', 'Ремонт': 'косметический', 'Способ продажи': 'свободная', 'Тип дома': 'панельный', 'Этажей в доме': '3', 'Двор': 'детская площадка', 'Парковка': 'открытая во дворе', 'Цена': 3499000.0, 'Валюта': 'RUB', 'Ссылка': 'https://www.avito.ru/novo-talitsy/kvartiry/4-k._kvartira_592m_23et._2899169847'}\n",
      "{'Общая площадь': '78.2\\xa0м²', 'Площадь кухни': '29.1\\xa0м²', 'Этаж': '5 из 9', 'Балкон или лоджия': 'балкон', 'Тип комнат': 'изолированные', 'Санузел': 'раздельный', 'Окна': 'во двор, на улицу', 'Ремонт': 'евро', 'Мебель': 'кухня, хранение одежды, спальные места', 'Техника': 'кондиционер, холодильник, стиральная машина, посудомоечная машина', 'Способ продажи': 'свободная', 'Вид сделки': 'возможна ипотека', 'Тип дома': 'кирпичный', 'Год постройки': '2019', 'Этажей в доме': '9', 'Пассажирский лифт': 'нет', 'Грузовой лифт': '1', 'В доме': 'газ', 'Двор': 'детская площадка', 'Парковка': 'открытая во дворе', 'Цена': 8200000.0, 'Валюта': 'RUB', 'Ссылка': 'https://www.avito.ru/velikiy_novgorod/kvartiry/3-k._kvartira_782m_59et._2470065859'}\n",
      "{'Общая площадь': '83.5\\xa0м²', 'Этаж': '12 из 12', 'Отделка': 'предчистовая', 'Название новостройки': <a class=\"styles-module-root-QmppR styles-module-root_noVisited-aFA10\" data-marker=\"nd-house-complex-link\" href=\"/catalog/novostroyki/perm/zhk_talisman/4316505?context=H4sIAAAAAAAA_0q0MrSqLraysFJKK8rPDUhMT1WyLrYyNLJSyixJzY3Pyo7PS8xNVbKuBQQAAP__CygxWikAAAA\" target=\"_blank\">ЖК «Талисман»</a>, 'Официальный застройщик': 'ООО СЗ «СИТИ Проект»', 'Тип участия': 'ДДУ по ФЗ 214', 'Срок сдачи': 'Сдача в 3 кв. 2024', 'Тип дома': 'монолитно-кирпичный', 'Этажей в доме': '12', 'Цена': 8897844.0, 'Валюта': 'RUB', 'Ссылка': 'https://www.avito.ru/perm/kvartiry/4-k._kvartira_835m_1212et._2727751263'}\n"
     ]
    }
   ],
   "source": [
    "all_dicts = []\n",
    "with open(f'{folder_to_save_csvs}/data.csv') as data_csv:\n",
    "    for line in data_csv.readlines():\n",
    "        link, filename = line.strip().split(',')\n",
    "\n",
    "        cur_dict = parse_html(filename)\n",
    "        if cur_dict is None:\n",
    "            continue\n",
    "        \n",
    "        cur_dict['Ссылка'] = link\n",
    "\n",
    "        all_dicts.append(cur_dict)\n",
    "\n",
    "for dict_ in all_dicts[:5]:\n",
    "    print(dict_)"
   ]
  },
  {
   "attachments": {},
   "cell_type": "markdown",
   "metadata": {},
   "source": [
    "## Сохраняем данные"
   ]
  },
  {
   "cell_type": "code",
   "execution_count": 14,
   "metadata": {},
   "outputs": [
    {
     "data": {
      "text/html": [
       "<div>\n",
       "<style scoped>\n",
       "    .dataframe tbody tr th:only-of-type {\n",
       "        vertical-align: middle;\n",
       "    }\n",
       "\n",
       "    .dataframe tbody tr th {\n",
       "        vertical-align: top;\n",
       "    }\n",
       "\n",
       "    .dataframe thead th {\n",
       "        text-align: right;\n",
       "    }\n",
       "</style>\n",
       "<table border=\"1\" class=\"dataframe\">\n",
       "  <thead>\n",
       "    <tr style=\"text-align: right;\">\n",
       "      <th></th>\n",
       "      <th>Общая площадь</th>\n",
       "      <th>Площадь кухни</th>\n",
       "      <th>Этаж</th>\n",
       "      <th>Балкон или лоджия</th>\n",
       "      <th>Тип комнат</th>\n",
       "      <th>Высота потолков</th>\n",
       "      <th>Санузел</th>\n",
       "      <th>Окна</th>\n",
       "      <th>Ремонт</th>\n",
       "      <th>Тёплый пол</th>\n",
       "      <th>...</th>\n",
       "      <th>Ссылка</th>\n",
       "      <th>Жилая площадь</th>\n",
       "      <th>В доме</th>\n",
       "      <th>Отделка</th>\n",
       "      <th>Название новостройки</th>\n",
       "      <th>Официальный застройщик</th>\n",
       "      <th>Тип участия</th>\n",
       "      <th>Срок сдачи</th>\n",
       "      <th>Корпус, строение</th>\n",
       "      <th>Запланирован снос</th>\n",
       "    </tr>\n",
       "  </thead>\n",
       "  <tbody>\n",
       "    <tr>\n",
       "      <th>0</th>\n",
       "      <td>68 м²</td>\n",
       "      <td>15 м²</td>\n",
       "      <td>11 из 31</td>\n",
       "      <td>балкон</td>\n",
       "      <td>изолированные, смежные</td>\n",
       "      <td>3.2 м</td>\n",
       "      <td>совмещенный</td>\n",
       "      <td>во двор, на солнечную сторону</td>\n",
       "      <td>дизайнерский</td>\n",
       "      <td>есть</td>\n",
       "      <td>...</td>\n",
       "      <td>https://www.avito.ru/moskva/kvartiry/2-k._apar...</td>\n",
       "      <td>NaN</td>\n",
       "      <td>NaN</td>\n",
       "      <td>NaN</td>\n",
       "      <td>NaN</td>\n",
       "      <td>NaN</td>\n",
       "      <td>NaN</td>\n",
       "      <td>NaN</td>\n",
       "      <td>NaN</td>\n",
       "      <td>NaN</td>\n",
       "    </tr>\n",
       "    <tr>\n",
       "      <th>1</th>\n",
       "      <td>72 м²</td>\n",
       "      <td>13.4 м²</td>\n",
       "      <td>3 из 3</td>\n",
       "      <td>лоджия</td>\n",
       "      <td>изолированные</td>\n",
       "      <td>NaN</td>\n",
       "      <td>раздельный</td>\n",
       "      <td>NaN</td>\n",
       "      <td>NaN</td>\n",
       "      <td>NaN</td>\n",
       "      <td>...</td>\n",
       "      <td>https://www.avito.ru/selyatino/kvartiry/3-k._k...</td>\n",
       "      <td>43 м²</td>\n",
       "      <td>NaN</td>\n",
       "      <td>NaN</td>\n",
       "      <td>NaN</td>\n",
       "      <td>NaN</td>\n",
       "      <td>NaN</td>\n",
       "      <td>NaN</td>\n",
       "      <td>NaN</td>\n",
       "      <td>NaN</td>\n",
       "    </tr>\n",
       "    <tr>\n",
       "      <th>2</th>\n",
       "      <td>59.2 м²</td>\n",
       "      <td>6 м²</td>\n",
       "      <td>2 из 3</td>\n",
       "      <td>NaN</td>\n",
       "      <td>изолированные, смежные</td>\n",
       "      <td>NaN</td>\n",
       "      <td>раздельный</td>\n",
       "      <td>NaN</td>\n",
       "      <td>косметический</td>\n",
       "      <td>NaN</td>\n",
       "      <td>...</td>\n",
       "      <td>https://www.avito.ru/novo-talitsy/kvartiry/4-k...</td>\n",
       "      <td>NaN</td>\n",
       "      <td>NaN</td>\n",
       "      <td>NaN</td>\n",
       "      <td>NaN</td>\n",
       "      <td>NaN</td>\n",
       "      <td>NaN</td>\n",
       "      <td>NaN</td>\n",
       "      <td>NaN</td>\n",
       "      <td>NaN</td>\n",
       "    </tr>\n",
       "    <tr>\n",
       "      <th>3</th>\n",
       "      <td>78.2 м²</td>\n",
       "      <td>29.1 м²</td>\n",
       "      <td>5 из 9</td>\n",
       "      <td>балкон</td>\n",
       "      <td>изолированные</td>\n",
       "      <td>NaN</td>\n",
       "      <td>раздельный</td>\n",
       "      <td>во двор, на улицу</td>\n",
       "      <td>евро</td>\n",
       "      <td>NaN</td>\n",
       "      <td>...</td>\n",
       "      <td>https://www.avito.ru/velikiy_novgorod/kvartiry...</td>\n",
       "      <td>NaN</td>\n",
       "      <td>газ</td>\n",
       "      <td>NaN</td>\n",
       "      <td>NaN</td>\n",
       "      <td>NaN</td>\n",
       "      <td>NaN</td>\n",
       "      <td>NaN</td>\n",
       "      <td>NaN</td>\n",
       "      <td>NaN</td>\n",
       "    </tr>\n",
       "    <tr>\n",
       "      <th>4</th>\n",
       "      <td>83.5 м²</td>\n",
       "      <td>NaN</td>\n",
       "      <td>12 из 12</td>\n",
       "      <td>NaN</td>\n",
       "      <td>NaN</td>\n",
       "      <td>NaN</td>\n",
       "      <td>NaN</td>\n",
       "      <td>NaN</td>\n",
       "      <td>NaN</td>\n",
       "      <td>NaN</td>\n",
       "      <td>...</td>\n",
       "      <td>https://www.avito.ru/perm/kvartiry/4-k._kvarti...</td>\n",
       "      <td>NaN</td>\n",
       "      <td>NaN</td>\n",
       "      <td>предчистовая</td>\n",
       "      <td>[ЖК «Талисман»]</td>\n",
       "      <td>ООО СЗ «СИТИ Проект»</td>\n",
       "      <td>ДДУ по ФЗ 214</td>\n",
       "      <td>Сдача в 3 кв. 2024</td>\n",
       "      <td>NaN</td>\n",
       "      <td>NaN</td>\n",
       "    </tr>\n",
       "  </tbody>\n",
       "</table>\n",
       "<p>5 rows × 33 columns</p>\n",
       "</div>"
      ],
      "text/plain": [
       "  Общая площадь Площадь кухни      Этаж Балкон или лоджия  \\\n",
       "0         68 м²         15 м²  11 из 31            балкон   \n",
       "1         72 м²       13.4 м²    3 из 3            лоджия   \n",
       "2       59.2 м²          6 м²    2 из 3               NaN   \n",
       "3       78.2 м²       29.1 м²    5 из 9            балкон   \n",
       "4       83.5 м²           NaN  12 из 12               NaN   \n",
       "\n",
       "               Тип комнат Высота потолков      Санузел  \\\n",
       "0  изолированные, смежные           3.2 м  совмещенный   \n",
       "1           изолированные             NaN   раздельный   \n",
       "2  изолированные, смежные             NaN   раздельный   \n",
       "3           изолированные             NaN   раздельный   \n",
       "4                     NaN             NaN          NaN   \n",
       "\n",
       "                            Окна         Ремонт Тёплый пол  ...  \\\n",
       "0  во двор, на солнечную сторону   дизайнерский       есть  ...   \n",
       "1                            NaN            NaN        NaN  ...   \n",
       "2                            NaN  косметический        NaN  ...   \n",
       "3              во двор, на улицу           евро        NaN  ...   \n",
       "4                            NaN            NaN        NaN  ...   \n",
       "\n",
       "                                              Ссылка Жилая площадь В доме  \\\n",
       "0  https://www.avito.ru/moskva/kvartiry/2-k._apar...           NaN    NaN   \n",
       "1  https://www.avito.ru/selyatino/kvartiry/3-k._k...         43 м²    NaN   \n",
       "2  https://www.avito.ru/novo-talitsy/kvartiry/4-k...           NaN    NaN   \n",
       "3  https://www.avito.ru/velikiy_novgorod/kvartiry...           NaN    газ   \n",
       "4  https://www.avito.ru/perm/kvartiry/4-k._kvarti...           NaN    NaN   \n",
       "\n",
       "        Отделка Название новостройки Официальный застройщик    Тип участия  \\\n",
       "0           NaN                  NaN                    NaN            NaN   \n",
       "1           NaN                  NaN                    NaN            NaN   \n",
       "2           NaN                  NaN                    NaN            NaN   \n",
       "3           NaN                  NaN                    NaN            NaN   \n",
       "4  предчистовая      [ЖК «Талисман»]   ООО СЗ «СИТИ Проект»  ДДУ по ФЗ 214   \n",
       "\n",
       "           Срок сдачи Корпус, строение Запланирован снос  \n",
       "0                 NaN              NaN               NaN  \n",
       "1                 NaN              NaN               NaN  \n",
       "2                 NaN              NaN               NaN  \n",
       "3                 NaN              NaN               NaN  \n",
       "4  Сдача в 3 кв. 2024              NaN               NaN  \n",
       "\n",
       "[5 rows x 33 columns]"
      ]
     },
     "execution_count": 14,
     "metadata": {},
     "output_type": "execute_result"
    }
   ],
   "source": [
    "df = pd.DataFrame(all_dicts)\n",
    "df.head()\n"
   ]
  },
  {
   "cell_type": "code",
   "execution_count": 15,
   "metadata": {},
   "outputs": [],
   "source": [
    "df.to_csv(f'{folder_to_save_csvs}/flats.csv', index=True)\n"
   ]
  }
 ],
 "metadata": {
  "kernelspec": {
   "display_name": "Python 3 (ipykernel)",
   "language": "python",
   "name": "python3"
  },
  "language_info": {
   "codemirror_mode": {
    "name": "ipython",
    "version": 3
   },
   "file_extension": ".py",
   "mimetype": "text/x-python",
   "name": "python",
   "nbconvert_exporter": "python",
   "pygments_lexer": "ipython3",
   "version": "3.10.6"
  }
 },
 "nbformat": 4,
 "nbformat_minor": 2
}
