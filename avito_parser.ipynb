{
 "cells": [
  {
   "cell_type": "markdown",
   "metadata": {},
   "source": [
    "# Парсинг данных с сайта **avito.ru**"
   ]
  },
  {
   "cell_type": "code",
   "execution_count": 1,
   "metadata": {},
   "outputs": [],
   "source": [
    "from bs4 import BeautifulSoup\n",
    "from tqdm import tqdm\n",
    "from time import sleep\n",
    "import requests\n",
    "import random\n",
    "from urllib.parse import quote\n",
    "import os\n",
    "import re\n",
    "import pandas as pd"
   ]
  },
  {
   "cell_type": "markdown",
   "metadata": {},
   "source": [
    "## Подготовка\n",
    "\n",
    "Для того, чтобы сайт не мог так просто заподозрить, что мы берем данные с него, возьмем заголовки с реального браузера."
   ]
  },
  {
   "cell_type": "code",
   "execution_count": 2,
   "metadata": {},
   "outputs": [],
   "source": [
    "with open('user_agents.txt', 'r') as parse_items:\n",
    "    user_agents = list(map(lambda x: x.strip(), parse_items.readlines()))\n"
   ]
  },
  {
   "cell_type": "markdown",
   "metadata": {},
   "source": [
    "Указываем ссылку, с которой будем брать данные `data_url` и ссылку-якорь, которая позволит создавать ссылки на страницы с объявлениями `base_url`."
   ]
  },
  {
   "cell_type": "code",
   "execution_count": 3,
   "metadata": {},
   "outputs": [],
   "source": [
    "# для москвы\n",
    "data_url = 'https://www.avito.ru/moskva/kvartiry/prodam-ASgBAgICAUSSA8YQ'\n",
    "# для всех регионов\n",
    "# data_url = 'https://www.avito.ru/all/kvartiry/prodam-ASgBAgICAUSSA8YQ'\n",
    "\n",
    "base_url = 'https://www.avito.ru'\n",
    "\n",
    "\n",
    "cookie = 'личная кука'\n",
    "dataset_size = 4000\n",
    "links = set()\n",
    "\n",
    "\n",
    "folder_to_save_csvs = 'new_csvs'\n",
    "folder_to_save_htmls = 'new_html_pages'\n"
   ]
  },
  {
   "cell_type": "markdown",
   "metadata": {},
   "source": [
    "## Приступаем к делу (парсим ссылки на объявления)\n",
    "\n",
    "Для начала нам придется достать все ссылки с объявлениями"
   ]
  },
  {
   "cell_type": "code",
   "execution_count": 4,
   "metadata": {},
   "outputs": [
    {
     "name": "stdout",
     "output_type": "stream",
     "text": [
      "Созданы папки для сохранения данных\n"
     ]
    }
   ],
   "source": [
    "os.path.exists(folder_to_save_htmls) or os.makedirs(folder_to_save_htmls)\n",
    "os.path.exists(folder_to_save_csvs) or os.makedirs(folder_to_save_csvs)\n",
    "print('Созданы папки для сохранения данных')\n"
   ]
  },
  {
   "cell_type": "code",
   "execution_count": 5,
   "metadata": {},
   "outputs": [
    {
     "name": "stderr",
     "output_type": "stream",
     "text": [
      "Links obtained: 100%|██████████| 4000/4000 [09:20<00:00,  7.13it/s]\n"
     ]
    }
   ],
   "source": [
    "pbar = tqdm(total=dataset_size, desc='Links obtained')\n",
    "\n",
    "current_page = 1\n",
    "while len(links) < dataset_size:\n",
    "\n",
    "    page = requests.get(\n",
    "        data_url,\n",
    "        \n",
    "        params={'p': current_page},\n",
    "        headers={\n",
    "            'User-Agent': quote(random.choice(user_agents)),\n",
    "\n",
    "            \n",
    "            'Cookie': cookie,\n",
    "        }\n",
    "    )\n",
    "\n",
    "    soup = BeautifulSoup(page.text, 'html.parser')\n",
    "    # print(soup.prettify())\n",
    "    # break\n",
    "    prev_len = len(links)\n",
    "\n",
    "    for item in soup.find_all(name='a', attrs={'data-marker': 'item-title'}):\n",
    "        if str(item.get('href')).startswith('http'):\n",
    "            continue\n",
    "\n",
    "        \n",
    "        cur_link = f'{base_url}{item.get(\"href\")}'.strip()\n",
    "\n",
    "        \n",
    "        if cur_link in links:\n",
    "            continue\n",
    "\n",
    "        links.add(cur_link)\n",
    "\n",
    "        if len(links) >= dataset_size:\n",
    "            break\n",
    "\n",
    "    pbar.update(len(links) - prev_len)\n",
    "    current_page += 1\n",
    "\n",
    "    \n",
    "    sleep(3 + abs(random.uniform(0, 1)))\n",
    "\n",
    "del pbar"
   ]
  },
  {
   "cell_type": "code",
   "execution_count": 6,
   "metadata": {},
   "outputs": [],
   "source": [
    "links = list(links)\n"
   ]
  },
  {
   "cell_type": "markdown",
   "metadata": {},
   "source": [
    "После того, как все ссылки получены, записываем на в файл, для того, чтобы нечаянно не потерять их в будущем"
   ]
  },
  {
   "cell_type": "code",
   "execution_count": 7,
   "metadata": {},
   "outputs": [
    {
     "name": "stdout",
     "output_type": "stream",
     "text": [
      "Примеры ссылок:\n",
      "https://www.avito.ru/moskva/kvartiry/3-k._kvartira_61m_319et._3058950582\n",
      "https://www.avito.ru/moskva/kvartiry/1-k._kvartira_26m_89et._3020721837\n",
      "https://www.avito.ru/moskva/kvartiry/kvartira-studiya_14m_15et._2965582890\n",
      "https://www.avito.ru/moskva/kvartiry/kvartira-studiya_138m_19et._2939136816\n",
      "https://www.avito.ru/moskva/kvartiry/5-k._kvartira_168m_35et._2901413763\n",
      "\n",
      "Всего ссылок 4000\n"
     ]
    }
   ],
   "source": [
    "print(\"Примеры ссылок:\")\n",
    "print(*links[:5], sep='\\n')\n",
    "print()\n",
    "print(\"Всего ссылок {}\".format(len(links)))\n",
    "\n",
    "with open(f'{folder_to_save_csvs}/links.csv', 'w') as links_csv:\n",
    "    links_csv.write('\\n'.join(links))\n"
   ]
  },
  {
   "cell_type": "markdown",
   "metadata": {},
   "source": [
    "## Достаем объявления\n",
    "\n",
    "После того, как мы получили все ссылки на объявления, приступим к парсингу самих объявлений"
   ]
  },
  {
   "cell_type": "markdown",
   "metadata": {},
   "source": [
    "Небольшая фукнция, которая проверяет наличие необходимых тегов на странице"
   ]
  },
  {
   "cell_type": "code",
   "execution_count": 8,
   "metadata": {},
   "outputs": [],
   "source": [
    "def parse_items(x: str):\n",
    "    if x is None:\n",
    "        return False\n",
    "    return 'params-paramsList__item' in x \\\n",
    "        or 'style-item-params-list-item' in x\n",
    "    # or 'style-item-address__string' in x \\\n",
    "    # or 'style-item-map-wrapper' in x and 'style-expanded' in x\n"
   ]
  },
  {
   "cell_type": "code",
   "execution_count": 9,
   "metadata": {},
   "outputs": [
    {
     "name": "stderr",
     "output_type": "stream",
     "text": [
      "Links obtained:  12%|█▏        | 485/4000 [35:53<4:27:07,  4.56s/it]"
     ]
    },
    {
     "name": "stdout",
     "output_type": "stream",
     "text": [
      "Что то пошло не так со ссылкой 485\n",
      "https://www.avito.ru/moskva/kvartiry/2-k._kvartira_539m_1316et._3077850052\n"
     ]
    },
    {
     "name": "stderr",
     "output_type": "stream",
     "text": [
      "Links obtained:  13%|█▎        | 519/4000 [38:28<4:12:02,  4.34s/it]"
     ]
    },
    {
     "name": "stdout",
     "output_type": "stream",
     "text": [
      "Что то пошло не так со ссылкой 520\n",
      "https://www.avito.ru/moskva/kvartiry/2-k._apartamenty_565m_1928et._2831470833\n"
     ]
    },
    {
     "name": "stderr",
     "output_type": "stream",
     "text": [
      "Links obtained:  17%|█▋        | 673/4000 [50:28<4:25:00,  4.78s/it] "
     ]
    },
    {
     "name": "stdout",
     "output_type": "stream",
     "text": [
      "Что то пошло не так со ссылкой 675\n",
      "https://www.avito.ru/moskva/kvartiry/1-k._kvartira_30m_59et._2654531623\n"
     ]
    },
    {
     "name": "stderr",
     "output_type": "stream",
     "text": [
      "Links obtained:  22%|██▏       | 881/4000 [1:05:54<4:03:09,  4.68s/it]"
     ]
    },
    {
     "name": "stdout",
     "output_type": "stream",
     "text": [
      "Что то пошло не так со ссылкой 884\n",
      "https://www.avito.ru/moskva/kvartiry/3-k._kvartira_946m_55et._2927013031\n"
     ]
    },
    {
     "name": "stderr",
     "output_type": "stream",
     "text": [
      "Links obtained:  38%|███▊      | 1509/4000 [1:52:50<3:09:00,  4.55s/it]"
     ]
    },
    {
     "name": "stdout",
     "output_type": "stream",
     "text": [
      "Что то пошло не так со ссылкой 1513\n",
      "https://www.avito.ru/moskva/kvartiry/3-k._kvartira_88m_28et._3033810478\n"
     ]
    },
    {
     "name": "stderr",
     "output_type": "stream",
     "text": [
      "Links obtained:  38%|███▊      | 1533/4000 [1:54:36<3:02:37,  4.44s/it]"
     ]
    },
    {
     "name": "stdout",
     "output_type": "stream",
     "text": [
      "Что то пошло не так со ссылкой 1538\n",
      "https://www.avito.ru/moskva/kvartiry/kvartira-studiya_20m_1616et._2967262989\n"
     ]
    },
    {
     "name": "stderr",
     "output_type": "stream",
     "text": [
      "Links obtained:  38%|███▊      | 1539/4000 [1:56:05<5:20:06,  7.80s/it] "
     ]
    },
    {
     "name": "stdout",
     "output_type": "stream",
     "text": [
      "Что то пошло не так со ссылкой 1545\n",
      "https://www.avito.ru/moskva/kvartiry/1-k._kvartira_306m_45et._2603840808\n"
     ]
    },
    {
     "name": "stderr",
     "output_type": "stream",
     "text": [
      "Links obtained:  40%|████      | 1605/4000 [2:00:59<2:52:04,  4.31s/it]"
     ]
    },
    {
     "name": "stdout",
     "output_type": "stream",
     "text": [
      "Что то пошло не так со ссылкой 1612\n",
      "https://www.avito.ru/moskva/kvartiry/1-k._kvartira_423m_612et._3078131246\n"
     ]
    },
    {
     "name": "stderr",
     "output_type": "stream",
     "text": [
      "Links obtained:  47%|████▋     | 1882/4000 [2:21:37<3:23:44,  5.77s/it]"
     ]
    },
    {
     "name": "stdout",
     "output_type": "stream",
     "text": [
      "Что то пошло не так со ссылкой 1890\n",
      "https://www.avito.ru/moskva/kvartiry/kvartira-studiya_161m_217et._2967056355\n"
     ]
    },
    {
     "name": "stderr",
     "output_type": "stream",
     "text": [
      "Links obtained:  49%|████▉     | 1971/4000 [2:28:08<2:27:56,  4.37s/it]"
     ]
    },
    {
     "name": "stdout",
     "output_type": "stream",
     "text": [
      "Что то пошло не так со ссылкой 1980\n",
      "https://www.avito.ru/moskva/kvartiry/apartamenty-studiya_193m_815et._3090614256\n"
     ]
    },
    {
     "name": "stderr",
     "output_type": "stream",
     "text": [
      "Links obtained:  56%|█████▌    | 2228/4000 [2:47:14<2:13:34,  4.52s/it]"
     ]
    },
    {
     "name": "stdout",
     "output_type": "stream",
     "text": [
      "Что то пошло не так со ссылкой 2238\n",
      "https://www.avito.ru/moskva/kvartiry/kvartira-studiya_196m_725et._2578122851\n"
     ]
    },
    {
     "name": "stderr",
     "output_type": "stream",
     "text": [
      "Links obtained:  58%|█████▊    | 2321/4000 [2:54:04<2:10:22,  4.66s/it]"
     ]
    },
    {
     "name": "stdout",
     "output_type": "stream",
     "text": [
      "Что то пошло не так со ссылкой 2332\n",
      "https://www.avito.ru/moskva/kvartiry/2-k._kvartira_96m_1218et._3186521726\n"
     ]
    },
    {
     "name": "stderr",
     "output_type": "stream",
     "text": [
      "Links obtained:  61%|██████    | 2431/4000 [3:02:13<1:57:03,  4.48s/it]"
     ]
    },
    {
     "name": "stdout",
     "output_type": "stream",
     "text": [
      "Что то пошло не так со ссылкой 2443\n",
      "https://www.avito.ru/moskva/kvartiry/3-k._kvartira_641m_316et._2962726010\n"
     ]
    },
    {
     "name": "stderr",
     "output_type": "stream",
     "text": [
      "Links obtained:  63%|██████▎   | 2534/4000 [3:09:50<1:42:00,  4.17s/it]"
     ]
    },
    {
     "ename": "ConnectionError",
     "evalue": "('Connection aborted.', RemoteDisconnected('Remote end closed connection without response'))",
     "output_type": "error",
     "traceback": [
      "\u001b[0;31m---------------------------------------------------------------------------\u001b[0m",
      "\u001b[0;31mRemoteDisconnected\u001b[0m                        Traceback (most recent call last)",
      "File \u001b[0;32m~/.local/lib/python3.10/site-packages/urllib3/connectionpool.py:703\u001b[0m, in \u001b[0;36mHTTPConnectionPool.urlopen\u001b[0;34m(self, method, url, body, headers, retries, redirect, assert_same_host, timeout, pool_timeout, release_conn, chunked, body_pos, **response_kw)\u001b[0m\n\u001b[1;32m    702\u001b[0m \u001b[39m# Make the request on the httplib connection object.\u001b[39;00m\n\u001b[0;32m--> 703\u001b[0m httplib_response \u001b[39m=\u001b[39m \u001b[39mself\u001b[39;49m\u001b[39m.\u001b[39;49m_make_request(\n\u001b[1;32m    704\u001b[0m     conn,\n\u001b[1;32m    705\u001b[0m     method,\n\u001b[1;32m    706\u001b[0m     url,\n\u001b[1;32m    707\u001b[0m     timeout\u001b[39m=\u001b[39;49mtimeout_obj,\n\u001b[1;32m    708\u001b[0m     body\u001b[39m=\u001b[39;49mbody,\n\u001b[1;32m    709\u001b[0m     headers\u001b[39m=\u001b[39;49mheaders,\n\u001b[1;32m    710\u001b[0m     chunked\u001b[39m=\u001b[39;49mchunked,\n\u001b[1;32m    711\u001b[0m )\n\u001b[1;32m    713\u001b[0m \u001b[39m# If we're going to release the connection in ``finally:``, then\u001b[39;00m\n\u001b[1;32m    714\u001b[0m \u001b[39m# the response doesn't need to know about the connection. Otherwise\u001b[39;00m\n\u001b[1;32m    715\u001b[0m \u001b[39m# it will also try to release it and we'll have a double-release\u001b[39;00m\n\u001b[1;32m    716\u001b[0m \u001b[39m# mess.\u001b[39;00m\n",
      "File \u001b[0;32m~/.local/lib/python3.10/site-packages/urllib3/connectionpool.py:449\u001b[0m, in \u001b[0;36mHTTPConnectionPool._make_request\u001b[0;34m(self, conn, method, url, timeout, chunked, **httplib_request_kw)\u001b[0m\n\u001b[1;32m    445\u001b[0m         \u001b[39mexcept\u001b[39;00m \u001b[39mBaseException\u001b[39;00m \u001b[39mas\u001b[39;00m e:\n\u001b[1;32m    446\u001b[0m             \u001b[39m# Remove the TypeError from the exception chain in\u001b[39;00m\n\u001b[1;32m    447\u001b[0m             \u001b[39m# Python 3 (including for exceptions like SystemExit).\u001b[39;00m\n\u001b[1;32m    448\u001b[0m             \u001b[39m# Otherwise it looks like a bug in the code.\u001b[39;00m\n\u001b[0;32m--> 449\u001b[0m             six\u001b[39m.\u001b[39;49mraise_from(e, \u001b[39mNone\u001b[39;49;00m)\n\u001b[1;32m    450\u001b[0m \u001b[39mexcept\u001b[39;00m (SocketTimeout, BaseSSLError, SocketError) \u001b[39mas\u001b[39;00m e:\n",
      "File \u001b[0;32m<string>:3\u001b[0m, in \u001b[0;36mraise_from\u001b[0;34m(value, from_value)\u001b[0m\n",
      "File \u001b[0;32m~/.local/lib/python3.10/site-packages/urllib3/connectionpool.py:444\u001b[0m, in \u001b[0;36mHTTPConnectionPool._make_request\u001b[0;34m(self, conn, method, url, timeout, chunked, **httplib_request_kw)\u001b[0m\n\u001b[1;32m    443\u001b[0m \u001b[39mtry\u001b[39;00m:\n\u001b[0;32m--> 444\u001b[0m     httplib_response \u001b[39m=\u001b[39m conn\u001b[39m.\u001b[39;49mgetresponse()\n\u001b[1;32m    445\u001b[0m \u001b[39mexcept\u001b[39;00m \u001b[39mBaseException\u001b[39;00m \u001b[39mas\u001b[39;00m e:\n\u001b[1;32m    446\u001b[0m     \u001b[39m# Remove the TypeError from the exception chain in\u001b[39;00m\n\u001b[1;32m    447\u001b[0m     \u001b[39m# Python 3 (including for exceptions like SystemExit).\u001b[39;00m\n\u001b[1;32m    448\u001b[0m     \u001b[39m# Otherwise it looks like a bug in the code.\u001b[39;00m\n",
      "File \u001b[0;32m/usr/lib/python3.10/http/client.py:1374\u001b[0m, in \u001b[0;36mHTTPConnection.getresponse\u001b[0;34m(self)\u001b[0m\n\u001b[1;32m   1373\u001b[0m \u001b[39mtry\u001b[39;00m:\n\u001b[0;32m-> 1374\u001b[0m     response\u001b[39m.\u001b[39;49mbegin()\n\u001b[1;32m   1375\u001b[0m \u001b[39mexcept\u001b[39;00m \u001b[39mConnectionError\u001b[39;00m:\n",
      "File \u001b[0;32m/usr/lib/python3.10/http/client.py:318\u001b[0m, in \u001b[0;36mHTTPResponse.begin\u001b[0;34m(self)\u001b[0m\n\u001b[1;32m    317\u001b[0m \u001b[39mwhile\u001b[39;00m \u001b[39mTrue\u001b[39;00m:\n\u001b[0;32m--> 318\u001b[0m     version, status, reason \u001b[39m=\u001b[39m \u001b[39mself\u001b[39;49m\u001b[39m.\u001b[39;49m_read_status()\n\u001b[1;32m    319\u001b[0m     \u001b[39mif\u001b[39;00m status \u001b[39m!=\u001b[39m CONTINUE:\n",
      "File \u001b[0;32m/usr/lib/python3.10/http/client.py:287\u001b[0m, in \u001b[0;36mHTTPResponse._read_status\u001b[0;34m(self)\u001b[0m\n\u001b[1;32m    284\u001b[0m \u001b[39mif\u001b[39;00m \u001b[39mnot\u001b[39;00m line:\n\u001b[1;32m    285\u001b[0m     \u001b[39m# Presumably, the server closed the connection before\u001b[39;00m\n\u001b[1;32m    286\u001b[0m     \u001b[39m# sending a valid response.\u001b[39;00m\n\u001b[0;32m--> 287\u001b[0m     \u001b[39mraise\u001b[39;00m RemoteDisconnected(\u001b[39m\"\u001b[39m\u001b[39mRemote end closed connection without\u001b[39m\u001b[39m\"\u001b[39m\n\u001b[1;32m    288\u001b[0m                              \u001b[39m\"\u001b[39m\u001b[39m response\u001b[39m\u001b[39m\"\u001b[39m)\n\u001b[1;32m    289\u001b[0m \u001b[39mtry\u001b[39;00m:\n",
      "\u001b[0;31mRemoteDisconnected\u001b[0m: Remote end closed connection without response",
      "\nDuring handling of the above exception, another exception occurred:\n",
      "\u001b[0;31mProtocolError\u001b[0m                             Traceback (most recent call last)",
      "File \u001b[0;32m~/.local/lib/python3.10/site-packages/requests/adapters.py:489\u001b[0m, in \u001b[0;36mHTTPAdapter.send\u001b[0;34m(self, request, stream, timeout, verify, cert, proxies)\u001b[0m\n\u001b[1;32m    488\u001b[0m \u001b[39mif\u001b[39;00m \u001b[39mnot\u001b[39;00m chunked:\n\u001b[0;32m--> 489\u001b[0m     resp \u001b[39m=\u001b[39m conn\u001b[39m.\u001b[39;49murlopen(\n\u001b[1;32m    490\u001b[0m         method\u001b[39m=\u001b[39;49mrequest\u001b[39m.\u001b[39;49mmethod,\n\u001b[1;32m    491\u001b[0m         url\u001b[39m=\u001b[39;49murl,\n\u001b[1;32m    492\u001b[0m         body\u001b[39m=\u001b[39;49mrequest\u001b[39m.\u001b[39;49mbody,\n\u001b[1;32m    493\u001b[0m         headers\u001b[39m=\u001b[39;49mrequest\u001b[39m.\u001b[39;49mheaders,\n\u001b[1;32m    494\u001b[0m         redirect\u001b[39m=\u001b[39;49m\u001b[39mFalse\u001b[39;49;00m,\n\u001b[1;32m    495\u001b[0m         assert_same_host\u001b[39m=\u001b[39;49m\u001b[39mFalse\u001b[39;49;00m,\n\u001b[1;32m    496\u001b[0m         preload_content\u001b[39m=\u001b[39;49m\u001b[39mFalse\u001b[39;49;00m,\n\u001b[1;32m    497\u001b[0m         decode_content\u001b[39m=\u001b[39;49m\u001b[39mFalse\u001b[39;49;00m,\n\u001b[1;32m    498\u001b[0m         retries\u001b[39m=\u001b[39;49m\u001b[39mself\u001b[39;49m\u001b[39m.\u001b[39;49mmax_retries,\n\u001b[1;32m    499\u001b[0m         timeout\u001b[39m=\u001b[39;49mtimeout,\n\u001b[1;32m    500\u001b[0m     )\n\u001b[1;32m    502\u001b[0m \u001b[39m# Send the request.\u001b[39;00m\n\u001b[1;32m    503\u001b[0m \u001b[39melse\u001b[39;00m:\n",
      "File \u001b[0;32m~/.local/lib/python3.10/site-packages/urllib3/connectionpool.py:787\u001b[0m, in \u001b[0;36mHTTPConnectionPool.urlopen\u001b[0;34m(self, method, url, body, headers, retries, redirect, assert_same_host, timeout, pool_timeout, release_conn, chunked, body_pos, **response_kw)\u001b[0m\n\u001b[1;32m    785\u001b[0m     e \u001b[39m=\u001b[39m ProtocolError(\u001b[39m\"\u001b[39m\u001b[39mConnection aborted.\u001b[39m\u001b[39m\"\u001b[39m, e)\n\u001b[0;32m--> 787\u001b[0m retries \u001b[39m=\u001b[39m retries\u001b[39m.\u001b[39;49mincrement(\n\u001b[1;32m    788\u001b[0m     method, url, error\u001b[39m=\u001b[39;49me, _pool\u001b[39m=\u001b[39;49m\u001b[39mself\u001b[39;49m, _stacktrace\u001b[39m=\u001b[39;49msys\u001b[39m.\u001b[39;49mexc_info()[\u001b[39m2\u001b[39;49m]\n\u001b[1;32m    789\u001b[0m )\n\u001b[1;32m    790\u001b[0m retries\u001b[39m.\u001b[39msleep()\n",
      "File \u001b[0;32m~/.local/lib/python3.10/site-packages/urllib3/util/retry.py:550\u001b[0m, in \u001b[0;36mRetry.increment\u001b[0;34m(self, method, url, response, error, _pool, _stacktrace)\u001b[0m\n\u001b[1;32m    549\u001b[0m \u001b[39mif\u001b[39;00m read \u001b[39mis\u001b[39;00m \u001b[39mFalse\u001b[39;00m \u001b[39mor\u001b[39;00m \u001b[39mnot\u001b[39;00m \u001b[39mself\u001b[39m\u001b[39m.\u001b[39m_is_method_retryable(method):\n\u001b[0;32m--> 550\u001b[0m     \u001b[39mraise\u001b[39;00m six\u001b[39m.\u001b[39;49mreraise(\u001b[39mtype\u001b[39;49m(error), error, _stacktrace)\n\u001b[1;32m    551\u001b[0m \u001b[39melif\u001b[39;00m read \u001b[39mis\u001b[39;00m \u001b[39mnot\u001b[39;00m \u001b[39mNone\u001b[39;00m:\n",
      "File \u001b[0;32m~/.local/lib/python3.10/site-packages/urllib3/packages/six.py:769\u001b[0m, in \u001b[0;36mreraise\u001b[0;34m(tp, value, tb)\u001b[0m\n\u001b[1;32m    768\u001b[0m \u001b[39mif\u001b[39;00m value\u001b[39m.\u001b[39m__traceback__ \u001b[39mis\u001b[39;00m \u001b[39mnot\u001b[39;00m tb:\n\u001b[0;32m--> 769\u001b[0m     \u001b[39mraise\u001b[39;00m value\u001b[39m.\u001b[39mwith_traceback(tb)\n\u001b[1;32m    770\u001b[0m \u001b[39mraise\u001b[39;00m value\n",
      "File \u001b[0;32m~/.local/lib/python3.10/site-packages/urllib3/connectionpool.py:703\u001b[0m, in \u001b[0;36mHTTPConnectionPool.urlopen\u001b[0;34m(self, method, url, body, headers, retries, redirect, assert_same_host, timeout, pool_timeout, release_conn, chunked, body_pos, **response_kw)\u001b[0m\n\u001b[1;32m    702\u001b[0m \u001b[39m# Make the request on the httplib connection object.\u001b[39;00m\n\u001b[0;32m--> 703\u001b[0m httplib_response \u001b[39m=\u001b[39m \u001b[39mself\u001b[39;49m\u001b[39m.\u001b[39;49m_make_request(\n\u001b[1;32m    704\u001b[0m     conn,\n\u001b[1;32m    705\u001b[0m     method,\n\u001b[1;32m    706\u001b[0m     url,\n\u001b[1;32m    707\u001b[0m     timeout\u001b[39m=\u001b[39;49mtimeout_obj,\n\u001b[1;32m    708\u001b[0m     body\u001b[39m=\u001b[39;49mbody,\n\u001b[1;32m    709\u001b[0m     headers\u001b[39m=\u001b[39;49mheaders,\n\u001b[1;32m    710\u001b[0m     chunked\u001b[39m=\u001b[39;49mchunked,\n\u001b[1;32m    711\u001b[0m )\n\u001b[1;32m    713\u001b[0m \u001b[39m# If we're going to release the connection in ``finally:``, then\u001b[39;00m\n\u001b[1;32m    714\u001b[0m \u001b[39m# the response doesn't need to know about the connection. Otherwise\u001b[39;00m\n\u001b[1;32m    715\u001b[0m \u001b[39m# it will also try to release it and we'll have a double-release\u001b[39;00m\n\u001b[1;32m    716\u001b[0m \u001b[39m# mess.\u001b[39;00m\n",
      "File \u001b[0;32m~/.local/lib/python3.10/site-packages/urllib3/connectionpool.py:449\u001b[0m, in \u001b[0;36mHTTPConnectionPool._make_request\u001b[0;34m(self, conn, method, url, timeout, chunked, **httplib_request_kw)\u001b[0m\n\u001b[1;32m    445\u001b[0m         \u001b[39mexcept\u001b[39;00m \u001b[39mBaseException\u001b[39;00m \u001b[39mas\u001b[39;00m e:\n\u001b[1;32m    446\u001b[0m             \u001b[39m# Remove the TypeError from the exception chain in\u001b[39;00m\n\u001b[1;32m    447\u001b[0m             \u001b[39m# Python 3 (including for exceptions like SystemExit).\u001b[39;00m\n\u001b[1;32m    448\u001b[0m             \u001b[39m# Otherwise it looks like a bug in the code.\u001b[39;00m\n\u001b[0;32m--> 449\u001b[0m             six\u001b[39m.\u001b[39;49mraise_from(e, \u001b[39mNone\u001b[39;49;00m)\n\u001b[1;32m    450\u001b[0m \u001b[39mexcept\u001b[39;00m (SocketTimeout, BaseSSLError, SocketError) \u001b[39mas\u001b[39;00m e:\n",
      "File \u001b[0;32m<string>:3\u001b[0m, in \u001b[0;36mraise_from\u001b[0;34m(value, from_value)\u001b[0m\n",
      "File \u001b[0;32m~/.local/lib/python3.10/site-packages/urllib3/connectionpool.py:444\u001b[0m, in \u001b[0;36mHTTPConnectionPool._make_request\u001b[0;34m(self, conn, method, url, timeout, chunked, **httplib_request_kw)\u001b[0m\n\u001b[1;32m    443\u001b[0m \u001b[39mtry\u001b[39;00m:\n\u001b[0;32m--> 444\u001b[0m     httplib_response \u001b[39m=\u001b[39m conn\u001b[39m.\u001b[39;49mgetresponse()\n\u001b[1;32m    445\u001b[0m \u001b[39mexcept\u001b[39;00m \u001b[39mBaseException\u001b[39;00m \u001b[39mas\u001b[39;00m e:\n\u001b[1;32m    446\u001b[0m     \u001b[39m# Remove the TypeError from the exception chain in\u001b[39;00m\n\u001b[1;32m    447\u001b[0m     \u001b[39m# Python 3 (including for exceptions like SystemExit).\u001b[39;00m\n\u001b[1;32m    448\u001b[0m     \u001b[39m# Otherwise it looks like a bug in the code.\u001b[39;00m\n",
      "File \u001b[0;32m/usr/lib/python3.10/http/client.py:1374\u001b[0m, in \u001b[0;36mHTTPConnection.getresponse\u001b[0;34m(self)\u001b[0m\n\u001b[1;32m   1373\u001b[0m \u001b[39mtry\u001b[39;00m:\n\u001b[0;32m-> 1374\u001b[0m     response\u001b[39m.\u001b[39;49mbegin()\n\u001b[1;32m   1375\u001b[0m \u001b[39mexcept\u001b[39;00m \u001b[39mConnectionError\u001b[39;00m:\n",
      "File \u001b[0;32m/usr/lib/python3.10/http/client.py:318\u001b[0m, in \u001b[0;36mHTTPResponse.begin\u001b[0;34m(self)\u001b[0m\n\u001b[1;32m    317\u001b[0m \u001b[39mwhile\u001b[39;00m \u001b[39mTrue\u001b[39;00m:\n\u001b[0;32m--> 318\u001b[0m     version, status, reason \u001b[39m=\u001b[39m \u001b[39mself\u001b[39;49m\u001b[39m.\u001b[39;49m_read_status()\n\u001b[1;32m    319\u001b[0m     \u001b[39mif\u001b[39;00m status \u001b[39m!=\u001b[39m CONTINUE:\n",
      "File \u001b[0;32m/usr/lib/python3.10/http/client.py:287\u001b[0m, in \u001b[0;36mHTTPResponse._read_status\u001b[0;34m(self)\u001b[0m\n\u001b[1;32m    284\u001b[0m \u001b[39mif\u001b[39;00m \u001b[39mnot\u001b[39;00m line:\n\u001b[1;32m    285\u001b[0m     \u001b[39m# Presumably, the server closed the connection before\u001b[39;00m\n\u001b[1;32m    286\u001b[0m     \u001b[39m# sending a valid response.\u001b[39;00m\n\u001b[0;32m--> 287\u001b[0m     \u001b[39mraise\u001b[39;00m RemoteDisconnected(\u001b[39m\"\u001b[39m\u001b[39mRemote end closed connection without\u001b[39m\u001b[39m\"\u001b[39m\n\u001b[1;32m    288\u001b[0m                              \u001b[39m\"\u001b[39m\u001b[39m response\u001b[39m\u001b[39m\"\u001b[39m)\n\u001b[1;32m    289\u001b[0m \u001b[39mtry\u001b[39;00m:\n",
      "\u001b[0;31mProtocolError\u001b[0m: ('Connection aborted.', RemoteDisconnected('Remote end closed connection without response'))",
      "\nDuring handling of the above exception, another exception occurred:\n",
      "\u001b[0;31mConnectionError\u001b[0m                           Traceback (most recent call last)",
      "Cell \u001b[0;32mIn[9], line 4\u001b[0m\n\u001b[1;32m      1\u001b[0m pbar \u001b[39m=\u001b[39m tqdm(total\u001b[39m=\u001b[39m\u001b[39mlen\u001b[39m(links), desc\u001b[39m=\u001b[39m\u001b[39m'\u001b[39m\u001b[39mLinks obtained\u001b[39m\u001b[39m'\u001b[39m)\n\u001b[1;32m      3\u001b[0m \u001b[39mfor\u001b[39;00m index, link \u001b[39min\u001b[39;00m \u001b[39menumerate\u001b[39m(links):\n\u001b[0;32m----> 4\u001b[0m     res \u001b[39m=\u001b[39m requests\u001b[39m.\u001b[39;49mget(\n\u001b[1;32m      5\u001b[0m         url\u001b[39m=\u001b[39;49mlink,\n\u001b[1;32m      6\u001b[0m         headers\u001b[39m=\u001b[39;49m{\n\u001b[1;32m      7\u001b[0m             \u001b[39m'\u001b[39;49m\u001b[39mUser-Agent\u001b[39;49m\u001b[39m'\u001b[39;49m: quote(random\u001b[39m.\u001b[39;49mchoice(user_agents)),\n\u001b[1;32m      8\u001b[0m \n\u001b[1;32m      9\u001b[0m             \u001b[39m# Очень желательно поставить реальную куку с сайта, иначе очень быстро забанят\u001b[39;49;00m\n\u001b[1;32m     10\u001b[0m             \u001b[39m'\u001b[39;49m\u001b[39mCookie\u001b[39;49m\u001b[39m'\u001b[39;49m: cookie,\n\u001b[1;32m     11\u001b[0m         }\n\u001b[1;32m     12\u001b[0m     )\n\u001b[1;32m     14\u001b[0m     soup \u001b[39m=\u001b[39m BeautifulSoup(res\u001b[39m.\u001b[39mtext)\n\u001b[1;32m     16\u001b[0m     parsed_data \u001b[39m=\u001b[39m soup\u001b[39m.\u001b[39mfind_all(\n\u001b[1;32m     17\u001b[0m         name\u001b[39m=\u001b[39m\u001b[39m'\u001b[39m\u001b[39mli\u001b[39m\u001b[39m'\u001b[39m,\n\u001b[1;32m     18\u001b[0m         class_\u001b[39m=\u001b[39m\u001b[39mlambda\u001b[39;00m x: parse_items(x)\n\u001b[1;32m     19\u001b[0m     )\n",
      "File \u001b[0;32m~/.local/lib/python3.10/site-packages/requests/api.py:73\u001b[0m, in \u001b[0;36mget\u001b[0;34m(url, params, **kwargs)\u001b[0m\n\u001b[1;32m     62\u001b[0m \u001b[39mdef\u001b[39;00m \u001b[39mget\u001b[39m(url, params\u001b[39m=\u001b[39m\u001b[39mNone\u001b[39;00m, \u001b[39m*\u001b[39m\u001b[39m*\u001b[39mkwargs):\n\u001b[1;32m     63\u001b[0m \u001b[39m    \u001b[39m\u001b[39mr\u001b[39m\u001b[39m\"\"\"Sends a GET request.\u001b[39;00m\n\u001b[1;32m     64\u001b[0m \n\u001b[1;32m     65\u001b[0m \u001b[39m    :param url: URL for the new :class:`Request` object.\u001b[39;00m\n\u001b[0;32m   (...)\u001b[0m\n\u001b[1;32m     70\u001b[0m \u001b[39m    :rtype: requests.Response\u001b[39;00m\n\u001b[1;32m     71\u001b[0m \u001b[39m    \"\"\"\u001b[39;00m\n\u001b[0;32m---> 73\u001b[0m     \u001b[39mreturn\u001b[39;00m request(\u001b[39m\"\u001b[39;49m\u001b[39mget\u001b[39;49m\u001b[39m\"\u001b[39;49m, url, params\u001b[39m=\u001b[39;49mparams, \u001b[39m*\u001b[39;49m\u001b[39m*\u001b[39;49mkwargs)\n",
      "File \u001b[0;32m~/.local/lib/python3.10/site-packages/requests/api.py:59\u001b[0m, in \u001b[0;36mrequest\u001b[0;34m(method, url, **kwargs)\u001b[0m\n\u001b[1;32m     55\u001b[0m \u001b[39m# By using the 'with' statement we are sure the session is closed, thus we\u001b[39;00m\n\u001b[1;32m     56\u001b[0m \u001b[39m# avoid leaving sockets open which can trigger a ResourceWarning in some\u001b[39;00m\n\u001b[1;32m     57\u001b[0m \u001b[39m# cases, and look like a memory leak in others.\u001b[39;00m\n\u001b[1;32m     58\u001b[0m \u001b[39mwith\u001b[39;00m sessions\u001b[39m.\u001b[39mSession() \u001b[39mas\u001b[39;00m session:\n\u001b[0;32m---> 59\u001b[0m     \u001b[39mreturn\u001b[39;00m session\u001b[39m.\u001b[39;49mrequest(method\u001b[39m=\u001b[39;49mmethod, url\u001b[39m=\u001b[39;49murl, \u001b[39m*\u001b[39;49m\u001b[39m*\u001b[39;49mkwargs)\n",
      "File \u001b[0;32m~/.local/lib/python3.10/site-packages/requests/sessions.py:587\u001b[0m, in \u001b[0;36mSession.request\u001b[0;34m(self, method, url, params, data, headers, cookies, files, auth, timeout, allow_redirects, proxies, hooks, stream, verify, cert, json)\u001b[0m\n\u001b[1;32m    582\u001b[0m send_kwargs \u001b[39m=\u001b[39m {\n\u001b[1;32m    583\u001b[0m     \u001b[39m\"\u001b[39m\u001b[39mtimeout\u001b[39m\u001b[39m\"\u001b[39m: timeout,\n\u001b[1;32m    584\u001b[0m     \u001b[39m\"\u001b[39m\u001b[39mallow_redirects\u001b[39m\u001b[39m\"\u001b[39m: allow_redirects,\n\u001b[1;32m    585\u001b[0m }\n\u001b[1;32m    586\u001b[0m send_kwargs\u001b[39m.\u001b[39mupdate(settings)\n\u001b[0;32m--> 587\u001b[0m resp \u001b[39m=\u001b[39m \u001b[39mself\u001b[39;49m\u001b[39m.\u001b[39;49msend(prep, \u001b[39m*\u001b[39;49m\u001b[39m*\u001b[39;49msend_kwargs)\n\u001b[1;32m    589\u001b[0m \u001b[39mreturn\u001b[39;00m resp\n",
      "File \u001b[0;32m~/.local/lib/python3.10/site-packages/requests/sessions.py:723\u001b[0m, in \u001b[0;36mSession.send\u001b[0;34m(self, request, **kwargs)\u001b[0m\n\u001b[1;32m    720\u001b[0m \u001b[39mif\u001b[39;00m allow_redirects:\n\u001b[1;32m    721\u001b[0m     \u001b[39m# Redirect resolving generator.\u001b[39;00m\n\u001b[1;32m    722\u001b[0m     gen \u001b[39m=\u001b[39m \u001b[39mself\u001b[39m\u001b[39m.\u001b[39mresolve_redirects(r, request, \u001b[39m*\u001b[39m\u001b[39m*\u001b[39mkwargs)\n\u001b[0;32m--> 723\u001b[0m     history \u001b[39m=\u001b[39m [resp \u001b[39mfor\u001b[39;00m resp \u001b[39min\u001b[39;00m gen]\n\u001b[1;32m    724\u001b[0m \u001b[39melse\u001b[39;00m:\n\u001b[1;32m    725\u001b[0m     history \u001b[39m=\u001b[39m []\n",
      "File \u001b[0;32m~/.local/lib/python3.10/site-packages/requests/sessions.py:723\u001b[0m, in \u001b[0;36m<listcomp>\u001b[0;34m(.0)\u001b[0m\n\u001b[1;32m    720\u001b[0m \u001b[39mif\u001b[39;00m allow_redirects:\n\u001b[1;32m    721\u001b[0m     \u001b[39m# Redirect resolving generator.\u001b[39;00m\n\u001b[1;32m    722\u001b[0m     gen \u001b[39m=\u001b[39m \u001b[39mself\u001b[39m\u001b[39m.\u001b[39mresolve_redirects(r, request, \u001b[39m*\u001b[39m\u001b[39m*\u001b[39mkwargs)\n\u001b[0;32m--> 723\u001b[0m     history \u001b[39m=\u001b[39m [resp \u001b[39mfor\u001b[39;00m resp \u001b[39min\u001b[39;00m gen]\n\u001b[1;32m    724\u001b[0m \u001b[39melse\u001b[39;00m:\n\u001b[1;32m    725\u001b[0m     history \u001b[39m=\u001b[39m []\n",
      "File \u001b[0;32m~/.local/lib/python3.10/site-packages/requests/sessions.py:266\u001b[0m, in \u001b[0;36mSessionRedirectMixin.resolve_redirects\u001b[0;34m(self, resp, req, stream, timeout, verify, cert, proxies, yield_requests, **adapter_kwargs)\u001b[0m\n\u001b[1;32m    263\u001b[0m     \u001b[39myield\u001b[39;00m req\n\u001b[1;32m    264\u001b[0m \u001b[39melse\u001b[39;00m:\n\u001b[0;32m--> 266\u001b[0m     resp \u001b[39m=\u001b[39m \u001b[39mself\u001b[39;49m\u001b[39m.\u001b[39;49msend(\n\u001b[1;32m    267\u001b[0m         req,\n\u001b[1;32m    268\u001b[0m         stream\u001b[39m=\u001b[39;49mstream,\n\u001b[1;32m    269\u001b[0m         timeout\u001b[39m=\u001b[39;49mtimeout,\n\u001b[1;32m    270\u001b[0m         verify\u001b[39m=\u001b[39;49mverify,\n\u001b[1;32m    271\u001b[0m         cert\u001b[39m=\u001b[39;49mcert,\n\u001b[1;32m    272\u001b[0m         proxies\u001b[39m=\u001b[39;49mproxies,\n\u001b[1;32m    273\u001b[0m         allow_redirects\u001b[39m=\u001b[39;49m\u001b[39mFalse\u001b[39;49;00m,\n\u001b[1;32m    274\u001b[0m         \u001b[39m*\u001b[39;49m\u001b[39m*\u001b[39;49madapter_kwargs,\n\u001b[1;32m    275\u001b[0m     )\n\u001b[1;32m    277\u001b[0m     extract_cookies_to_jar(\u001b[39mself\u001b[39m\u001b[39m.\u001b[39mcookies, prepared_request, resp\u001b[39m.\u001b[39mraw)\n\u001b[1;32m    279\u001b[0m     \u001b[39m# extract redirect url, if any, for the next loop\u001b[39;00m\n",
      "File \u001b[0;32m~/.local/lib/python3.10/site-packages/requests/sessions.py:701\u001b[0m, in \u001b[0;36mSession.send\u001b[0;34m(self, request, **kwargs)\u001b[0m\n\u001b[1;32m    698\u001b[0m start \u001b[39m=\u001b[39m preferred_clock()\n\u001b[1;32m    700\u001b[0m \u001b[39m# Send the request\u001b[39;00m\n\u001b[0;32m--> 701\u001b[0m r \u001b[39m=\u001b[39m adapter\u001b[39m.\u001b[39;49msend(request, \u001b[39m*\u001b[39;49m\u001b[39m*\u001b[39;49mkwargs)\n\u001b[1;32m    703\u001b[0m \u001b[39m# Total elapsed time of the request (approximately)\u001b[39;00m\n\u001b[1;32m    704\u001b[0m elapsed \u001b[39m=\u001b[39m preferred_clock() \u001b[39m-\u001b[39m start\n",
      "File \u001b[0;32m~/.local/lib/python3.10/site-packages/requests/adapters.py:547\u001b[0m, in \u001b[0;36mHTTPAdapter.send\u001b[0;34m(self, request, stream, timeout, verify, cert, proxies)\u001b[0m\n\u001b[1;32m    544\u001b[0m             \u001b[39mraise\u001b[39;00m\n\u001b[1;32m    546\u001b[0m \u001b[39mexcept\u001b[39;00m (ProtocolError, \u001b[39mOSError\u001b[39;00m) \u001b[39mas\u001b[39;00m err:\n\u001b[0;32m--> 547\u001b[0m     \u001b[39mraise\u001b[39;00m \u001b[39mConnectionError\u001b[39;00m(err, request\u001b[39m=\u001b[39mrequest)\n\u001b[1;32m    549\u001b[0m \u001b[39mexcept\u001b[39;00m MaxRetryError \u001b[39mas\u001b[39;00m e:\n\u001b[1;32m    550\u001b[0m     \u001b[39mif\u001b[39;00m \u001b[39misinstance\u001b[39m(e\u001b[39m.\u001b[39mreason, ConnectTimeoutError):\n\u001b[1;32m    551\u001b[0m         \u001b[39m# TODO: Remove this in 3.0.0: see #2811\u001b[39;00m\n",
      "\u001b[0;31mConnectionError\u001b[0m: ('Connection aborted.', RemoteDisconnected('Remote end closed connection without response'))"
     ]
    }
   ],
   "source": [
    "pbar = tqdm(total=len(links), desc='Links obtained')\n",
    "\n",
    "for index, link in enumerate(links):\n",
    "    res = requests.get(\n",
    "        url=link,\n",
    "        headers={\n",
    "            'User-Agent': quote(random.choice(user_agents)),\n",
    "\n",
    "            \n",
    "            'Cookie': cookie,\n",
    "        }\n",
    "    )\n",
    "\n",
    "    soup = BeautifulSoup(res.text)\n",
    "\n",
    "    parsed_data = soup.find_all(\n",
    "        name='li',\n",
    "        class_=lambda x: parse_items(x)\n",
    "    )\n",
    "\n",
    "    if len(parsed_data) == 0:\n",
    "        print(f'Что то пошло не так со ссылкой {index}\\n{link}')\n",
    "        with open(f'{folder_to_save_csvs}/trouble_links.txt', 'a') as trouble_links:\n",
    "            trouble_links.write(link + '\\n')\n",
    "\n",
    "        continue\n",
    "\n",
    "    filename = f\"{folder_to_save_htmls}/{link.split('/')[-1]}.html\"\n",
    "    with open(filename, 'w') as html_file:\n",
    "        html_file.write(res.text)\n",
    "\n",
    "    with open(f'{folder_to_save_csvs}/data.csv', 'a') as output_csv:\n",
    "        output_csv.write(f'{link},{filename}\\n')\n",
    "\n",
    "    pbar.update()\n",
    "    sleep(3 + abs(random.uniform(0, 1)))"
   ]
  },
  {
   "cell_type": "markdown",
   "metadata": {},
   "source": [
    "## Парсим страницы\n",
    "\n",
    "Теперь, когда у нас есть все необходимое, можно начать работать с данными.\n",
    "\n",
    "Напишем функцию, превращающую html страничку в словарь с данными"
   ]
  },
  {
   "cell_type": "code",
   "execution_count": 10,
   "metadata": {},
   "outputs": [
    {
     "data": {
      "text/plain": [
       "{'Общая площадь': '61\\xa0м²',\n",
       " 'Площадь кухни': '8\\xa0м²',\n",
       " 'Жилая площадь': '45\\xa0м²',\n",
       " 'Этаж': '3 из 19',\n",
       " 'Балкон или лоджия': 'балкон',\n",
       " 'Тип комнат': 'изолированные',\n",
       " 'Санузел': 'раздельный',\n",
       " 'Окна': 'во двор, на улицу',\n",
       " 'Ремонт': 'евро',\n",
       " 'Мебель': 'кухня, хранение одежды, спальные места',\n",
       " 'Техника': 'кондиционер, холодильник, стиральная машина, посудомоечная машина, водонагреватель',\n",
       " 'Способ продажи': 'свободная',\n",
       " 'Вид сделки': 'возможна ипотека',\n",
       " 'Тип дома': 'панельный',\n",
       " 'Этажей в доме': '19',\n",
       " 'Пассажирский лифт': '1',\n",
       " 'Грузовой лифт': '1',\n",
       " 'В доме': 'консьерж, мусоропровод',\n",
       " 'Двор': 'закрытая территория, детская площадка, спортивная площадка',\n",
       " 'Парковка': 'открытая во дворе, за шлагбаумом во дворе',\n",
       " 'Цена': 11990000.0,\n",
       " 'Валюта': 'RUB',\n",
       " 'Местоположение': 'Москва, Юровская ул., 19'}"
      ]
     },
     "execution_count": 10,
     "metadata": {},
     "output_type": "execute_result"
    }
   ],
   "source": [
    "\n",
    "def parse_html(filename: str):\n",
    "\n",
    "    with open(filename) as html_file:\n",
    "        soup = BeautifulSoup(html_file.read())\n",
    "\n",
    "    parsed_data = soup.find_all(\n",
    "        name='li',\n",
    "        class_=lambda x: parse_items(x)\n",
    "    )\n",
    "\n",
    "    if not len(parsed_data):\n",
    "        return None\n",
    "\n",
    "    parsed_data[0] = re.sub('<style.*<\\/style>', '', str(parsed_data[0]))\n",
    "\n",
    "    price = float(soup.find(name='span', attrs={\n",
    "                  'itemprop': 'price'}).attrs['content'])\n",
    "    currency = soup.find(name='span', attrs={\n",
    "                         'itemprop': 'priceCurrency'}).attrs['content']\n",
    "\n",
    "    location = soup.find(\n",
    "        name='span', class_=lambda x: False if x is None else 'style-item-address__string-' in x)\n",
    "\n",
    "    parsed_data = {x.contents[0].contents[0]: x.contents[1]\n",
    "                   for x in parsed_data[1:]}\n",
    "    parsed_data['Цена'] = price\n",
    "    parsed_data['Валюта'] = currency\n",
    "    if len(location.contents) < 1:\n",
    "        parsed_data['Местоположение'] = None\n",
    "    else:\n",
    "        parsed_data['Местоположение'] = location.contents[0]\n",
    "\n",
    "    return parsed_data\n",
    "\n",
    "\n",
    "parse_html(\n",
    "    f'{folder_to_save_htmls}/{links[0].split(\"/\")[-1]}.html')"
   ]
  },
  {
   "cell_type": "markdown",
   "metadata": {},
   "source": [
    "Получим подобные словари для всех наших данных"
   ]
  },
  {
   "cell_type": "code",
   "execution_count": 11,
   "metadata": {},
   "outputs": [
    {
     "name": "stdout",
     "output_type": "stream",
     "text": [
      "{'Общая площадь': '61\\xa0м²', 'Площадь кухни': '8\\xa0м²', 'Жилая площадь': '45\\xa0м²', 'Этаж': '3 из 19', 'Балкон или лоджия': 'балкон', 'Тип комнат': 'изолированные', 'Санузел': 'раздельный', 'Окна': 'во двор, на улицу', 'Ремонт': 'евро', 'Мебель': 'кухня, хранение одежды, спальные места', 'Техника': 'кондиционер, холодильник, стиральная машина, посудомоечная машина, водонагреватель', 'Способ продажи': 'свободная', 'Вид сделки': 'возможна ипотека', 'Тип дома': 'панельный', 'Этажей в доме': '19', 'Пассажирский лифт': '1', 'Грузовой лифт': '1', 'В доме': 'консьерж, мусоропровод', 'Двор': 'закрытая территория, детская площадка, спортивная площадка', 'Парковка': 'открытая во дворе, за шлагбаумом во дворе', 'Цена': 11990000.0, 'Валюта': 'RUB', 'Местоположение': 'Москва, Юровская ул., 19', 'Ссылка': 'https://www.avito.ru/moskva/kvartiry/3-k._kvartira_61m_319et._3058950582'}\n",
      "{'Общая площадь': '26\\xa0м²', 'Площадь кухни': '6\\xa0м²', 'Этаж': '8 из 9', 'Санузел': 'совмещенный', 'Окна': 'на улицу, на солнечную сторону', 'Ремонт': 'косметический', 'Мебель': 'кухня, хранение одежды, спальные места', 'Техника': 'холодильник, стиральная машина', 'Способ продажи': 'свободная', 'Вид сделки': 'возможна ипотека', 'Тип дома': 'панельный', 'Год постройки': '1975', 'Этажей в доме': '9', 'Пассажирский лифт': '1', 'Грузовой лифт': 'нет', 'В доме': 'мусоропровод, газ', 'Двор': 'детская площадка, спортивная площадка', 'Парковка': 'открытая во дворе', 'Цена': 8100000.0, 'Валюта': 'RUB', 'Местоположение': 'Москва, Онежская ул., 12', 'Ссылка': 'https://www.avito.ru/moskva/kvartiry/1-k._kvartira_26m_89et._3020721837'}\n",
      "{'Общая площадь': '14\\xa0м²', 'Жилая площадь': '12\\xa0м²', 'Этаж': '1 из 5', 'Высота потолков': '2.6\\xa0м', 'Санузел': 'совмещенный', 'Окна': 'во двор', 'Ремонт': 'требует ремонта', 'Способ продажи': 'свободная', 'Вид сделки': 'возможна ипотека', 'Тип дома': 'кирпичный', 'Год постройки': '1964', 'Этажей в доме': '5', 'Двор': 'детская площадка', 'Парковка': 'открытая во дворе', 'Цена': 3600000.0, 'Валюта': 'RUB', 'Местоположение': 'Москва, Бобруйская ул., 28', 'Ссылка': 'https://www.avito.ru/moskva/kvartiry/kvartira-studiya_14m_15et._2965582890'}\n",
      "{'Общая площадь': '13.8\\xa0м²', 'Этаж': '1 из 9', 'Санузел': 'совмещенный', 'Окна': 'во двор', 'Ремонт': 'требует ремонта', 'Способ продажи': 'свободная', 'Тип дома': 'панельный', 'Год постройки': '1971', 'Этажей в доме': '9', 'Пассажирский лифт': '1', 'В доме': 'мусоропровод', 'Двор': 'детская площадка, спортивная площадка', 'Парковка': 'открытая во дворе', 'Цена': 3500000.0, 'Валюта': 'RUB', 'Местоположение': 'Москва, ул. Искры, 13к1', 'Ссылка': 'https://www.avito.ru/moskva/kvartiry/kvartira-studiya_138m_19et._2939136816'}\n",
      "{'Общая площадь': '168\\xa0м²', 'Площадь кухни': '15\\xa0м²', 'Жилая площадь': '105\\xa0м²', 'Этаж': '3 из 5', 'Балкон или лоджия': 'лоджия', 'Тип комнат': 'изолированные', 'Высота потолков': '3.1\\xa0м', 'Санузел': 'раздельный', 'Окна': 'во двор', 'Ремонт': 'дизайнерский', 'Тёплый пол': 'есть', 'Мебель': 'кухня, хранение одежды, спальные места', 'Техника': 'кондиционер, холодильник, стиральная машина, посудомоечная машина, водонагреватель', 'Способ продажи': 'свободная', 'Вид сделки': 'возможна ипотека', 'Тип дома': 'кирпичный', 'Год постройки': '1998', 'Этажей в доме': '5', 'Пассажирский лифт': '1', 'В доме': 'консьерж, мусоропровод', 'Двор': 'закрытая территория, детская площадка, спортивная площадка', 'Парковка': 'подземная', 'Цена': 130000000.0, 'Валюта': 'RUB', 'Местоположение': 'Москва, Голиковский пер., 5', 'Ссылка': 'https://www.avito.ru/moskva/kvartiry/5-k._kvartira_168m_35et._2901413763'}\n"
     ]
    }
   ],
   "source": [
    "all_dicts = []\n",
    "with open(f'{folder_to_save_csvs}/data.csv') as data_csv:\n",
    "    for line in data_csv.readlines():\n",
    "        link, filename = line.strip().split(',')\n",
    "\n",
    "        cur_dict = parse_html(filename)\n",
    "        if cur_dict is None:\n",
    "            continue\n",
    "\n",
    "        cur_dict['Ссылка'] = link\n",
    "\n",
    "        all_dicts.append(cur_dict)\n",
    "\n",
    "for dict_ in all_dicts[:5]:\n",
    "    print(dict_)"
   ]
  },
  {
   "cell_type": "markdown",
   "metadata": {},
   "source": [
    "## Сохраняем данные"
   ]
  },
  {
   "cell_type": "code",
   "execution_count": 12,
   "metadata": {},
   "outputs": [
    {
     "data": {
      "text/html": [
       "<div>\n",
       "<style scoped>\n",
       "    .dataframe tbody tr th:only-of-type {\n",
       "        vertical-align: middle;\n",
       "    }\n",
       "\n",
       "    .dataframe tbody tr th {\n",
       "        vertical-align: top;\n",
       "    }\n",
       "\n",
       "    .dataframe thead th {\n",
       "        text-align: right;\n",
       "    }\n",
       "</style>\n",
       "<table border=\"1\" class=\"dataframe\">\n",
       "  <thead>\n",
       "    <tr style=\"text-align: right;\">\n",
       "      <th></th>\n",
       "      <th>Общая площадь</th>\n",
       "      <th>Площадь кухни</th>\n",
       "      <th>Жилая площадь</th>\n",
       "      <th>Этаж</th>\n",
       "      <th>Балкон или лоджия</th>\n",
       "      <th>Тип комнат</th>\n",
       "      <th>Санузел</th>\n",
       "      <th>Окна</th>\n",
       "      <th>Ремонт</th>\n",
       "      <th>Мебель</th>\n",
       "      <th>...</th>\n",
       "      <th>Год постройки</th>\n",
       "      <th>Высота потолков</th>\n",
       "      <th>Тёплый пол</th>\n",
       "      <th>Запланирован снос</th>\n",
       "      <th>Отделка</th>\n",
       "      <th>Название новостройки</th>\n",
       "      <th>Корпус, строение</th>\n",
       "      <th>Официальный застройщик</th>\n",
       "      <th>Тип участия</th>\n",
       "      <th>Срок сдачи</th>\n",
       "    </tr>\n",
       "  </thead>\n",
       "  <tbody>\n",
       "    <tr>\n",
       "      <th>0</th>\n",
       "      <td>61 м²</td>\n",
       "      <td>8 м²</td>\n",
       "      <td>45 м²</td>\n",
       "      <td>3 из 19</td>\n",
       "      <td>балкон</td>\n",
       "      <td>изолированные</td>\n",
       "      <td>раздельный</td>\n",
       "      <td>во двор, на улицу</td>\n",
       "      <td>евро</td>\n",
       "      <td>кухня, хранение одежды, спальные места</td>\n",
       "      <td>...</td>\n",
       "      <td>NaN</td>\n",
       "      <td>NaN</td>\n",
       "      <td>NaN</td>\n",
       "      <td>NaN</td>\n",
       "      <td>NaN</td>\n",
       "      <td>NaN</td>\n",
       "      <td>NaN</td>\n",
       "      <td>NaN</td>\n",
       "      <td>NaN</td>\n",
       "      <td>NaN</td>\n",
       "    </tr>\n",
       "    <tr>\n",
       "      <th>1</th>\n",
       "      <td>26 м²</td>\n",
       "      <td>6 м²</td>\n",
       "      <td>NaN</td>\n",
       "      <td>8 из 9</td>\n",
       "      <td>NaN</td>\n",
       "      <td>NaN</td>\n",
       "      <td>совмещенный</td>\n",
       "      <td>на улицу, на солнечную сторону</td>\n",
       "      <td>косметический</td>\n",
       "      <td>кухня, хранение одежды, спальные места</td>\n",
       "      <td>...</td>\n",
       "      <td>1975</td>\n",
       "      <td>NaN</td>\n",
       "      <td>NaN</td>\n",
       "      <td>NaN</td>\n",
       "      <td>NaN</td>\n",
       "      <td>NaN</td>\n",
       "      <td>NaN</td>\n",
       "      <td>NaN</td>\n",
       "      <td>NaN</td>\n",
       "      <td>NaN</td>\n",
       "    </tr>\n",
       "    <tr>\n",
       "      <th>2</th>\n",
       "      <td>14 м²</td>\n",
       "      <td>NaN</td>\n",
       "      <td>12 м²</td>\n",
       "      <td>1 из 5</td>\n",
       "      <td>NaN</td>\n",
       "      <td>NaN</td>\n",
       "      <td>совмещенный</td>\n",
       "      <td>во двор</td>\n",
       "      <td>требует ремонта</td>\n",
       "      <td>NaN</td>\n",
       "      <td>...</td>\n",
       "      <td>1964</td>\n",
       "      <td>2.6 м</td>\n",
       "      <td>NaN</td>\n",
       "      <td>NaN</td>\n",
       "      <td>NaN</td>\n",
       "      <td>NaN</td>\n",
       "      <td>NaN</td>\n",
       "      <td>NaN</td>\n",
       "      <td>NaN</td>\n",
       "      <td>NaN</td>\n",
       "    </tr>\n",
       "    <tr>\n",
       "      <th>3</th>\n",
       "      <td>13.8 м²</td>\n",
       "      <td>NaN</td>\n",
       "      <td>NaN</td>\n",
       "      <td>1 из 9</td>\n",
       "      <td>NaN</td>\n",
       "      <td>NaN</td>\n",
       "      <td>совмещенный</td>\n",
       "      <td>во двор</td>\n",
       "      <td>требует ремонта</td>\n",
       "      <td>NaN</td>\n",
       "      <td>...</td>\n",
       "      <td>1971</td>\n",
       "      <td>NaN</td>\n",
       "      <td>NaN</td>\n",
       "      <td>NaN</td>\n",
       "      <td>NaN</td>\n",
       "      <td>NaN</td>\n",
       "      <td>NaN</td>\n",
       "      <td>NaN</td>\n",
       "      <td>NaN</td>\n",
       "      <td>NaN</td>\n",
       "    </tr>\n",
       "    <tr>\n",
       "      <th>4</th>\n",
       "      <td>168 м²</td>\n",
       "      <td>15 м²</td>\n",
       "      <td>105 м²</td>\n",
       "      <td>3 из 5</td>\n",
       "      <td>лоджия</td>\n",
       "      <td>изолированные</td>\n",
       "      <td>раздельный</td>\n",
       "      <td>во двор</td>\n",
       "      <td>дизайнерский</td>\n",
       "      <td>кухня, хранение одежды, спальные места</td>\n",
       "      <td>...</td>\n",
       "      <td>1998</td>\n",
       "      <td>3.1 м</td>\n",
       "      <td>есть</td>\n",
       "      <td>NaN</td>\n",
       "      <td>NaN</td>\n",
       "      <td>NaN</td>\n",
       "      <td>NaN</td>\n",
       "      <td>NaN</td>\n",
       "      <td>NaN</td>\n",
       "      <td>NaN</td>\n",
       "    </tr>\n",
       "  </tbody>\n",
       "</table>\n",
       "<p>5 rows × 34 columns</p>\n",
       "</div>"
      ],
      "text/plain": [
       "  Общая площадь Площадь кухни Жилая площадь     Этаж Балкон или лоджия  \\\n",
       "0         61 м²          8 м²         45 м²  3 из 19            балкон   \n",
       "1         26 м²          6 м²           NaN   8 из 9               NaN   \n",
       "2         14 м²           NaN         12 м²   1 из 5               NaN   \n",
       "3       13.8 м²           NaN           NaN   1 из 9               NaN   \n",
       "4        168 м²         15 м²        105 м²   3 из 5            лоджия   \n",
       "\n",
       "      Тип комнат      Санузел                            Окна  \\\n",
       "0  изолированные   раздельный               во двор, на улицу   \n",
       "1            NaN  совмещенный  на улицу, на солнечную сторону   \n",
       "2            NaN  совмещенный                         во двор   \n",
       "3            NaN  совмещенный                         во двор   \n",
       "4  изолированные   раздельный                         во двор   \n",
       "\n",
       "            Ремонт                                  Мебель  ... Год постройки  \\\n",
       "0             евро  кухня, хранение одежды, спальные места  ...           NaN   \n",
       "1    косметический  кухня, хранение одежды, спальные места  ...          1975   \n",
       "2  требует ремонта                                     NaN  ...          1964   \n",
       "3  требует ремонта                                     NaN  ...          1971   \n",
       "4     дизайнерский  кухня, хранение одежды, спальные места  ...          1998   \n",
       "\n",
       "  Высота потолков Тёплый пол Запланирован снос Отделка Название новостройки  \\\n",
       "0             NaN        NaN               NaN     NaN                  NaN   \n",
       "1             NaN        NaN               NaN     NaN                  NaN   \n",
       "2           2.6 м        NaN               NaN     NaN                  NaN   \n",
       "3             NaN        NaN               NaN     NaN                  NaN   \n",
       "4           3.1 м       есть               NaN     NaN                  NaN   \n",
       "\n",
       "  Корпус, строение Официальный застройщик Тип участия Срок сдачи  \n",
       "0              NaN                    NaN         NaN        NaN  \n",
       "1              NaN                    NaN         NaN        NaN  \n",
       "2              NaN                    NaN         NaN        NaN  \n",
       "3              NaN                    NaN         NaN        NaN  \n",
       "4              NaN                    NaN         NaN        NaN  \n",
       "\n",
       "[5 rows x 34 columns]"
      ]
     },
     "execution_count": 12,
     "metadata": {},
     "output_type": "execute_result"
    }
   ],
   "source": [
    "df = pd.DataFrame(all_dicts)\n",
    "df.head()"
   ]
  },
  {
   "cell_type": "code",
   "execution_count": 13,
   "metadata": {},
   "outputs": [],
   "source": [
    "df.to_csv(f'{folder_to_save_csvs}/flats.csv', index=False, sep='^')"
   ]
  },
  {
   "cell_type": "code",
   "execution_count": null,
   "metadata": {},
   "outputs": [],
   "source": []
  }
 ],
 "metadata": {
  "kernelspec": {
   "display_name": "Python 3 (ipykernel)",
   "language": "python",
   "name": "python3"
  },
  "language_info": {
   "codemirror_mode": {
    "name": "ipython",
    "version": 3
   },
   "file_extension": ".py",
   "mimetype": "text/x-python",
   "name": "python",
   "nbconvert_exporter": "python",
   "pygments_lexer": "ipython3",
   "version": "3.9.7"
  }
 },
 "nbformat": 4,
 "nbformat_minor": 2
}
