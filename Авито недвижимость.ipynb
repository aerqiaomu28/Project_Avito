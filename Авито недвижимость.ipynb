{
 "cells": [
  {
   "cell_type": "code",
   "execution_count": 26,
   "id": "04cddff3",
   "metadata": {},
   "outputs": [],
   "source": [
    "import pandas as pd"
   ]
  },
  {
   "cell_type": "code",
   "execution_count": 36,
   "id": "88ae6651",
   "metadata": {},
   "outputs": [],
   "source": [
    "df = pd.read_csv('flats (5).csv', sep='^')"
   ]
  },
  {
   "cell_type": "code",
   "execution_count": 38,
   "id": "510baf60",
   "metadata": {},
   "outputs": [
    {
     "name": "stdout",
     "output_type": "stream",
     "text": [
      "<class 'pandas.core.frame.DataFrame'>\n",
      "RangeIndex: 3991 entries, 0 to 3990\n",
      "Data columns (total 33 columns):\n",
      " #   Column                  Non-Null Count  Dtype  \n",
      "---  ------                  --------------  -----  \n",
      " 0   Общая площадь           3991 non-null   object \n",
      " 1   Площадь кухни           3564 non-null   object \n",
      " 2   Этаж                    3988 non-null   object \n",
      " 3   Балкон или лоджия       2961 non-null   object \n",
      " 4   Тип комнат              2402 non-null   object \n",
      " 5   Высота потолков         2053 non-null   object \n",
      " 6   Санузел                 3599 non-null   object \n",
      " 7   Окна                    3047 non-null   object \n",
      " 8   Ремонт                  3477 non-null   object \n",
      " 9   Тёплый пол              277 non-null    object \n",
      " 10  Мебель                  1297 non-null   object \n",
      " 11  Техника                 1021 non-null   object \n",
      " 12  Способ продажи          3702 non-null   object \n",
      " 13  Вид сделки              2163 non-null   object \n",
      " 14  Тип дома                3988 non-null   object \n",
      " 15  Год постройки           2313 non-null   float64\n",
      " 16  Этажей в доме           3988 non-null   float64\n",
      " 17  Пассажирский лифт       2460 non-null   object \n",
      " 18  Грузовой лифт           2097 non-null   object \n",
      " 19  Двор                    2079 non-null   object \n",
      " 20  Парковка                2384 non-null   object \n",
      " 21  Цена                    3988 non-null   float64\n",
      " 22  Валюта                  3988 non-null   object \n",
      " 23  Местоположение          3988 non-null   object \n",
      " 24  Ссылка                  3988 non-null   object \n",
      " 25  Жилая площадь           2783 non-null   object \n",
      " 26  В доме                  1327 non-null   object \n",
      " 27  Отделка                 470 non-null    object \n",
      " 28  Официальный застройщик  443 non-null    object \n",
      " 29  Тип участия             443 non-null    object \n",
      " 30  Срок сдачи              443 non-null    object \n",
      " 31  Корпус  строение        316 non-null    object \n",
      " 32  Запланирован снос       8 non-null      object \n",
      "dtypes: float64(3), object(30)\n",
      "memory usage: 1.0+ MB\n"
     ]
    }
   ],
   "source": [
    "df.info()"
   ]
  },
  {
   "cell_type": "code",
   "execution_count": null,
   "id": "0145617d",
   "metadata": {},
   "outputs": [],
   "source": []
  }
 ],
 "metadata": {
  "kernelspec": {
   "display_name": "Python 3 (ipykernel)",
   "language": "python",
   "name": "python3"
  },
  "language_info": {
   "codemirror_mode": {
    "name": "ipython",
    "version": 3
   },
   "file_extension": ".py",
   "mimetype": "text/x-python",
   "name": "python",
   "nbconvert_exporter": "python",
   "pygments_lexer": "ipython3",
   "version": "3.9.7"
  }
 },
 "nbformat": 4,
 "nbformat_minor": 5
}
