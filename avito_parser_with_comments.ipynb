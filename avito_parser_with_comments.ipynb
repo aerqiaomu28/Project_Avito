{
 "cells": [
  {
   "cell_type": "markdown",
   "metadata": {},
   "source": [
    "# Парсинг данных с сайта **avito.ru**"
   ]
  },
  {
   "cell_type": "code",
   "execution_count": 1,
   "metadata": {},
   "outputs": [],
   "source": [
    "# импорт необходимых модулей для работы парсера\n",
    "from bs4 import BeautifulSoup\n",
    "from tqdm import tqdm\n",
    "from time import sleep\n",
    "import requests\n",
    "import random\n",
    "from urllib.parse import quote\n",
    "import os\n",
    "import re\n",
    "import pandas as pd"
   ]
  },
  {
   "cell_type": "markdown",
   "metadata": {},
   "source": [
    "## Подготовка\n",
    "\n",
    "Для того, чтобы сайт не мог так просто заподозрить, что мы берем данные с него, возьмем заголовки с реального браузера."
   ]
  },
  {
   "cell_type": "code",
   "execution_count": 2,
   "metadata": {},
   "outputs": [],
   "source": [
    "# достаем список юзер-агентов в список user_agents\n",
    "with open('user_agents.txt', 'r') as parse_items:\n",
    "    user_agents = list(map(lambda x: x.strip(), parse_items.readlines()))\n"
   ]
  },
  {
   "cell_type": "markdown",
   "metadata": {},
   "source": [
    "Указываем ссылку, с которой будем брать данные `data_url` и ссылку-якорь, которая позволит создавать ссылки на страницы с объявлениями `base_url`."
   ]
  },
  {
   "cell_type": "code",
   "execution_count": 3,
   "metadata": {},
   "outputs": [],
   "source": [
    "# для москвы\n",
    "data_url = 'https://www.avito.ru/moskva/kvartiry/prodam-ASgBAgICAUSSA8YQ'\n",
    "# для всех регионов\n",
    "# data_url = 'https://www.avito.ru/all/kvartiry/prodam-ASgBAgICAUSSA8YQ'\n",
    "\n",
    "base_url = 'https://www.avito.ru'\n",
    "\n",
    "# Очень желательно поставить реальную куку с сайта, иначе очень быстро забанят\n",
    "cookie = кука\n",
    "\n",
    "# не рекомендуется создавать данные больше 4000, так как реальных объявлений квартир не так много и со временем они начинают повторяться\n",
    "dataset_size = 3000\n",
    "links = set()\n",
    "\n",
    "# создаем папки для сохранения данных\n",
    "folder_to_save_csvs = 'final_csvs'\n",
    "folder_to_save_htmls = 'final_html_pages'\n"
   ]
  },
  {
   "cell_type": "markdown",
   "metadata": {},
   "source": [
    "## Приступаем к делу (парсим ссылки на объявления)\n",
    "\n",
    "Для начала нам придется достать все ссылки с объявлениями"
   ]
  },
  {
   "cell_type": "code",
   "execution_count": 4,
   "metadata": {},
   "outputs": [
    {
     "name": "stdout",
     "output_type": "stream",
     "text": [
      "Созданы папки для сохранения данных\n"
     ]
    }
   ],
   "source": [
    "# проверяем, что папки для сохранения данных существуют, если нет, то создаем\n",
    "os.path.exists(folder_to_save_htmls) or os.makedirs(folder_to_save_htmls)\n",
    "os.path.exists(folder_to_save_csvs) or os.makedirs(folder_to_save_csvs)\n",
    "print('Созданы папки для сохранения данных')\n"
   ]
  },
  {
   "cell_type": "code",
   "execution_count": 5,
   "metadata": {},
   "outputs": [
    {
     "name": "stderr",
     "output_type": "stream",
     "text": [
      "Links obtained: 100%|██████████| 3000/3000 [05:40<00:00,  8.81it/s]\n"
     ]
    }
   ],
   "source": [
    "# добавляем pbar для отслеживания прогресса\n",
    "pbar = tqdm(total=dataset_size, desc='Links obtained')\n",
    "\n",
    "current_page = 1\n",
    "while len(links) < dataset_size:\n",
    "\n",
    "    # запрашиваем страницу с объявлениями\n",
    "    page = requests.get(\n",
    "        data_url,\n",
    "        # для получения следующей страницы нужно передать параметр p с номером страницы, которую мы будем получать\n",
    "        params={'p': current_page},\n",
    "        headers={\n",
    "            'User-Agent': quote(random.choice(user_agents)),\n",
    "\n",
    "            # Очень желательно поставить реальную куку с сайта, иначе очень быстро забанят\n",
    "            'Cookie': cookie,\n",
    "        }\n",
    "    )\n",
    "\n",
    "    # кладем страницу в BeautifulSoup, чтобы парсить ее\n",
    "    soup = BeautifulSoup(page.text, 'html.parser')\n",
    "    prev_len = len(links)\n",
    "\n",
    "    # парсим страницу и достаем ссылки на объявления\n",
    "    for item in soup.find_all(name='a', attrs={'data-marker': 'item-title'}):\n",
    "        if str(item.get('href')).startswith('http'):\n",
    "            continue\n",
    "\n",
    "        # Получаем ссылку на одно из объявлений\n",
    "        cur_link = f'{base_url}{item.get(\"href\")}'.strip()\n",
    "\n",
    "        # Если эта ссылка уже была, пропускаем\n",
    "        if cur_link in links:\n",
    "            continue\n",
    "        \n",
    "        # сохраняем страницу с объявлением\n",
    "        links.add(cur_link)\n",
    "\n",
    "        # если достигли нужного количества объявлений, то выходим из цикла\n",
    "        if len(links) >= dataset_size:\n",
    "            break\n",
    "    \n",
    "    # обновляем pbar\n",
    "    pbar.update(len(links) - prev_len)\n",
    "    current_page += 1\n",
    "\n",
    "    # задержка между запросами, чтобы не забанили\n",
    "    sleep(2.5 + random.uniform(0, 1))\n",
    "\n",
    "# удаляем pbar из памяти\n",
    "del pbar"
   ]
  },
  {
   "cell_type": "code",
   "execution_count": 6,
   "metadata": {},
   "outputs": [],
   "source": [
    "# преобразуем links из set в list\n",
    "links = list(links)\n"
   ]
  },
  {
   "cell_type": "markdown",
   "metadata": {},
   "source": [
    "После того, как все ссылки получены, записываем на в файл, для того, чтобы нечаянно не потерять их в будущем"
   ]
  },
  {
   "cell_type": "code",
   "execution_count": 7,
   "metadata": {},
   "outputs": [
    {
     "name": "stdout",
     "output_type": "stream",
     "text": [
      "Примеры ссылок:\n",
      "https://www.avito.ru/moskva/kvartiry/2-k._kvartira_51m_1125et._2480816191\n",
      "https://www.avito.ru/moskva/kvartiry/kvartira-studiya_135m_19et._2969332239\n",
      "https://www.avito.ru/moskva/kvartiry/2-k._kvartira_653m_78et._3034523105\n",
      "https://www.avito.ru/moskva/kvartiry/4-k._kvartira_80m_45et._2604792981\n",
      "https://www.avito.ru/moskva/kvartiry/kvartira-studiya_132m_45et._2967624312\n",
      "\n",
      "Всего ссылок 3000\n"
     ]
    }
   ],
   "source": [
    "print(\"Примеры ссылок:\")\n",
    "print(*links[:5], sep='\\n')\n",
    "print()\n",
    "print(\"Всего ссылок {}\".format(len(links)))\n",
    "\n",
    "# сохраняем ссылки в файл\n",
    "with open(f'{folder_to_save_csvs}/links.csv', 'w') as links_csv:\n",
    "    links_csv.write('\\n'.join(links))\n"
   ]
  },
  {
   "cell_type": "markdown",
   "metadata": {},
   "source": [
    "## Достаем объявления\n",
    "\n",
    "После того, как мы получили все ссылки на объявления, приступим к парсингу самих объявлений"
   ]
  },
  {
   "cell_type": "markdown",
   "metadata": {},
   "source": [
    "Небольшая фукнция, которая проверяет наличие необходимых тегов на странице"
   ]
  },
  {
   "cell_type": "code",
   "execution_count": 1,
   "metadata": {},
   "outputs": [],
   "source": [
    "# проверяем, что в html-страницах есть нужные нам данные\n",
    "def parse_items(x: str):\n",
    "    if x is None:\n",
    "        return False\n",
    "    return 'params-paramsList__item' in x \\\n",
    "        or 'style-item-params-list-item' in x\n",
    "    # or 'style-item-address__string' in x \\\n",
    "    # or 'style-item-map-wrapper' in x and 'style-expanded' in x\n"
   ]
  },
  {
   "cell_type": "markdown",
   "metadata": {},
   "source": [
    "Скачиваем страницы **аналогично** тому, как мы скачивали ссылки на объявления, только теперь проверяем на валидность и сохраняем файлы.\n",
    "\n",
    "Необходимость в скачивании нужна по нескольким причинам. Во-первых, для того, чтобы изменить таблицу с данными, не нужно заново качать страницы, достаточно изменить код их обрабатывающий. Во-вторых данные на сайте могут устареть: ранее работавшая ссылка может измениться, могут измениться данные по ссылке (иногда ссылка может просто перестать работать)."
   ]
  },
  {
   "cell_type": "code",
   "execution_count": 9,
   "metadata": {},
   "outputs": [
    {
     "name": "stderr",
     "output_type": "stream",
     "text": [
      "Links obtained:   3%|▎         | 77/3000 [04:41<2:48:42,  3.46s/it]"
     ]
    },
    {
     "name": "stdout",
     "output_type": "stream",
     "text": [
      "Что то пошло не так со ссылкой 77\n",
      "https://www.avito.ru/moskva/kvartiry/kvartira-studiya_19m_116et._3035086882\n"
     ]
    },
    {
     "name": "stderr",
     "output_type": "stream",
     "text": [
      "Links obtained:  47%|████▋     | 1409/3000 [1:29:17<1:45:50,  3.99s/it]"
     ]
    },
    {
     "name": "stdout",
     "output_type": "stream",
     "text": [
      "Что то пошло не так со ссылкой 1410\n",
      "https://www.avito.ru/moskva/kvartiry/6-k._kvartira_1582m_1213et._2652014141\n"
     ]
    },
    {
     "name": "stderr",
     "output_type": "stream",
     "text": [
      "Links obtained:  69%|██████▊   | 2058/3000 [2:12:22<1:01:24,  3.91s/it]"
     ]
    },
    {
     "name": "stdout",
     "output_type": "stream",
     "text": [
      "Что то пошло не так со ссылкой 2060\n",
      "https://www.avito.ru/moskva/kvartiry/kvartira-studiya_223m_1214et._2936990921\n"
     ]
    },
    {
     "name": "stderr",
     "output_type": "stream",
     "text": [
      "Links obtained:  86%|████████▌ | 2583/3000 [2:47:41<29:13,  4.21s/it]  "
     ]
    },
    {
     "name": "stdout",
     "output_type": "stream",
     "text": [
      "Что то пошло не так со ссылкой 2586\n",
      "https://www.avito.ru/moskva/kvartiry/1-k._kvartira_40m_59et._2889683365\n"
     ]
    },
    {
     "name": "stderr",
     "output_type": "stream",
     "text": [
      "Links obtained: 100%|█████████▉| 2996/3000 [3:16:47<00:16,  4.11s/it]"
     ]
    }
   ],
   "source": [
    "pbar = tqdm(total=len(links), desc='Links obtained')\n",
    "\n",
    "for index, link in enumerate(links):\n",
    "    res = requests.get(\n",
    "        url=link,\n",
    "        headers={\n",
    "            'User-Agent': quote(random.choice(user_agents)),\n",
    "\n",
    "            # Очень желательно поставить реальную куку с сайта, иначе очень быстро забанят\n",
    "            'Cookie': cookie,\n",
    "        }\n",
    "    )\n",
    "\n",
    "    soup = BeautifulSoup(res.text)\n",
    "\n",
    "    parsed_data = soup.find_all(\n",
    "        name='li',\n",
    "        class_=lambda x: parse_items(x)\n",
    "    )\n",
    "\n",
    "    if len(parsed_data) == 0:\n",
    "        print(f'Что то пошло не так со ссылкой {index}\\n{link}')\n",
    "        with open(f'{folder_to_save_csvs}/trouble_links.txt', 'a') as trouble_links:\n",
    "            trouble_links.write(link + '\\n')\n",
    "\n",
    "        continue\n",
    "\n",
    "    filename = f\"{folder_to_save_htmls}/{link.split('/')[-1]}.html\"\n",
    "    with open(filename, 'w') as html_file:\n",
    "        html_file.write(res.text)\n",
    "\n",
    "    with open(f'{folder_to_save_csvs}/data.csv', 'a') as output_csv:\n",
    "        output_csv.write(f'{link},{filename}\\n')\n",
    "\n",
    "    pbar.update()\n",
    "    sleep(2.5 + random.uniform(0, 1))"
   ]
  },
  {
   "cell_type": "markdown",
   "metadata": {},
   "source": [
    "## Парсим страницы\n",
    "\n",
    "Теперь, когда у нас есть все необходимое, можно начать работать с данными.\n",
    "\n",
    "Напишем функцию, превращающую html страничку в словарь с данными"
   ]
  },
  {
   "cell_type": "code",
   "execution_count": 10,
   "metadata": {},
   "outputs": [
    {
     "data": {
      "text/plain": [
       "{'Общая площадь': '51\\xa0м²',\n",
       " 'Площадь кухни': '14.2\\xa0м²',\n",
       " 'Этаж': '11 из 25',\n",
       " 'Тип комнат': 'изолированные',\n",
       " 'Санузел': 'совмещенный',\n",
       " 'Ремонт': 'дизайнерский',\n",
       " 'Способ продажи': 'свободная',\n",
       " 'Тип дома': 'монолитный',\n",
       " 'Этажей в доме': '25',\n",
       " 'Двор': 'закрытая территория, детская площадка, спортивная площадка',\n",
       " 'Парковка': 'подземная',\n",
       " 'Цена': 22000000.0,\n",
       " 'Валюта': 'RUB',\n",
       " 'Местоположение': 'Москва, Береговой пр., 5Ак4'}"
      ]
     },
     "execution_count": 10,
     "metadata": {},
     "output_type": "execute_result"
    }
   ],
   "source": [
    "# Напишем функцию, превращающую html страничку в словарь с данными\n",
    "def parse_html(filename: str):\n",
    "    # открываем файл с html\n",
    "    with open(filename) as html_file:\n",
    "        soup = BeautifulSoup(html_file.read())\n",
    "\n",
    "    # достаем из html нужные нам данные\n",
    "    parsed_data = soup.find_all(\n",
    "        name='li',\n",
    "        class_=lambda x: parse_items(x)\n",
    "    )\n",
    "\n",
    "    # если не нашли ни одного элемента, то возвращаем None\n",
    "    if not len(parsed_data):\n",
    "        return None\n",
    "\n",
    "    # удаляем из html теги <style></style>, чтобы они не мешались при парсинге\n",
    "    parsed_data[0] = re.sub('<style.*<\\/style>', '', str(parsed_data[0]))\n",
    "\n",
    "    # парсим оставшиеся данные\n",
    "    price = float(soup.find(name='span', attrs={\n",
    "                  'itemprop': 'price'}).attrs['content'])\n",
    "    currency = soup.find(name='span', attrs={\n",
    "                         'itemprop': 'priceCurrency'}).attrs['content']\n",
    "\n",
    "    location = soup.find(\n",
    "        name='span', class_=lambda x: False if x is None else 'style-item-address__string-' in x)\n",
    "\n",
    "    parsed_data = {x.contents[0].contents[0]: x.contents[1]\n",
    "                   for x in parsed_data[1:]}\n",
    "    parsed_data['Цена'] = price\n",
    "    parsed_data['Валюта'] = currency\n",
    "    if len(location.contents) < 1:\n",
    "        parsed_data['Местоположение'] = None\n",
    "    else:\n",
    "        parsed_data['Местоположение'] = location.contents[0]\n",
    "\n",
    "    return parsed_data\n",
    "\n",
    "# пример работы функции\n",
    "parse_html(\n",
    "    f'{folder_to_save_htmls}/{links[0].split(\"/\")[-1]}.html')"
   ]
  },
  {
   "cell_type": "markdown",
   "metadata": {},
   "source": [
    "Получим подобные словари для всех наших данных"
   ]
  },
  {
   "cell_type": "code",
   "execution_count": 11,
   "metadata": {},
   "outputs": [
    {
     "name": "stdout",
     "output_type": "stream",
     "text": [
      "{'Общая площадь': '51\\xa0м²', 'Площадь кухни': '14.2\\xa0м²', 'Этаж': '11 из 25', 'Тип комнат': 'изолированные', 'Санузел': 'совмещенный', 'Ремонт': 'дизайнерский', 'Способ продажи': 'свободная', 'Тип дома': 'монолитный', 'Этажей в доме': '25', 'Двор': 'закрытая территория, детская площадка, спортивная площадка', 'Парковка': 'подземная', 'Цена': 22000000.0, 'Валюта': 'RUB', 'Местоположение': 'Москва, Береговой пр., 5Ак4', 'Ссылка': 'https://www.avito.ru/moskva/kvartiry/2-k._kvartira_51m_1125et._2480816191'}\n",
      "{'Общая площадь': '13.5\\xa0м²', 'Этаж': '1 из 9', 'Высота потолков': '2.7\\xa0м', 'Санузел': 'совмещенный', 'Окна': 'во двор', 'Ремонт': 'требует ремонта', 'Способ продажи': 'свободная', 'Вид сделки': 'возможна ипотека', 'Тип дома': 'кирпичный', 'Год постройки': '1974', 'Этажей в доме': '9', 'В доме': 'мусоропровод', 'Двор': 'детская площадка', 'Парковка': 'открытая во дворе', 'Цена': 3500000.0, 'Валюта': 'RUB', 'Местоположение': 'Москва, ул. Фабрициуса, 8', 'Ссылка': 'https://www.avito.ru/moskva/kvartiry/kvartira-studiya_135m_19et._2969332239'}\n",
      "{'Общая площадь': '65.3\\xa0м²', 'Площадь кухни': '9.2\\xa0м²', 'Жилая площадь': '37.6\\xa0м²', 'Этаж': '7 из 8', 'Тип комнат': 'изолированные', 'Санузел': 'раздельный', 'Окна': 'во двор', 'Ремонт': 'косметический', 'Способ продажи': 'свободная', 'Вид сделки': 'возможна ипотека', 'Тип дома': 'панельный', 'Этажей в доме': '8', 'Пассажирский лифт': '1', 'Грузовой лифт': '1', 'Двор': 'детская площадка, спортивная площадка', 'Парковка': 'открытая во дворе', 'Цена': 15000000.0, 'Валюта': 'RUB', 'Местоположение': 'Москва, 9-я Парковая ул., 43/26', 'Ссылка': 'https://www.avito.ru/moskva/kvartiry/2-k._kvartira_653m_78et._3034523105'}\n",
      "{'Общая площадь': '80\\xa0м²', 'Площадь кухни': '8.3\\xa0м²', 'Жилая площадь': '53\\xa0м²', 'Этаж': '4 из 5', 'Тип комнат': 'смежные', 'Высота потолков': '3.1\\xa0м', 'Санузел': 'раздельный', 'Окна': 'во двор', 'Ремонт': 'требует ремонта', 'Мебель': 'кухня', 'Способ продажи': 'альтернативная', 'Вид сделки': 'возможна ипотека', 'Тип дома': 'кирпичный', 'Этажей в доме': '5', 'Пассажирский лифт': '1', 'В доме': 'мусоропровод, газ', 'Двор': 'детская площадка, спортивная площадка', 'Парковка': 'открытая во дворе', 'Цена': 23800000.0, 'Валюта': 'RUB', 'Местоположение': 'Москва, Мишина улица, 38', 'Ссылка': 'https://www.avito.ru/moskva/kvartiry/4-k._kvartira_80m_45et._2604792981'}\n",
      "{'Общая площадь': '13.2\\xa0м²', 'Этаж': '4 из 5', 'Высота потолков': '3\\xa0м', 'Санузел': 'совмещенный', 'Ремонт': 'евро', 'Способ продажи': 'свободная', 'Вид сделки': 'возможна ипотека', 'Тип дома': 'кирпичный', 'Год постройки': '1900', 'Этажей в доме': '5', 'Двор': 'детская площадка, спортивная площадка', 'Парковка': 'за шлагбаумом во дворе', 'Цена': 5920000.0, 'Валюта': 'RUB', 'Местоположение': 'Москва, ул. Красная Пресня, 28', 'Ссылка': 'https://www.avito.ru/moskva/kvartiry/kvartira-studiya_132m_45et._2967624312'}\n"
     ]
    }
   ],
   "source": [
    "all_dicts = []\n",
    "with open(f'{folder_to_save_csvs}/data.csv') as data_csv:\n",
    "    for line in data_csv.readlines():\n",
    "        link, filename = line.strip().split(',')\n",
    "\n",
    "        cur_dict = parse_html(filename)\n",
    "        if cur_dict is None:\n",
    "            continue\n",
    "\n",
    "        cur_dict['Ссылка'] = link\n",
    "\n",
    "        all_dicts.append(cur_dict)\n",
    "\n",
    "for dict_ in all_dicts[:5]:\n",
    "    print(dict_)"
   ]
  },
  {
   "cell_type": "markdown",
   "metadata": {},
   "source": [
    "## Сохраняем данные"
   ]
  },
  {
   "cell_type": "code",
   "execution_count": 12,
   "metadata": {},
   "outputs": [
    {
     "data": {
      "text/html": [
       "<div>\n",
       "<style scoped>\n",
       "    .dataframe tbody tr th:only-of-type {\n",
       "        vertical-align: middle;\n",
       "    }\n",
       "\n",
       "    .dataframe tbody tr th {\n",
       "        vertical-align: top;\n",
       "    }\n",
       "\n",
       "    .dataframe thead th {\n",
       "        text-align: right;\n",
       "    }\n",
       "</style>\n",
       "<table border=\"1\" class=\"dataframe\">\n",
       "  <thead>\n",
       "    <tr style=\"text-align: right;\">\n",
       "      <th></th>\n",
       "      <th>Общая площадь</th>\n",
       "      <th>Площадь кухни</th>\n",
       "      <th>Этаж</th>\n",
       "      <th>Тип комнат</th>\n",
       "      <th>Санузел</th>\n",
       "      <th>Ремонт</th>\n",
       "      <th>Способ продажи</th>\n",
       "      <th>Тип дома</th>\n",
       "      <th>Этажей в доме</th>\n",
       "      <th>Двор</th>\n",
       "      <th>...</th>\n",
       "      <th>Балкон или лоджия</th>\n",
       "      <th>Техника</th>\n",
       "      <th>Тёплый пол</th>\n",
       "      <th>Отделка</th>\n",
       "      <th>Название новостройки</th>\n",
       "      <th>Официальный застройщик</th>\n",
       "      <th>Тип участия</th>\n",
       "      <th>Срок сдачи</th>\n",
       "      <th>Корпус, строение</th>\n",
       "      <th>Запланирован снос</th>\n",
       "    </tr>\n",
       "  </thead>\n",
       "  <tbody>\n",
       "    <tr>\n",
       "      <th>0</th>\n",
       "      <td>51 м²</td>\n",
       "      <td>14.2 м²</td>\n",
       "      <td>11 из 25</td>\n",
       "      <td>изолированные</td>\n",
       "      <td>совмещенный</td>\n",
       "      <td>дизайнерский</td>\n",
       "      <td>свободная</td>\n",
       "      <td>монолитный</td>\n",
       "      <td>25</td>\n",
       "      <td>закрытая территория, детская площадка, спортив...</td>\n",
       "      <td>...</td>\n",
       "      <td>NaN</td>\n",
       "      <td>NaN</td>\n",
       "      <td>NaN</td>\n",
       "      <td>NaN</td>\n",
       "      <td>NaN</td>\n",
       "      <td>NaN</td>\n",
       "      <td>NaN</td>\n",
       "      <td>NaN</td>\n",
       "      <td>NaN</td>\n",
       "      <td>NaN</td>\n",
       "    </tr>\n",
       "    <tr>\n",
       "      <th>1</th>\n",
       "      <td>13.5 м²</td>\n",
       "      <td>NaN</td>\n",
       "      <td>1 из 9</td>\n",
       "      <td>NaN</td>\n",
       "      <td>совмещенный</td>\n",
       "      <td>требует ремонта</td>\n",
       "      <td>свободная</td>\n",
       "      <td>кирпичный</td>\n",
       "      <td>9</td>\n",
       "      <td>детская площадка</td>\n",
       "      <td>...</td>\n",
       "      <td>NaN</td>\n",
       "      <td>NaN</td>\n",
       "      <td>NaN</td>\n",
       "      <td>NaN</td>\n",
       "      <td>NaN</td>\n",
       "      <td>NaN</td>\n",
       "      <td>NaN</td>\n",
       "      <td>NaN</td>\n",
       "      <td>NaN</td>\n",
       "      <td>NaN</td>\n",
       "    </tr>\n",
       "    <tr>\n",
       "      <th>2</th>\n",
       "      <td>65.3 м²</td>\n",
       "      <td>9.2 м²</td>\n",
       "      <td>7 из 8</td>\n",
       "      <td>изолированные</td>\n",
       "      <td>раздельный</td>\n",
       "      <td>косметический</td>\n",
       "      <td>свободная</td>\n",
       "      <td>панельный</td>\n",
       "      <td>8</td>\n",
       "      <td>детская площадка, спортивная площадка</td>\n",
       "      <td>...</td>\n",
       "      <td>NaN</td>\n",
       "      <td>NaN</td>\n",
       "      <td>NaN</td>\n",
       "      <td>NaN</td>\n",
       "      <td>NaN</td>\n",
       "      <td>NaN</td>\n",
       "      <td>NaN</td>\n",
       "      <td>NaN</td>\n",
       "      <td>NaN</td>\n",
       "      <td>NaN</td>\n",
       "    </tr>\n",
       "    <tr>\n",
       "      <th>3</th>\n",
       "      <td>80 м²</td>\n",
       "      <td>8.3 м²</td>\n",
       "      <td>4 из 5</td>\n",
       "      <td>смежные</td>\n",
       "      <td>раздельный</td>\n",
       "      <td>требует ремонта</td>\n",
       "      <td>альтернативная</td>\n",
       "      <td>кирпичный</td>\n",
       "      <td>5</td>\n",
       "      <td>детская площадка, спортивная площадка</td>\n",
       "      <td>...</td>\n",
       "      <td>NaN</td>\n",
       "      <td>NaN</td>\n",
       "      <td>NaN</td>\n",
       "      <td>NaN</td>\n",
       "      <td>NaN</td>\n",
       "      <td>NaN</td>\n",
       "      <td>NaN</td>\n",
       "      <td>NaN</td>\n",
       "      <td>NaN</td>\n",
       "      <td>NaN</td>\n",
       "    </tr>\n",
       "    <tr>\n",
       "      <th>4</th>\n",
       "      <td>13.2 м²</td>\n",
       "      <td>NaN</td>\n",
       "      <td>4 из 5</td>\n",
       "      <td>NaN</td>\n",
       "      <td>совмещенный</td>\n",
       "      <td>евро</td>\n",
       "      <td>свободная</td>\n",
       "      <td>кирпичный</td>\n",
       "      <td>5</td>\n",
       "      <td>детская площадка, спортивная площадка</td>\n",
       "      <td>...</td>\n",
       "      <td>NaN</td>\n",
       "      <td>NaN</td>\n",
       "      <td>NaN</td>\n",
       "      <td>NaN</td>\n",
       "      <td>NaN</td>\n",
       "      <td>NaN</td>\n",
       "      <td>NaN</td>\n",
       "      <td>NaN</td>\n",
       "      <td>NaN</td>\n",
       "      <td>NaN</td>\n",
       "    </tr>\n",
       "  </tbody>\n",
       "</table>\n",
       "<p>5 rows × 34 columns</p>\n",
       "</div>"
      ],
      "text/plain": [
       "  Общая площадь Площадь кухни      Этаж     Тип комнат      Санузел  \\\n",
       "0         51 м²       14.2 м²  11 из 25  изолированные  совмещенный   \n",
       "1       13.5 м²           NaN    1 из 9            NaN  совмещенный   \n",
       "2       65.3 м²        9.2 м²    7 из 8  изолированные   раздельный   \n",
       "3         80 м²        8.3 м²    4 из 5        смежные   раздельный   \n",
       "4       13.2 м²           NaN    4 из 5            NaN  совмещенный   \n",
       "\n",
       "            Ремонт  Способ продажи    Тип дома Этажей в доме  \\\n",
       "0     дизайнерский       свободная  монолитный            25   \n",
       "1  требует ремонта       свободная   кирпичный             9   \n",
       "2    косметический       свободная   панельный             8   \n",
       "3  требует ремонта  альтернативная   кирпичный             5   \n",
       "4             евро       свободная   кирпичный             5   \n",
       "\n",
       "                                                Двор  ... Балкон или лоджия  \\\n",
       "0  закрытая территория, детская площадка, спортив...  ...               NaN   \n",
       "1                                   детская площадка  ...               NaN   \n",
       "2              детская площадка, спортивная площадка  ...               NaN   \n",
       "3              детская площадка, спортивная площадка  ...               NaN   \n",
       "4              детская площадка, спортивная площадка  ...               NaN   \n",
       "\n",
       "   Техника Тёплый пол Отделка Название новостройки Официальный застройщик  \\\n",
       "0      NaN        NaN     NaN                  NaN                    NaN   \n",
       "1      NaN        NaN     NaN                  NaN                    NaN   \n",
       "2      NaN        NaN     NaN                  NaN                    NaN   \n",
       "3      NaN        NaN     NaN                  NaN                    NaN   \n",
       "4      NaN        NaN     NaN                  NaN                    NaN   \n",
       "\n",
       "  Тип участия Срок сдачи Корпус, строение Запланирован снос  \n",
       "0         NaN        NaN              NaN               NaN  \n",
       "1         NaN        NaN              NaN               NaN  \n",
       "2         NaN        NaN              NaN               NaN  \n",
       "3         NaN        NaN              NaN               NaN  \n",
       "4         NaN        NaN              NaN               NaN  \n",
       "\n",
       "[5 rows x 34 columns]"
      ]
     },
     "execution_count": 12,
     "metadata": {},
     "output_type": "execute_result"
    }
   ],
   "source": [
    "df = pd.DataFrame(all_dicts)\n",
    "df.head()"
   ]
  },
  {
   "cell_type": "markdown",
   "metadata": {},
   "source": [
    "Т.к. в датафрейме содержатся запятые, изменим `sep`."
   ]
  },
  {
   "cell_type": "code",
   "execution_count": 13,
   "metadata": {},
   "outputs": [],
   "source": [
    "df.to_csv(f'{folder_to_save_csvs}/flats.csv', index=False, sep='^')"
   ]
  }
 ],
 "metadata": {
  "kernelspec": {
   "display_name": "Python 3 (ipykernel)",
   "language": "python",
   "name": "python3"
  },
  "language_info": {
   "codemirror_mode": {
    "name": "ipython",
    "version": 3
   },
   "file_extension": ".py",
   "mimetype": "text/x-python",
   "name": "python",
   "nbconvert_exporter": "python",
   "pygments_lexer": "ipython3",
   "version": "3.9.7"
  }
 },
 "nbformat": 4,
 "nbformat_minor": 2
}
