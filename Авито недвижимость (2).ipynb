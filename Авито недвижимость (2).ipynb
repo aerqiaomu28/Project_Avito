{
 "cells": [
  {
   "cell_type": "code",
   "execution_count": 1,
   "id": "e7506e9c",
   "metadata": {},
   "outputs": [],
   "source": [
    "import pandas as pd\n",
    "import warnings\n",
    "warnings.filterwarnings(\"ignore\")\n",
    "import numpy as np\n",
    "import re\n",
    "import matplotlib.pyplot as plt\n",
    "import seaborn as sns "
   ]
  },
  {
   "cell_type": "code",
   "execution_count": 2,
   "id": "898a980a",
   "metadata": {},
   "outputs": [
    {
     "data": {
      "text/html": [
       "<div>\n",
       "<style scoped>\n",
       "    .dataframe tbody tr th:only-of-type {\n",
       "        vertical-align: middle;\n",
       "    }\n",
       "\n",
       "    .dataframe tbody tr th {\n",
       "        vertical-align: top;\n",
       "    }\n",
       "\n",
       "    .dataframe thead th {\n",
       "        text-align: right;\n",
       "    }\n",
       "</style>\n",
       "<table border=\"1\" class=\"dataframe\">\n",
       "  <thead>\n",
       "    <tr style=\"text-align: right;\">\n",
       "      <th></th>\n",
       "      <th>Общая площадь</th>\n",
       "      <th>Площадь кухни</th>\n",
       "      <th>Жилая площадь</th>\n",
       "      <th>Этаж</th>\n",
       "      <th>Балкон или лоджия</th>\n",
       "      <th>Тип комнат</th>\n",
       "      <th>Санузел</th>\n",
       "      <th>Окна</th>\n",
       "      <th>Ремонт</th>\n",
       "      <th>Мебель</th>\n",
       "      <th>...</th>\n",
       "      <th>Год постройки</th>\n",
       "      <th>Высота потолков</th>\n",
       "      <th>Тёплый пол</th>\n",
       "      <th>Запланирован снос</th>\n",
       "      <th>Отделка</th>\n",
       "      <th>Название новостройки</th>\n",
       "      <th>Корпус, строение</th>\n",
       "      <th>Официальный застройщик</th>\n",
       "      <th>Тип участия</th>\n",
       "      <th>Срок сдачи</th>\n",
       "    </tr>\n",
       "  </thead>\n",
       "  <tbody>\n",
       "    <tr>\n",
       "      <th>0</th>\n",
       "      <td>61 м²</td>\n",
       "      <td>8 м²</td>\n",
       "      <td>45 м²</td>\n",
       "      <td>3 из 19</td>\n",
       "      <td>балкон</td>\n",
       "      <td>изолированные</td>\n",
       "      <td>раздельный</td>\n",
       "      <td>во двор, на улицу</td>\n",
       "      <td>евро</td>\n",
       "      <td>кухня, хранение одежды, спальные места</td>\n",
       "      <td>...</td>\n",
       "      <td>NaN</td>\n",
       "      <td>NaN</td>\n",
       "      <td>NaN</td>\n",
       "      <td>NaN</td>\n",
       "      <td>NaN</td>\n",
       "      <td>NaN</td>\n",
       "      <td>NaN</td>\n",
       "      <td>NaN</td>\n",
       "      <td>NaN</td>\n",
       "      <td>NaN</td>\n",
       "    </tr>\n",
       "    <tr>\n",
       "      <th>1</th>\n",
       "      <td>26 м²</td>\n",
       "      <td>6 м²</td>\n",
       "      <td>NaN</td>\n",
       "      <td>8 из 9</td>\n",
       "      <td>NaN</td>\n",
       "      <td>NaN</td>\n",
       "      <td>совмещенный</td>\n",
       "      <td>на улицу, на солнечную сторону</td>\n",
       "      <td>косметический</td>\n",
       "      <td>кухня, хранение одежды, спальные места</td>\n",
       "      <td>...</td>\n",
       "      <td>1975.0</td>\n",
       "      <td>NaN</td>\n",
       "      <td>NaN</td>\n",
       "      <td>NaN</td>\n",
       "      <td>NaN</td>\n",
       "      <td>NaN</td>\n",
       "      <td>NaN</td>\n",
       "      <td>NaN</td>\n",
       "      <td>NaN</td>\n",
       "      <td>NaN</td>\n",
       "    </tr>\n",
       "    <tr>\n",
       "      <th>2</th>\n",
       "      <td>14 м²</td>\n",
       "      <td>NaN</td>\n",
       "      <td>12 м²</td>\n",
       "      <td>1 из 5</td>\n",
       "      <td>NaN</td>\n",
       "      <td>NaN</td>\n",
       "      <td>совмещенный</td>\n",
       "      <td>во двор</td>\n",
       "      <td>требует ремонта</td>\n",
       "      <td>NaN</td>\n",
       "      <td>...</td>\n",
       "      <td>1964.0</td>\n",
       "      <td>2.6 м</td>\n",
       "      <td>NaN</td>\n",
       "      <td>NaN</td>\n",
       "      <td>NaN</td>\n",
       "      <td>NaN</td>\n",
       "      <td>NaN</td>\n",
       "      <td>NaN</td>\n",
       "      <td>NaN</td>\n",
       "      <td>NaN</td>\n",
       "    </tr>\n",
       "    <tr>\n",
       "      <th>3</th>\n",
       "      <td>13.8 м²</td>\n",
       "      <td>NaN</td>\n",
       "      <td>NaN</td>\n",
       "      <td>1 из 9</td>\n",
       "      <td>NaN</td>\n",
       "      <td>NaN</td>\n",
       "      <td>совмещенный</td>\n",
       "      <td>во двор</td>\n",
       "      <td>требует ремонта</td>\n",
       "      <td>NaN</td>\n",
       "      <td>...</td>\n",
       "      <td>1971.0</td>\n",
       "      <td>NaN</td>\n",
       "      <td>NaN</td>\n",
       "      <td>NaN</td>\n",
       "      <td>NaN</td>\n",
       "      <td>NaN</td>\n",
       "      <td>NaN</td>\n",
       "      <td>NaN</td>\n",
       "      <td>NaN</td>\n",
       "      <td>NaN</td>\n",
       "    </tr>\n",
       "    <tr>\n",
       "      <th>4</th>\n",
       "      <td>168 м²</td>\n",
       "      <td>15 м²</td>\n",
       "      <td>105 м²</td>\n",
       "      <td>3 из 5</td>\n",
       "      <td>лоджия</td>\n",
       "      <td>изолированные</td>\n",
       "      <td>раздельный</td>\n",
       "      <td>во двор</td>\n",
       "      <td>дизайнерский</td>\n",
       "      <td>кухня, хранение одежды, спальные места</td>\n",
       "      <td>...</td>\n",
       "      <td>1998.0</td>\n",
       "      <td>3.1 м</td>\n",
       "      <td>есть</td>\n",
       "      <td>NaN</td>\n",
       "      <td>NaN</td>\n",
       "      <td>NaN</td>\n",
       "      <td>NaN</td>\n",
       "      <td>NaN</td>\n",
       "      <td>NaN</td>\n",
       "      <td>NaN</td>\n",
       "    </tr>\n",
       "    <tr>\n",
       "      <th>...</th>\n",
       "      <td>...</td>\n",
       "      <td>...</td>\n",
       "      <td>...</td>\n",
       "      <td>...</td>\n",
       "      <td>...</td>\n",
       "      <td>...</td>\n",
       "      <td>...</td>\n",
       "      <td>...</td>\n",
       "      <td>...</td>\n",
       "      <td>...</td>\n",
       "      <td>...</td>\n",
       "      <td>...</td>\n",
       "      <td>...</td>\n",
       "      <td>...</td>\n",
       "      <td>...</td>\n",
       "      <td>...</td>\n",
       "      <td>...</td>\n",
       "      <td>...</td>\n",
       "      <td>...</td>\n",
       "      <td>...</td>\n",
       "      <td>...</td>\n",
       "    </tr>\n",
       "    <tr>\n",
       "      <th>2529</th>\n",
       "      <td>66 м²</td>\n",
       "      <td>10.5 м²</td>\n",
       "      <td>39 м²</td>\n",
       "      <td>9 из 10</td>\n",
       "      <td>балкон</td>\n",
       "      <td>изолированные</td>\n",
       "      <td>раздельный</td>\n",
       "      <td>во двор</td>\n",
       "      <td>требует ремонта</td>\n",
       "      <td>NaN</td>\n",
       "      <td>...</td>\n",
       "      <td>1957.0</td>\n",
       "      <td>3 м</td>\n",
       "      <td>NaN</td>\n",
       "      <td>NaN</td>\n",
       "      <td>NaN</td>\n",
       "      <td>NaN</td>\n",
       "      <td>NaN</td>\n",
       "      <td>NaN</td>\n",
       "      <td>NaN</td>\n",
       "      <td>NaN</td>\n",
       "    </tr>\n",
       "    <tr>\n",
       "      <th>2530</th>\n",
       "      <td>51 м²</td>\n",
       "      <td>15 м²</td>\n",
       "      <td>NaN</td>\n",
       "      <td>2 из 17</td>\n",
       "      <td>NaN</td>\n",
       "      <td>смежные</td>\n",
       "      <td>совмещенный</td>\n",
       "      <td>во двор, на улицу, на солнечную сторону</td>\n",
       "      <td>евро</td>\n",
       "      <td>кухня, хранение одежды, спальные места</td>\n",
       "      <td>...</td>\n",
       "      <td>NaN</td>\n",
       "      <td>2.7 м</td>\n",
       "      <td>NaN</td>\n",
       "      <td>NaN</td>\n",
       "      <td>NaN</td>\n",
       "      <td>NaN</td>\n",
       "      <td>NaN</td>\n",
       "      <td>NaN</td>\n",
       "      <td>NaN</td>\n",
       "      <td>NaN</td>\n",
       "    </tr>\n",
       "    <tr>\n",
       "      <th>2531</th>\n",
       "      <td>41 м²</td>\n",
       "      <td>9 м²</td>\n",
       "      <td>NaN</td>\n",
       "      <td>13 из 14</td>\n",
       "      <td>лоджия</td>\n",
       "      <td>NaN</td>\n",
       "      <td>совмещенный</td>\n",
       "      <td>во двор</td>\n",
       "      <td>дизайнерский</td>\n",
       "      <td>кухня, хранение одежды, спальные места</td>\n",
       "      <td>...</td>\n",
       "      <td>1977.0</td>\n",
       "      <td>3 м</td>\n",
       "      <td>есть</td>\n",
       "      <td>NaN</td>\n",
       "      <td>NaN</td>\n",
       "      <td>NaN</td>\n",
       "      <td>NaN</td>\n",
       "      <td>NaN</td>\n",
       "      <td>NaN</td>\n",
       "      <td>NaN</td>\n",
       "    </tr>\n",
       "    <tr>\n",
       "      <th>2532</th>\n",
       "      <td>53 м²</td>\n",
       "      <td>9.1 м²</td>\n",
       "      <td>31.7 м²</td>\n",
       "      <td>7 из 14</td>\n",
       "      <td>лоджия</td>\n",
       "      <td>изолированные</td>\n",
       "      <td>раздельный</td>\n",
       "      <td>во двор, на улицу</td>\n",
       "      <td>требует ремонта</td>\n",
       "      <td>NaN</td>\n",
       "      <td>...</td>\n",
       "      <td>1969.0</td>\n",
       "      <td>0 м</td>\n",
       "      <td>NaN</td>\n",
       "      <td>NaN</td>\n",
       "      <td>NaN</td>\n",
       "      <td>NaN</td>\n",
       "      <td>NaN</td>\n",
       "      <td>NaN</td>\n",
       "      <td>NaN</td>\n",
       "      <td>NaN</td>\n",
       "    </tr>\n",
       "    <tr>\n",
       "      <th>2533</th>\n",
       "      <td>83 м²</td>\n",
       "      <td>30 м²</td>\n",
       "      <td>NaN</td>\n",
       "      <td>7 из 13</td>\n",
       "      <td>NaN</td>\n",
       "      <td>изолированные</td>\n",
       "      <td>NaN</td>\n",
       "      <td>NaN</td>\n",
       "      <td>дизайнерский</td>\n",
       "      <td>NaN</td>\n",
       "      <td>...</td>\n",
       "      <td>NaN</td>\n",
       "      <td>NaN</td>\n",
       "      <td>NaN</td>\n",
       "      <td>NaN</td>\n",
       "      <td>NaN</td>\n",
       "      <td>NaN</td>\n",
       "      <td>NaN</td>\n",
       "      <td>NaN</td>\n",
       "      <td>NaN</td>\n",
       "      <td>NaN</td>\n",
       "    </tr>\n",
       "  </tbody>\n",
       "</table>\n",
       "<p>2534 rows × 34 columns</p>\n",
       "</div>"
      ],
      "text/plain": [
       "     Общая площадь Площадь кухни Жилая площадь      Этаж Балкон или лоджия  \\\n",
       "0            61 м²          8 м²         45 м²   3 из 19            балкон   \n",
       "1            26 м²          6 м²           NaN    8 из 9               NaN   \n",
       "2            14 м²           NaN         12 м²    1 из 5               NaN   \n",
       "3          13.8 м²           NaN           NaN    1 из 9               NaN   \n",
       "4           168 м²         15 м²        105 м²    3 из 5            лоджия   \n",
       "...            ...           ...           ...       ...               ...   \n",
       "2529         66 м²       10.5 м²         39 м²   9 из 10            балкон   \n",
       "2530         51 м²         15 м²           NaN   2 из 17               NaN   \n",
       "2531         41 м²          9 м²           NaN  13 из 14            лоджия   \n",
       "2532         53 м²        9.1 м²       31.7 м²   7 из 14            лоджия   \n",
       "2533         83 м²         30 м²           NaN   7 из 13               NaN   \n",
       "\n",
       "         Тип комнат      Санузел                                     Окна  \\\n",
       "0     изолированные   раздельный                        во двор, на улицу   \n",
       "1               NaN  совмещенный           на улицу, на солнечную сторону   \n",
       "2               NaN  совмещенный                                  во двор   \n",
       "3               NaN  совмещенный                                  во двор   \n",
       "4     изолированные   раздельный                                  во двор   \n",
       "...             ...          ...                                      ...   \n",
       "2529  изолированные   раздельный                                  во двор   \n",
       "2530        смежные  совмещенный  во двор, на улицу, на солнечную сторону   \n",
       "2531            NaN  совмещенный                                  во двор   \n",
       "2532  изолированные   раздельный                        во двор, на улицу   \n",
       "2533  изолированные          NaN                                      NaN   \n",
       "\n",
       "               Ремонт                                  Мебель  ...  \\\n",
       "0                евро  кухня, хранение одежды, спальные места  ...   \n",
       "1       косметический  кухня, хранение одежды, спальные места  ...   \n",
       "2     требует ремонта                                     NaN  ...   \n",
       "3     требует ремонта                                     NaN  ...   \n",
       "4        дизайнерский  кухня, хранение одежды, спальные места  ...   \n",
       "...               ...                                     ...  ...   \n",
       "2529  требует ремонта                                     NaN  ...   \n",
       "2530             евро  кухня, хранение одежды, спальные места  ...   \n",
       "2531     дизайнерский  кухня, хранение одежды, спальные места  ...   \n",
       "2532  требует ремонта                                     NaN  ...   \n",
       "2533     дизайнерский                                     NaN  ...   \n",
       "\n",
       "     Год постройки Высота потолков Тёплый пол Запланирован снос  Отделка  \\\n",
       "0              NaN             NaN        NaN               NaN      NaN   \n",
       "1           1975.0             NaN        NaN               NaN      NaN   \n",
       "2           1964.0           2.6 м        NaN               NaN      NaN   \n",
       "3           1971.0             NaN        NaN               NaN      NaN   \n",
       "4           1998.0           3.1 м       есть               NaN      NaN   \n",
       "...            ...             ...        ...               ...      ...   \n",
       "2529        1957.0             3 м        NaN               NaN      NaN   \n",
       "2530           NaN           2.7 м        NaN               NaN      NaN   \n",
       "2531        1977.0             3 м       есть               NaN      NaN   \n",
       "2532        1969.0             0 м        NaN               NaN      NaN   \n",
       "2533           NaN             NaN        NaN               NaN      NaN   \n",
       "\n",
       "     Название новостройки Корпус, строение Официальный застройщик Тип участия  \\\n",
       "0                     NaN              NaN                    NaN         NaN   \n",
       "1                     NaN              NaN                    NaN         NaN   \n",
       "2                     NaN              NaN                    NaN         NaN   \n",
       "3                     NaN              NaN                    NaN         NaN   \n",
       "4                     NaN              NaN                    NaN         NaN   \n",
       "...                   ...              ...                    ...         ...   \n",
       "2529                  NaN              NaN                    NaN         NaN   \n",
       "2530                  NaN              NaN                    NaN         NaN   \n",
       "2531                  NaN              NaN                    NaN         NaN   \n",
       "2532                  NaN              NaN                    NaN         NaN   \n",
       "2533                  NaN              NaN                    NaN         NaN   \n",
       "\n",
       "     Срок сдачи  \n",
       "0           NaN  \n",
       "1           NaN  \n",
       "2           NaN  \n",
       "3           NaN  \n",
       "4           NaN  \n",
       "...         ...  \n",
       "2529        NaN  \n",
       "2530        NaN  \n",
       "2531        NaN  \n",
       "2532        NaN  \n",
       "2533        NaN  \n",
       "\n",
       "[2534 rows x 34 columns]"
      ]
     },
     "execution_count": 2,
     "metadata": {},
     "output_type": "execute_result"
    }
   ],
   "source": [
    "df = pd.read_csv('flats.csv', sep='^')\n",
    "df"
   ]
  },
  {
   "cell_type": "code",
   "execution_count": 3,
   "id": "834dc2d5",
   "metadata": {},
   "outputs": [
    {
     "name": "stdout",
     "output_type": "stream",
     "text": [
      "<class 'pandas.core.frame.DataFrame'>\n",
      "RangeIndex: 2534 entries, 0 to 2533\n",
      "Data columns (total 34 columns):\n",
      " #   Column                  Non-Null Count  Dtype  \n",
      "---  ------                  --------------  -----  \n",
      " 0   Общая площадь           2534 non-null   object \n",
      " 1   Площадь кухни           1886 non-null   object \n",
      " 2   Жилая площадь           1708 non-null   object \n",
      " 3   Этаж                    2534 non-null   object \n",
      " 4   Балкон или лоджия       1173 non-null   object \n",
      " 5   Тип комнат              1360 non-null   object \n",
      " 6   Санузел                 2157 non-null   object \n",
      " 7   Окна                    1928 non-null   object \n",
      " 8   Ремонт                  2130 non-null   object \n",
      " 9   Мебель                  672 non-null    object \n",
      " 10  Техника                 574 non-null    object \n",
      " 11  Способ продажи          2240 non-null   object \n",
      " 12  Вид сделки              1501 non-null   object \n",
      " 13  Тип дома                2534 non-null   object \n",
      " 14  Этажей в доме           2534 non-null   int64  \n",
      " 15  Пассажирский лифт       1652 non-null   object \n",
      " 16  Грузовой лифт           1260 non-null   object \n",
      " 17  В доме                  1098 non-null   object \n",
      " 18  Двор                    1264 non-null   object \n",
      " 19  Парковка                1448 non-null   object \n",
      " 20  Цена                    2534 non-null   float64\n",
      " 21  Валюта                  2534 non-null   object \n",
      " 22  Местоположение          2534 non-null   object \n",
      " 23  Ссылка                  2534 non-null   object \n",
      " 24  Год постройки           1492 non-null   float64\n",
      " 25  Высота потолков         1403 non-null   object \n",
      " 26  Тёплый пол              171 non-null    object \n",
      " 27  Запланирован снос       22 non-null     object \n",
      " 28  Отделка                 378 non-null    object \n",
      " 29  Название новостройки    375 non-null    object \n",
      " 30  Корпус, строение        229 non-null    object \n",
      " 31  Официальный застройщик  375 non-null    object \n",
      " 32  Тип участия             375 non-null    object \n",
      " 33  Срок сдачи              375 non-null    object \n",
      "dtypes: float64(2), int64(1), object(31)\n",
      "memory usage: 673.2+ KB\n"
     ]
    }
   ],
   "source": [
    "df.info()"
   ]
  },
  {
   "cell_type": "code",
   "execution_count": 4,
   "id": "59b0920d",
   "metadata": {},
   "outputs": [
    {
     "data": {
      "text/plain": [
       "Index(['Общая площадь', 'Площадь кухни', 'Жилая площадь', 'Этаж',\n",
       "       'Балкон или лоджия', 'Тип комнат', 'Санузел', 'Окна', 'Ремонт',\n",
       "       'Мебель', 'Техника', 'Способ продажи', 'Вид сделки', 'Тип дома',\n",
       "       'Этажей в доме', 'Пассажирский лифт', 'Грузовой лифт', 'В доме', 'Двор',\n",
       "       'Парковка', 'Цена', 'Валюта', 'Местоположение', 'Ссылка',\n",
       "       'Год постройки', 'Высота потолков', 'Тёплый пол', 'Запланирован снос',\n",
       "       'Отделка', 'Название новостройки', 'Корпус, строение',\n",
       "       'Официальный застройщик', 'Тип участия', 'Срок сдачи'],\n",
       "      dtype='object')"
      ]
     },
     "execution_count": 4,
     "metadata": {},
     "output_type": "execute_result"
    }
   ],
   "source": [
    "df.columns"
   ]
  },
  {
   "cell_type": "code",
   "execution_count": 7,
   "id": "14a0c620",
   "metadata": {},
   "outputs": [
    {
     "data": {
      "text/plain": [
       "жилой комплекс Волжский Парк, корп. 1     23\n",
       "ш. Алтуфьевское, стр. 2.1                 19\n",
       "пос. Сосенское, дер. Столбово, стр. 15    18\n",
       "ш. Перовское, уч. 2                       18\n",
       "Москва, ул. Липчанского, 10               16\n",
       "                                          ..\n",
       "Москва, Бирюлёвская ул., 31к3              1\n",
       "Москва, ул. Фёдора Полетаева, 32к4         1\n",
       "Москва, Карамышевская наб., 2А             1\n",
       "Москва, улица Васильцовский Стан, 10к1     1\n",
       "Москва, Большая Пироговская ул., 8         1\n",
       "Name: Местоположение, Length: 1854, dtype: int64"
      ]
     },
     "execution_count": 7,
     "metadata": {},
     "output_type": "execute_result"
    }
   ],
   "source": [
    "df['Местоположение'].value_counts()"
   ]
  },
  {
   "cell_type": "code",
   "execution_count": 8,
   "id": "86919d71",
   "metadata": {},
   "outputs": [
    {
     "data": {
      "text/plain": [
       "открытая во дворе                                                                813\n",
       "подземная                                                                        247\n",
       "за шлагбаумом во дворе                                                           154\n",
       "открытая во дворе, за шлагбаумом во дворе                                         53\n",
       "подземная, за шлагбаумом во дворе                                                 47\n",
       "подземная, открытая во дворе                                                      40\n",
       "подземная, открытая во дворе, за шлагбаумом во дворе                              23\n",
       "наземная многоуровневая                                                           21\n",
       "наземная многоуровневая, открытая во дворе                                        19\n",
       "подземная, наземная многоуровневая, открытая во дворе                              9\n",
       "наземная многоуровневая, за шлагбаумом во дворе                                    8\n",
       "подземная, наземная многоуровневая                                                 5\n",
       "подземная, наземная многоуровневая, открытая во дворе, за шлагбаумом во дворе      5\n",
       "подземная, наземная многоуровневая, за шлагбаумом во дворе                         3\n",
       "наземная многоуровневая, открытая во дворе, за шлагбаумом во дворе                 1\n",
       "Name: Парковка, dtype: int64"
      ]
     },
     "execution_count": 8,
     "metadata": {},
     "output_type": "execute_result"
    }
   ],
   "source": [
    "df['Парковка'].value_counts()"
   ]
  },
  {
   "cell_type": "code",
   "execution_count": 9,
   "id": "65448581",
   "metadata": {},
   "outputs": [],
   "source": [
    "df_filtred = df[['Цена', 'Местоположение', 'Общая площадь', 'Год постройки', 'Вид сделки',\n",
    "       'Ремонт', 'Этаж', 'Этажей в доме', 'Окна','Балкон или лоджия',\n",
    "       'Тип дома', 'Парковка']]"
   ]
  },
  {
   "cell_type": "code",
   "execution_count": 11,
   "id": "600bd4a9",
   "metadata": {},
   "outputs": [],
   "source": [
    "num_features = ['Цена',\n",
    "    'Общая площадь', 'Год постройки', 'Этаж', 'Этажей в доме',\n",
    "]\n",
    "cat_features = ['Местоположение','Вид сделки', 'Ремонт', 'Окна','Балкон или лоджия','Тип дома', 'Парковка']\n",
    "target = 'Цена'\n"
   ]
  },
  {
   "cell_type": "code",
   "execution_count": 12,
   "id": "423ffe08",
   "metadata": {},
   "outputs": [
    {
     "data": {
      "text/plain": [
       "Цена                    0\n",
       "Местоположение          0\n",
       "Общая площадь           0\n",
       "Год постройки        1042\n",
       "Вид сделки           1033\n",
       "Ремонт                404\n",
       "Этаж                    0\n",
       "Этажей в доме           0\n",
       "Окна                  606\n",
       "Балкон или лоджия    1361\n",
       "Тип дома                0\n",
       "Парковка             1086\n",
       "dtype: int64"
      ]
     },
     "execution_count": 12,
     "metadata": {},
     "output_type": "execute_result"
    }
   ],
   "source": [
    "df_filtred_before = df_filtred.isna().sum()\n",
    "df_filtred_before"
   ]
  },
  {
   "cell_type": "code",
   "execution_count": 13,
   "id": "f8790caa",
   "metadata": {},
   "outputs": [],
   "source": [
    "year_of_const_random = np.random.choice(df_filtred['Ремонт'].dropna(), 2534)\n",
    "df_filtred['Ремонт'] = df_filtred['Ремонт'].fillna(pd.Series(year_of_const_random))"
   ]
  },
  {
   "cell_type": "code",
   "execution_count": 14,
   "id": "e1a583ba",
   "metadata": {},
   "outputs": [],
   "source": [
    "repair_random = np.random.choice(df_filtred['Вид сделки'].dropna(), 2534)\n",
    "df_filtred['Вид сделки'] = df_filtred['Вид сделки'].fillna(pd.Series(repair_random))"
   ]
  },
  {
   "cell_type": "code",
   "execution_count": 15,
   "id": "97f6218a",
   "metadata": {},
   "outputs": [],
   "source": [
    "window_random = np.random.choice(df_filtred['Окна'].dropna(), 2534)\n",
    "df_filtred['Окна'] = df_filtred['Окна'].fillna(pd.Series(window_random))"
   ]
  },
  {
   "cell_type": "code",
   "execution_count": 16,
   "id": "d02ecec6",
   "metadata": {},
   "outputs": [],
   "source": [
    "balcony_random = np.random.choice(df_filtred['Балкон или лоджия'].dropna(), 2534)\n",
    "df_filtred['Балкон или лоджия'] = df_filtred['Балкон или лоджия'].fillna(pd.Series(balcony_random))"
   ]
  },
  {
   "cell_type": "code",
   "execution_count": 17,
   "id": "5545a4e0",
   "metadata": {},
   "outputs": [],
   "source": [
    "parking_random = np.random.choice(df_filtred['Парковка'].dropna(), 2534)\n",
    "df_filtred['Парковка'] = df_filtred['Парковка'].fillna(pd.Series(parking_random))"
   ]
  },
  {
   "cell_type": "code",
   "execution_count": 18,
   "id": "092b6dc0",
   "metadata": {},
   "outputs": [],
   "source": [
    "df_filtred['Год постройки'] = df_filtred['Год постройки'].fillna(df_filtred['Год постройки'].median())"
   ]
  },
  {
   "cell_type": "code",
   "execution_count": 19,
   "id": "dae45ec2",
   "metadata": {},
   "outputs": [
    {
     "data": {
      "text/plain": [
       "Цена                 0\n",
       "Местоположение       0\n",
       "Общая площадь        0\n",
       "Год постройки        0\n",
       "Вид сделки           0\n",
       "Ремонт               0\n",
       "Этаж                 0\n",
       "Этажей в доме        0\n",
       "Окна                 0\n",
       "Балкон или лоджия    0\n",
       "Тип дома             0\n",
       "Парковка             0\n",
       "dtype: int64"
      ]
     },
     "execution_count": 19,
     "metadata": {},
     "output_type": "execute_result"
    }
   ],
   "source": [
    "df_filtred.isna().sum()"
   ]
  },
  {
   "cell_type": "code",
   "execution_count": 20,
   "id": "f640c4e4",
   "metadata": {},
   "outputs": [
    {
     "data": {
      "text/plain": [
       "открытая во дворе                                                                1447\n",
       "подземная                                                                         432\n",
       "за шлагбаумом во дворе                                                            260\n",
       "открытая во дворе, за шлагбаумом во дворе                                          99\n",
       "подземная, открытая во дворе                                                       76\n",
       "подземная, за шлагбаумом во дворе                                                  75\n",
       "подземная, открытая во дворе, за шлагбаумом во дворе                               39\n",
       "наземная многоуровневая                                                            33\n",
       "наземная многоуровневая, открытая во дворе                                         24\n",
       "подземная, наземная многоуровневая, открытая во дворе                              13\n",
       "подземная, наземная многоуровневая, открытая во дворе, за шлагбаумом во дворе      11\n",
       "наземная многоуровневая, за шлагбаумом во дворе                                    11\n",
       "подземная, наземная многоуровневая, за шлагбаумом во дворе                          6\n",
       "подземная, наземная многоуровневая                                                  6\n",
       "наземная многоуровневая, открытая во дворе, за шлагбаумом во дворе                  2\n",
       "Name: Парковка, dtype: int64"
      ]
     },
     "execution_count": 20,
     "metadata": {},
     "output_type": "execute_result"
    }
   ],
   "source": [
    "df_filtred['Парковка'].value_counts()"
   ]
  },
  {
   "cell_type": "code",
   "execution_count": 23,
   "id": "a678af87",
   "metadata": {},
   "outputs": [
    {
     "data": {
      "text/plain": [
       "1732.0    23\n",
       "1846.0    19\n",
       "1771.0    18\n",
       "1853.0    18\n",
       "1422.0    16\n",
       "          ..\n",
       "177.0      1\n",
       "1594.0     1\n",
       "431.0      1\n",
       "1626.0     1\n",
       "202.0      1\n",
       "Name: Местоположение, Length: 1854, dtype: int64"
      ]
     },
     "execution_count": 23,
     "metadata": {},
     "output_type": "execute_result"
    }
   ],
   "source": [
    "df_filtred['Местоположение'].value_counts()"
   ]
  },
  {
   "cell_type": "code",
   "execution_count": 24,
   "id": "035c311d",
   "metadata": {},
   "outputs": [],
   "source": [
    "for col in cat_features:\n",
    "    df_filtred[col] = df_filtred[col].astype('category')\n",
    "    df_filtred[col] = df_filtred[col].cat.codes\n",
    "    df_filtred[col] = df_filtred[col].astype(float)"
   ]
  },
  {
   "cell_type": "code",
   "execution_count": 25,
   "id": "cebcdf62",
   "metadata": {},
   "outputs": [
    {
     "data": {
      "text/plain": [
       "панельный              898\n",
       "монолитный             799\n",
       "кирпичный              597\n",
       "монолитно-кирпичный    141\n",
       "блочный                 99\n",
       "Name: Тип дома, dtype: int64"
      ]
     },
     "execution_count": 25,
     "metadata": {},
     "output_type": "execute_result"
    }
   ],
   "source": [
    "df['Тип дома'].value_counts()"
   ]
  },
  {
   "cell_type": "code",
   "execution_count": 26,
   "id": "76fdc172",
   "metadata": {},
   "outputs": [
    {
     "data": {
      "text/plain": [
       "балкон            606\n",
       "лоджия            512\n",
       "балкон, лоджия     55\n",
       "Name: Балкон или лоджия, dtype: int64"
      ]
     },
     "execution_count": 26,
     "metadata": {},
     "output_type": "execute_result"
    }
   ],
   "source": [
    "df['Балкон или лоджия'].value_counts()"
   ]
  },
  {
   "cell_type": "code",
   "execution_count": 27,
   "id": "6339d8bb",
   "metadata": {},
   "outputs": [
    {
     "data": {
      "text/plain": [
       "во двор                                    1010\n",
       "на улицу                                    344\n",
       "во двор, на улицу                           274\n",
       "во двор, на солнечную сторону               128\n",
       "во двор, на улицу, на солнечную сторону      94\n",
       "на улицу, на солнечную сторону               54\n",
       "на солнечную сторону                         24\n",
       "Name: Окна, dtype: int64"
      ]
     },
     "execution_count": 27,
     "metadata": {},
     "output_type": "execute_result"
    }
   ],
   "source": [
    "df['Окна'].value_counts()"
   ]
  },
  {
   "cell_type": "code",
   "execution_count": 28,
   "id": "ca9a9b11",
   "metadata": {},
   "outputs": [
    {
     "data": {
      "text/plain": [
       "косметический      616\n",
       "евро               554\n",
       "требует ремонта    548\n",
       "дизайнерский       412\n",
       "Name: Ремонт, dtype: int64"
      ]
     },
     "execution_count": 28,
     "metadata": {},
     "output_type": "execute_result"
    }
   ],
   "source": [
    "df['Ремонт'].value_counts()"
   ]
  },
  {
   "cell_type": "code",
   "execution_count": 29,
   "id": "59a4a447",
   "metadata": {},
   "outputs": [],
   "source": [
    "df_filtred['Этаж'] = df_filtred['Этаж'].astype(str)\n",
    "df_filtred['Этаж'] = df_filtred['Этаж'].str.extract(r'(\\d+)')\n",
    "df_filtred['Этаж'] = df_filtred['Этаж'].astype(float)"
   ]
  },
  {
   "cell_type": "code",
   "execution_count": 30,
   "id": "f323d5ed",
   "metadata": {},
   "outputs": [],
   "source": [
    "df_filtred['Общая площадь'] = df_filtred['Общая площадь'].replace(r'\\D', '', regex=True)\n",
    "df_filtred['Общая площадь'] = df_filtred['Общая площадь'].astype(float)"
   ]
  },
  {
   "cell_type": "code",
   "execution_count": 31,
   "id": "4e279a34",
   "metadata": {},
   "outputs": [
    {
     "data": {
      "text/html": [
       "<div>\n",
       "<style scoped>\n",
       "    .dataframe tbody tr th:only-of-type {\n",
       "        vertical-align: middle;\n",
       "    }\n",
       "\n",
       "    .dataframe tbody tr th {\n",
       "        vertical-align: top;\n",
       "    }\n",
       "\n",
       "    .dataframe thead th {\n",
       "        text-align: right;\n",
       "    }\n",
       "</style>\n",
       "<table border=\"1\" class=\"dataframe\">\n",
       "  <thead>\n",
       "    <tr style=\"text-align: right;\">\n",
       "      <th></th>\n",
       "      <th>Цена</th>\n",
       "      <th>Местоположение</th>\n",
       "      <th>Общая площадь</th>\n",
       "      <th>Год постройки</th>\n",
       "      <th>Вид сделки</th>\n",
       "      <th>Ремонт</th>\n",
       "      <th>Этаж</th>\n",
       "      <th>Этажей в доме</th>\n",
       "      <th>Окна</th>\n",
       "      <th>Балкон или лоджия</th>\n",
       "      <th>Тип дома</th>\n",
       "      <th>Парковка</th>\n",
       "    </tr>\n",
       "  </thead>\n",
       "  <tbody>\n",
       "    <tr>\n",
       "      <th>Цена</th>\n",
       "      <td>1.000000</td>\n",
       "      <td>-0.088446</td>\n",
       "      <td>0.272135</td>\n",
       "      <td>-0.000384</td>\n",
       "      <td>-0.015451</td>\n",
       "      <td>-0.202194</td>\n",
       "      <td>0.118183</td>\n",
       "      <td>0.090003</td>\n",
       "      <td>0.042995</td>\n",
       "      <td>0.030474</td>\n",
       "      <td>-0.143657</td>\n",
       "      <td>0.050806</td>\n",
       "    </tr>\n",
       "    <tr>\n",
       "      <th>Местоположение</th>\n",
       "      <td>-0.088446</td>\n",
       "      <td>1.000000</td>\n",
       "      <td>0.038455</td>\n",
       "      <td>0.017106</td>\n",
       "      <td>0.000757</td>\n",
       "      <td>0.057918</td>\n",
       "      <td>0.076476</td>\n",
       "      <td>0.115311</td>\n",
       "      <td>-0.097826</td>\n",
       "      <td>-0.010209</td>\n",
       "      <td>0.087866</td>\n",
       "      <td>0.003172</td>\n",
       "    </tr>\n",
       "    <tr>\n",
       "      <th>Общая площадь</th>\n",
       "      <td>0.272135</td>\n",
       "      <td>0.038455</td>\n",
       "      <td>1.000000</td>\n",
       "      <td>-0.047907</td>\n",
       "      <td>-0.005046</td>\n",
       "      <td>-0.029047</td>\n",
       "      <td>0.143401</td>\n",
       "      <td>0.118646</td>\n",
       "      <td>0.053339</td>\n",
       "      <td>0.023885</td>\n",
       "      <td>-0.007717</td>\n",
       "      <td>0.016782</td>\n",
       "    </tr>\n",
       "    <tr>\n",
       "      <th>Год постройки</th>\n",
       "      <td>-0.000384</td>\n",
       "      <td>0.017106</td>\n",
       "      <td>-0.047907</td>\n",
       "      <td>1.000000</td>\n",
       "      <td>0.005865</td>\n",
       "      <td>-0.011462</td>\n",
       "      <td>0.072863</td>\n",
       "      <td>0.086147</td>\n",
       "      <td>-0.011141</td>\n",
       "      <td>0.041539</td>\n",
       "      <td>0.034697</td>\n",
       "      <td>0.045900</td>\n",
       "    </tr>\n",
       "    <tr>\n",
       "      <th>Вид сделки</th>\n",
       "      <td>-0.015451</td>\n",
       "      <td>0.000757</td>\n",
       "      <td>-0.005046</td>\n",
       "      <td>0.005865</td>\n",
       "      <td>1.000000</td>\n",
       "      <td>0.012039</td>\n",
       "      <td>-0.003319</td>\n",
       "      <td>-0.001547</td>\n",
       "      <td>0.001149</td>\n",
       "      <td>-0.004535</td>\n",
       "      <td>0.024140</td>\n",
       "      <td>0.008748</td>\n",
       "    </tr>\n",
       "    <tr>\n",
       "      <th>Ремонт</th>\n",
       "      <td>-0.202194</td>\n",
       "      <td>0.057918</td>\n",
       "      <td>-0.029047</td>\n",
       "      <td>-0.011462</td>\n",
       "      <td>0.012039</td>\n",
       "      <td>1.000000</td>\n",
       "      <td>-0.136056</td>\n",
       "      <td>-0.099538</td>\n",
       "      <td>-0.015092</td>\n",
       "      <td>-0.024044</td>\n",
       "      <td>0.113516</td>\n",
       "      <td>-0.020527</td>\n",
       "    </tr>\n",
       "    <tr>\n",
       "      <th>Этаж</th>\n",
       "      <td>0.118183</td>\n",
       "      <td>0.076476</td>\n",
       "      <td>0.143401</td>\n",
       "      <td>0.072863</td>\n",
       "      <td>-0.003319</td>\n",
       "      <td>-0.136056</td>\n",
       "      <td>1.000000</td>\n",
       "      <td>0.667690</td>\n",
       "      <td>0.113526</td>\n",
       "      <td>0.030504</td>\n",
       "      <td>0.088452</td>\n",
       "      <td>0.142641</td>\n",
       "    </tr>\n",
       "    <tr>\n",
       "      <th>Этажей в доме</th>\n",
       "      <td>0.090003</td>\n",
       "      <td>0.115311</td>\n",
       "      <td>0.118646</td>\n",
       "      <td>0.086147</td>\n",
       "      <td>-0.001547</td>\n",
       "      <td>-0.099538</td>\n",
       "      <td>0.667690</td>\n",
       "      <td>1.000000</td>\n",
       "      <td>0.063386</td>\n",
       "      <td>0.053863</td>\n",
       "      <td>0.186338</td>\n",
       "      <td>0.208232</td>\n",
       "    </tr>\n",
       "    <tr>\n",
       "      <th>Окна</th>\n",
       "      <td>0.042995</td>\n",
       "      <td>-0.097826</td>\n",
       "      <td>0.053339</td>\n",
       "      <td>-0.011141</td>\n",
       "      <td>0.001149</td>\n",
       "      <td>-0.015092</td>\n",
       "      <td>0.113526</td>\n",
       "      <td>0.063386</td>\n",
       "      <td>1.000000</td>\n",
       "      <td>0.025139</td>\n",
       "      <td>-0.035332</td>\n",
       "      <td>0.072916</td>\n",
       "    </tr>\n",
       "    <tr>\n",
       "      <th>Балкон или лоджия</th>\n",
       "      <td>0.030474</td>\n",
       "      <td>-0.010209</td>\n",
       "      <td>0.023885</td>\n",
       "      <td>0.041539</td>\n",
       "      <td>-0.004535</td>\n",
       "      <td>-0.024044</td>\n",
       "      <td>0.030504</td>\n",
       "      <td>0.053863</td>\n",
       "      <td>0.025139</td>\n",
       "      <td>1.000000</td>\n",
       "      <td>0.040234</td>\n",
       "      <td>0.003886</td>\n",
       "    </tr>\n",
       "    <tr>\n",
       "      <th>Тип дома</th>\n",
       "      <td>-0.143657</td>\n",
       "      <td>0.087866</td>\n",
       "      <td>-0.007717</td>\n",
       "      <td>0.034697</td>\n",
       "      <td>0.024140</td>\n",
       "      <td>0.113516</td>\n",
       "      <td>0.088452</td>\n",
       "      <td>0.186338</td>\n",
       "      <td>-0.035332</td>\n",
       "      <td>0.040234</td>\n",
       "      <td>1.000000</td>\n",
       "      <td>0.093596</td>\n",
       "    </tr>\n",
       "    <tr>\n",
       "      <th>Парковка</th>\n",
       "      <td>0.050806</td>\n",
       "      <td>0.003172</td>\n",
       "      <td>0.016782</td>\n",
       "      <td>0.045900</td>\n",
       "      <td>0.008748</td>\n",
       "      <td>-0.020527</td>\n",
       "      <td>0.142641</td>\n",
       "      <td>0.208232</td>\n",
       "      <td>0.072916</td>\n",
       "      <td>0.003886</td>\n",
       "      <td>0.093596</td>\n",
       "      <td>1.000000</td>\n",
       "    </tr>\n",
       "  </tbody>\n",
       "</table>\n",
       "</div>"
      ],
      "text/plain": [
       "                       Цена  Местоположение  Общая площадь  Год постройки  \\\n",
       "Цена               1.000000       -0.088446       0.272135      -0.000384   \n",
       "Местоположение    -0.088446        1.000000       0.038455       0.017106   \n",
       "Общая площадь      0.272135        0.038455       1.000000      -0.047907   \n",
       "Год постройки     -0.000384        0.017106      -0.047907       1.000000   \n",
       "Вид сделки        -0.015451        0.000757      -0.005046       0.005865   \n",
       "Ремонт            -0.202194        0.057918      -0.029047      -0.011462   \n",
       "Этаж               0.118183        0.076476       0.143401       0.072863   \n",
       "Этажей в доме      0.090003        0.115311       0.118646       0.086147   \n",
       "Окна               0.042995       -0.097826       0.053339      -0.011141   \n",
       "Балкон или лоджия  0.030474       -0.010209       0.023885       0.041539   \n",
       "Тип дома          -0.143657        0.087866      -0.007717       0.034697   \n",
       "Парковка           0.050806        0.003172       0.016782       0.045900   \n",
       "\n",
       "                   Вид сделки    Ремонт      Этаж  Этажей в доме      Окна  \\\n",
       "Цена                -0.015451 -0.202194  0.118183       0.090003  0.042995   \n",
       "Местоположение       0.000757  0.057918  0.076476       0.115311 -0.097826   \n",
       "Общая площадь       -0.005046 -0.029047  0.143401       0.118646  0.053339   \n",
       "Год постройки        0.005865 -0.011462  0.072863       0.086147 -0.011141   \n",
       "Вид сделки           1.000000  0.012039 -0.003319      -0.001547  0.001149   \n",
       "Ремонт               0.012039  1.000000 -0.136056      -0.099538 -0.015092   \n",
       "Этаж                -0.003319 -0.136056  1.000000       0.667690  0.113526   \n",
       "Этажей в доме       -0.001547 -0.099538  0.667690       1.000000  0.063386   \n",
       "Окна                 0.001149 -0.015092  0.113526       0.063386  1.000000   \n",
       "Балкон или лоджия   -0.004535 -0.024044  0.030504       0.053863  0.025139   \n",
       "Тип дома             0.024140  0.113516  0.088452       0.186338 -0.035332   \n",
       "Парковка             0.008748 -0.020527  0.142641       0.208232  0.072916   \n",
       "\n",
       "                   Балкон или лоджия  Тип дома  Парковка  \n",
       "Цена                        0.030474 -0.143657  0.050806  \n",
       "Местоположение             -0.010209  0.087866  0.003172  \n",
       "Общая площадь               0.023885 -0.007717  0.016782  \n",
       "Год постройки               0.041539  0.034697  0.045900  \n",
       "Вид сделки                 -0.004535  0.024140  0.008748  \n",
       "Ремонт                     -0.024044  0.113516 -0.020527  \n",
       "Этаж                        0.030504  0.088452  0.142641  \n",
       "Этажей в доме               0.053863  0.186338  0.208232  \n",
       "Окна                        0.025139 -0.035332  0.072916  \n",
       "Балкон или лоджия           1.000000  0.040234  0.003886  \n",
       "Тип дома                    0.040234  1.000000  0.093596  \n",
       "Парковка                    0.003886  0.093596  1.000000  "
      ]
     },
     "execution_count": 31,
     "metadata": {},
     "output_type": "execute_result"
    }
   ],
   "source": [
    "df_filtred.corr()"
   ]
  },
  {
   "cell_type": "code",
   "execution_count": 32,
   "id": "07c74141",
   "metadata": {},
   "outputs": [
    {
     "data": {
      "text/plain": [
       "Цена                 1.000000\n",
       "Общая площадь        0.272135\n",
       "Ремонт               0.202194\n",
       "Тип дома             0.143657\n",
       "Этаж                 0.118183\n",
       "Этажей в доме        0.090003\n",
       "Местоположение       0.088446\n",
       "Парковка             0.050806\n",
       "Окна                 0.042995\n",
       "Балкон или лоджия    0.030474\n",
       "Вид сделки           0.015451\n",
       "Год постройки        0.000384\n",
       "Name: Цена, dtype: float64"
      ]
     },
     "execution_count": 32,
     "metadata": {},
     "output_type": "execute_result"
    }
   ],
   "source": [
    "df_filtred.corr()['Цена'].apply(np.abs).sort_values(ascending = False)"
   ]
  },
  {
   "cell_type": "code",
   "execution_count": 33,
   "id": "0e0e47cb",
   "metadata": {},
   "outputs": [
    {
     "data": {
      "text/plain": [
       "Цена                 0\n",
       "Местоположение       0\n",
       "Общая площадь        0\n",
       "Год постройки        0\n",
       "Вид сделки           0\n",
       "Ремонт               0\n",
       "Этаж                 0\n",
       "Этажей в доме        0\n",
       "Окна                 0\n",
       "Балкон или лоджия    0\n",
       "Тип дома             0\n",
       "Парковка             0\n",
       "dtype: int64"
      ]
     },
     "execution_count": 33,
     "metadata": {},
     "output_type": "execute_result"
    }
   ],
   "source": [
    "df_filtred.isna().sum()"
   ]
  },
  {
   "cell_type": "code",
   "execution_count": 34,
   "id": "7cc05823",
   "metadata": {},
   "outputs": [
    {
     "data": {
      "text/plain": [
       "Цена                    0\n",
       "Местоположение          0\n",
       "Общая площадь           0\n",
       "Год постройки        1042\n",
       "Вид сделки           1033\n",
       "Ремонт                404\n",
       "Этаж                    0\n",
       "Этажей в доме           0\n",
       "Окна                  606\n",
       "Балкон или лоджия    1361\n",
       "Тип дома                0\n",
       "Парковка             1086\n",
       "dtype: int64"
      ]
     },
     "execution_count": 34,
     "metadata": {},
     "output_type": "execute_result"
    }
   ],
   "source": [
    "df_filtred_before"
   ]
  },
  {
   "cell_type": "code",
   "execution_count": 35,
   "id": "21f52f81",
   "metadata": {},
   "outputs": [
    {
     "data": {
      "text/plain": [
       "возможна ипотека                  1467\n",
       "аукцион                             13\n",
       "продажа доли                        12\n",
       "возможна ипотека, аукцион            7\n",
       "возможна ипотека, продажа доли       2\n",
       "Name: Вид сделки, dtype: int64"
      ]
     },
     "execution_count": 35,
     "metadata": {},
     "output_type": "execute_result"
    }
   ],
   "source": [
    "df['Вид сделки'].value_counts()"
   ]
  },
  {
   "cell_type": "code",
   "execution_count": 36,
   "id": "c4a7ac29",
   "metadata": {},
   "outputs": [
    {
     "data": {
      "text/plain": [
       "1.0    2480\n",
       "0.0      21\n",
       "4.0      19\n",
       "2.0       9\n",
       "3.0       5\n",
       "Name: Вид сделки, dtype: int64"
      ]
     },
     "execution_count": 36,
     "metadata": {},
     "output_type": "execute_result"
    }
   ],
   "source": [
    "df_filtred['Вид сделки'].value_counts() "
   ]
  },
  {
   "cell_type": "code",
   "execution_count": 37,
   "id": "880b76f6",
   "metadata": {},
   "outputs": [
    {
     "data": {
      "text/plain": [
       "возможна ипотека                  1467\n",
       "аукцион                             13\n",
       "продажа доли                        12\n",
       "возможна ипотека, аукцион            7\n",
       "возможна ипотека, продажа доли       2\n",
       "Name: Вид сделки, dtype: int64"
      ]
     },
     "execution_count": 37,
     "metadata": {},
     "output_type": "execute_result"
    }
   ],
   "source": [
    "df['Вид сделки'].value_counts()"
   ]
  },
  {
   "cell_type": "code",
   "execution_count": 38,
   "id": "d8cb842b",
   "metadata": {},
   "outputs": [
    {
     "data": {
      "text/html": [
       "<div>\n",
       "<style scoped>\n",
       "    .dataframe tbody tr th:only-of-type {\n",
       "        vertical-align: middle;\n",
       "    }\n",
       "\n",
       "    .dataframe tbody tr th {\n",
       "        vertical-align: top;\n",
       "    }\n",
       "\n",
       "    .dataframe thead th {\n",
       "        text-align: right;\n",
       "    }\n",
       "</style>\n",
       "<table border=\"1\" class=\"dataframe\">\n",
       "  <thead>\n",
       "    <tr style=\"text-align: right;\">\n",
       "      <th></th>\n",
       "      <th>Цена</th>\n",
       "      <th>Местоположение</th>\n",
       "      <th>Общая площадь</th>\n",
       "      <th>Год постройки</th>\n",
       "      <th>Вид сделки</th>\n",
       "      <th>Ремонт</th>\n",
       "      <th>Этаж</th>\n",
       "      <th>Этажей в доме</th>\n",
       "      <th>Окна</th>\n",
       "      <th>Балкон или лоджия</th>\n",
       "      <th>Тип дома</th>\n",
       "      <th>Парковка</th>\n",
       "    </tr>\n",
       "  </thead>\n",
       "  <tbody>\n",
       "    <tr>\n",
       "      <th>330</th>\n",
       "      <td>800000000.0</td>\n",
       "      <td>54.0</td>\n",
       "      <td>620.0</td>\n",
       "      <td>2019.0</td>\n",
       "      <td>1.0</td>\n",
       "      <td>2.0</td>\n",
       "      <td>12.0</td>\n",
       "      <td>12</td>\n",
       "      <td>5.0</td>\n",
       "      <td>2.0</td>\n",
       "      <td>3.0</td>\n",
       "      <td>7.0</td>\n",
       "    </tr>\n",
       "    <tr>\n",
       "      <th>2258</th>\n",
       "      <td>478800000.0</td>\n",
       "      <td>838.0</td>\n",
       "      <td>228.0</td>\n",
       "      <td>1979.0</td>\n",
       "      <td>1.0</td>\n",
       "      <td>0.0</td>\n",
       "      <td>2.0</td>\n",
       "      <td>5</td>\n",
       "      <td>1.0</td>\n",
       "      <td>2.0</td>\n",
       "      <td>1.0</td>\n",
       "      <td>7.0</td>\n",
       "    </tr>\n",
       "    <tr>\n",
       "      <th>1782</th>\n",
       "      <td>478665420.0</td>\n",
       "      <td>1320.0</td>\n",
       "      <td>600.0</td>\n",
       "      <td>1979.0</td>\n",
       "      <td>1.0</td>\n",
       "      <td>1.0</td>\n",
       "      <td>1.0</td>\n",
       "      <td>2</td>\n",
       "      <td>0.0</td>\n",
       "      <td>0.0</td>\n",
       "      <td>1.0</td>\n",
       "      <td>6.0</td>\n",
       "    </tr>\n",
       "    <tr>\n",
       "      <th>947</th>\n",
       "      <td>463224600.0</td>\n",
       "      <td>34.0</td>\n",
       "      <td>415.0</td>\n",
       "      <td>1979.0</td>\n",
       "      <td>1.0</td>\n",
       "      <td>0.0</td>\n",
       "      <td>5.0</td>\n",
       "      <td>8</td>\n",
       "      <td>0.0</td>\n",
       "      <td>2.0</td>\n",
       "      <td>1.0</td>\n",
       "      <td>5.0</td>\n",
       "    </tr>\n",
       "    <tr>\n",
       "      <th>499</th>\n",
       "      <td>400000000.0</td>\n",
       "      <td>1096.0</td>\n",
       "      <td>200.0</td>\n",
       "      <td>1979.0</td>\n",
       "      <td>1.0</td>\n",
       "      <td>0.0</td>\n",
       "      <td>1.0</td>\n",
       "      <td>7</td>\n",
       "      <td>0.0</td>\n",
       "      <td>2.0</td>\n",
       "      <td>1.0</td>\n",
       "      <td>5.0</td>\n",
       "    </tr>\n",
       "    <tr>\n",
       "      <th>...</th>\n",
       "      <td>...</td>\n",
       "      <td>...</td>\n",
       "      <td>...</td>\n",
       "      <td>...</td>\n",
       "      <td>...</td>\n",
       "      <td>...</td>\n",
       "      <td>...</td>\n",
       "      <td>...</td>\n",
       "      <td>...</td>\n",
       "      <td>...</td>\n",
       "      <td>...</td>\n",
       "      <td>...</td>\n",
       "    </tr>\n",
       "    <tr>\n",
       "      <th>1770</th>\n",
       "      <td>2200000.0</td>\n",
       "      <td>1036.0</td>\n",
       "      <td>511.0</td>\n",
       "      <td>1979.0</td>\n",
       "      <td>4.0</td>\n",
       "      <td>2.0</td>\n",
       "      <td>5.0</td>\n",
       "      <td>16</td>\n",
       "      <td>2.0</td>\n",
       "      <td>2.0</td>\n",
       "      <td>4.0</td>\n",
       "      <td>5.0</td>\n",
       "    </tr>\n",
       "    <tr>\n",
       "      <th>1620</th>\n",
       "      <td>2150000.0</td>\n",
       "      <td>1606.0</td>\n",
       "      <td>173.0</td>\n",
       "      <td>1961.0</td>\n",
       "      <td>1.0</td>\n",
       "      <td>3.0</td>\n",
       "      <td>1.0</td>\n",
       "      <td>5</td>\n",
       "      <td>0.0</td>\n",
       "      <td>2.0</td>\n",
       "      <td>1.0</td>\n",
       "      <td>5.0</td>\n",
       "    </tr>\n",
       "    <tr>\n",
       "      <th>1535</th>\n",
       "      <td>2090000.0</td>\n",
       "      <td>671.0</td>\n",
       "      <td>13.0</td>\n",
       "      <td>1959.0</td>\n",
       "      <td>1.0</td>\n",
       "      <td>2.0</td>\n",
       "      <td>1.0</td>\n",
       "      <td>5</td>\n",
       "      <td>0.0</td>\n",
       "      <td>0.0</td>\n",
       "      <td>1.0</td>\n",
       "      <td>5.0</td>\n",
       "    </tr>\n",
       "    <tr>\n",
       "      <th>801</th>\n",
       "      <td>1729000.0</td>\n",
       "      <td>140.0</td>\n",
       "      <td>10.0</td>\n",
       "      <td>1979.0</td>\n",
       "      <td>0.0</td>\n",
       "      <td>3.0</td>\n",
       "      <td>1.0</td>\n",
       "      <td>3</td>\n",
       "      <td>0.0</td>\n",
       "      <td>0.0</td>\n",
       "      <td>1.0</td>\n",
       "      <td>0.0</td>\n",
       "    </tr>\n",
       "    <tr>\n",
       "      <th>495</th>\n",
       "      <td>1100000.0</td>\n",
       "      <td>107.0</td>\n",
       "      <td>10.0</td>\n",
       "      <td>1979.0</td>\n",
       "      <td>4.0</td>\n",
       "      <td>3.0</td>\n",
       "      <td>2.0</td>\n",
       "      <td>18</td>\n",
       "      <td>0.0</td>\n",
       "      <td>0.0</td>\n",
       "      <td>2.0</td>\n",
       "      <td>5.0</td>\n",
       "    </tr>\n",
       "  </tbody>\n",
       "</table>\n",
       "<p>2534 rows × 12 columns</p>\n",
       "</div>"
      ],
      "text/plain": [
       "             Цена  Местоположение  Общая площадь  Год постройки  Вид сделки  \\\n",
       "330   800000000.0            54.0          620.0         2019.0         1.0   \n",
       "2258  478800000.0           838.0          228.0         1979.0         1.0   \n",
       "1782  478665420.0          1320.0          600.0         1979.0         1.0   \n",
       "947   463224600.0            34.0          415.0         1979.0         1.0   \n",
       "499   400000000.0          1096.0          200.0         1979.0         1.0   \n",
       "...           ...             ...            ...            ...         ...   \n",
       "1770    2200000.0          1036.0          511.0         1979.0         4.0   \n",
       "1620    2150000.0          1606.0          173.0         1961.0         1.0   \n",
       "1535    2090000.0           671.0           13.0         1959.0         1.0   \n",
       "801     1729000.0           140.0           10.0         1979.0         0.0   \n",
       "495     1100000.0           107.0           10.0         1979.0         4.0   \n",
       "\n",
       "      Ремонт  Этаж  Этажей в доме  Окна  Балкон или лоджия  Тип дома  Парковка  \n",
       "330      2.0  12.0             12   5.0                2.0       3.0       7.0  \n",
       "2258     0.0   2.0              5   1.0                2.0       1.0       7.0  \n",
       "1782     1.0   1.0              2   0.0                0.0       1.0       6.0  \n",
       "947      0.0   5.0              8   0.0                2.0       1.0       5.0  \n",
       "499      0.0   1.0              7   0.0                2.0       1.0       5.0  \n",
       "...      ...   ...            ...   ...                ...       ...       ...  \n",
       "1770     2.0   5.0             16   2.0                2.0       4.0       5.0  \n",
       "1620     3.0   1.0              5   0.0                2.0       1.0       5.0  \n",
       "1535     2.0   1.0              5   0.0                0.0       1.0       5.0  \n",
       "801      3.0   1.0              3   0.0                0.0       1.0       0.0  \n",
       "495      3.0   2.0             18   0.0                0.0       2.0       5.0  \n",
       "\n",
       "[2534 rows x 12 columns]"
      ]
     },
     "execution_count": 38,
     "metadata": {},
     "output_type": "execute_result"
    }
   ],
   "source": [
    "df_filtred.sort_values('Цена', ascending=False)"
   ]
  },
  {
   "cell_type": "code",
   "execution_count": 39,
   "id": "f5d4b848",
   "metadata": {},
   "outputs": [
    {
     "data": {
      "text/plain": [
       "11500000.0    29\n",
       "13500000.0    27\n",
       "12500000.0    23\n",
       "12000000.0    20\n",
       "15000000.0    20\n",
       "              ..\n",
       "6364834.0      1\n",
       "11219913.0     1\n",
       "61336000.0     1\n",
       "14950000.0     1\n",
       "99600000.0     1\n",
       "Name: Цена, Length: 1072, dtype: int64"
      ]
     },
     "execution_count": 39,
     "metadata": {},
     "output_type": "execute_result"
    }
   ],
   "source": [
    "df_filtred[target].value_counts()"
   ]
  },
  {
   "cell_type": "code",
   "execution_count": 40,
   "id": "6db568b5",
   "metadata": {},
   "outputs": [
    {
     "data": {
      "text/html": [
       "<div>\n",
       "<style scoped>\n",
       "    .dataframe tbody tr th:only-of-type {\n",
       "        vertical-align: middle;\n",
       "    }\n",
       "\n",
       "    .dataframe tbody tr th {\n",
       "        vertical-align: top;\n",
       "    }\n",
       "\n",
       "    .dataframe thead th {\n",
       "        text-align: right;\n",
       "    }\n",
       "</style>\n",
       "<table border=\"1\" class=\"dataframe\">\n",
       "  <thead>\n",
       "    <tr style=\"text-align: right;\">\n",
       "      <th></th>\n",
       "      <th>Цена</th>\n",
       "      <th>Общая площадь</th>\n",
       "      <th>Год постройки</th>\n",
       "      <th>Этаж</th>\n",
       "      <th>Этажей в доме</th>\n",
       "    </tr>\n",
       "  </thead>\n",
       "  <tbody>\n",
       "    <tr>\n",
       "      <th>Цена</th>\n",
       "      <td>1.000000</td>\n",
       "      <td>0.272135</td>\n",
       "      <td>-0.000384</td>\n",
       "      <td>0.118183</td>\n",
       "      <td>0.090003</td>\n",
       "    </tr>\n",
       "    <tr>\n",
       "      <th>Общая площадь</th>\n",
       "      <td>0.272135</td>\n",
       "      <td>1.000000</td>\n",
       "      <td>-0.047907</td>\n",
       "      <td>0.143401</td>\n",
       "      <td>0.118646</td>\n",
       "    </tr>\n",
       "    <tr>\n",
       "      <th>Год постройки</th>\n",
       "      <td>-0.000384</td>\n",
       "      <td>-0.047907</td>\n",
       "      <td>1.000000</td>\n",
       "      <td>0.072863</td>\n",
       "      <td>0.086147</td>\n",
       "    </tr>\n",
       "    <tr>\n",
       "      <th>Этаж</th>\n",
       "      <td>0.118183</td>\n",
       "      <td>0.143401</td>\n",
       "      <td>0.072863</td>\n",
       "      <td>1.000000</td>\n",
       "      <td>0.667690</td>\n",
       "    </tr>\n",
       "    <tr>\n",
       "      <th>Этажей в доме</th>\n",
       "      <td>0.090003</td>\n",
       "      <td>0.118646</td>\n",
       "      <td>0.086147</td>\n",
       "      <td>0.667690</td>\n",
       "      <td>1.000000</td>\n",
       "    </tr>\n",
       "  </tbody>\n",
       "</table>\n",
       "</div>"
      ],
      "text/plain": [
       "                   Цена  Общая площадь  Год постройки      Этаж  Этажей в доме\n",
       "Цена           1.000000       0.272135      -0.000384  0.118183       0.090003\n",
       "Общая площадь  0.272135       1.000000      -0.047907  0.143401       0.118646\n",
       "Год постройки -0.000384      -0.047907       1.000000  0.072863       0.086147\n",
       "Этаж           0.118183       0.143401       0.072863  1.000000       0.667690\n",
       "Этажей в доме  0.090003       0.118646       0.086147  0.667690       1.000000"
      ]
     },
     "execution_count": 40,
     "metadata": {},
     "output_type": "execute_result"
    }
   ],
   "source": [
    "correlation = df_filtred[num_features].corr()\n",
    "correlation"
   ]
  },
  {
   "cell_type": "code",
   "execution_count": 41,
   "id": "ff438936",
   "metadata": {},
   "outputs": [
    {
     "data": {
      "text/plain": [
       "<AxesSubplot:>"
      ]
     },
     "execution_count": 41,
     "metadata": {},
     "output_type": "execute_result"
    },
    {
     "data": {
      "image/png": "[encoded data removed]",
      "text/plain": [
       "<Figure size 1008x864 with 2 Axes>"
      ]
     },
     "metadata": {
      "needs_background": "light"
     },
     "output_type": "display_data"
    }
   ],
   "source": [
    "fig, ax = plt.subplots(figsize = (14, 12))\n",
    "sns.heatmap(correlation, annot=True, linecolor = 'white', linewidth=0.5,\n",
    "           annot_kws = {'size' : 20}, vmax = 1, vmin =-1)"
   ]
  },
  {
   "cell_type": "code",
   "execution_count": 42,
   "id": "b0ea4401",
   "metadata": {},
   "outputs": [],
   "source": [
    "df_melted = pd.melt(df_filtred, id_vars='Цена', value_vars=cat_features)"
   ]
  },
  {
   "cell_type": "code",
   "execution_count": 43,
   "id": "8902292b",
   "metadata": {},
   "outputs": [
    {
     "data": {
      "text/plain": [
       "<seaborn.axisgrid.FacetGrid at 0x160baab3490>"
      ]
     },
     "execution_count": 43,
     "metadata": {},
     "output_type": "execute_result"
    },
    {
     "data": {
      "image/png": "[encoded data removed]",
      "text/plain": [
       "<Figure size 720x1440 with 7 Axes>"
      ]
     },
     "metadata": {
      "needs_background": "light"
     },
     "output_type": "display_data"
    }
   ],
   "source": [
    "def boxplot(x, y, **kwargs):\n",
    "    sns.boxplot(x=x, y=y)\n",
    "    x=plt.xticks(rotation=90)\n",
    "\n",
    "g = sns.FacetGrid(df_melted, col='variable',\n",
    "                col_wrap=2, sharex=False, sharey=False, height=5)\n",
    "\n",
    "g.map(boxplot, 'value', 'Цена')"
   ]
  },
  {
   "cell_type": "code",
   "execution_count": 44,
   "id": "a5bf6943",
   "metadata": {},
   "outputs": [
    {
     "data": {
      "image/png": "[encoded data removed]",
      "text/plain": [
       "<Figure size 1080x720 with 3 Axes>"
      ]
     },
     "metadata": {
      "needs_background": "light"
     },
     "output_type": "display_data"
    }
   ],
   "source": [
    "N = 10 **4 \n",
    "np.random.seed(42)\n",
    "\n",
    "def plot_comparison(x, title):\n",
    "    fig, ax = plt.subplots(3, 1, sharex=True, figsize=(15, 10))\n",
    "    sns.distplot(x, ax=ax[0])\n",
    "    ax[0].set_title('Histogram + KDE')\n",
    "    sns.boxplot(x=x, ax=ax[1])\n",
    "    ax[1].set_title('Boxplot')\n",
    "    sns.violinplot(x=x, ax=ax[2])\n",
    "    ax[2].set_title('Violin plot')\n",
    "    fig.suptitle(title, fontsize =16)\n",
    "    plt.show()\n",
    "\n",
    "\n",
    "plot_comparison(df_filtred['Цена'], 'Price Distribution')"
   ]
  },
  {
   "cell_type": "code",
   "execution_count": 60,
   "id": "ce370e6d",
   "metadata": {},
   "outputs": [],
   "source": [
    "# можно добавить бинарную переменную инфроструктура"
   ]
  }
 ],
 "metadata": {
  "kernelspec": {
   "display_name": "Python 3 (ipykernel)",
   "language": "python",
   "name": "python3"
  },
  "language_info": {
   "codemirror_mode": {
    "name": "ipython",
    "version": 3
   },
   "file_extension": ".py",
   "mimetype": "text/x-python",
   "name": "python",
   "nbconvert_exporter": "python",
   "pygments_lexer": "ipython3",
   "version": "3.9.7"
  }
 },
 "nbformat": 4,
 "nbformat_minor": 5
}
