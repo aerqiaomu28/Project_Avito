{
 "cells": [
  {
   "cell_type": "code",
   "execution_count": 3,
   "metadata": {},
   "outputs": [],
   "source": [
    "import pandas as pd\n",
    "import httpx\n",
    "from tqdm import tqdm\n",
    "\n",
    "client = httpx.Client()"
   ]
  },
  {
   "cell_type": "code",
   "execution_count": 244,
   "metadata": {},
   "outputs": [],
   "source": [
    "TOKEN = 'token' # API TOKEN for yandex maps\n",
    "usage = 0"
   ]
  },
  {
   "cell_type": "code",
   "execution_count": 179,
   "metadata": {},
   "outputs": [],
   "source": [
    "def get_geo_data(address):\n",
    "    url = f\"https://geocode-maps.yandex.ru/1.x/?apikey={TOKEN}&format=json&geocode={address}\"\n",
    "    res = client.get(url)\n",
    "    return res.json()['response']['GeoObjectCollection']['featureMember'][0]['GeoObject']['Point']"
   ]
  },
  {
   "cell_type": "code",
   "execution_count": 192,
   "metadata": {},
   "outputs": [],
   "source": [
    "def dict_to_csv(d, filename='data/geo.csv'):\n",
    "    f = open(filename, 'w')\n",
    "    f.write(\"Индекс;Местоположение;Широта;Долгота\\n\")\n",
    "    for (ind, address), coords in d.items():\n",
    "        try:\n",
    "            x, y = coords['pos'].split()\n",
    "        except:\n",
    "            x, y = 'nan', 'nan'\n",
    "        f.write(';'.join([str(c) for c in [ind, address, x, y]]) + '\\n')\n",
    "\n",
    "\n",
    "def csv_to_dct(filename='data/geo.csv'):\n",
    "    geo_df = pd.read_csv(filename, delimiter=';').set_index(['Индекс', 'Местоположение'])\n",
    "\n",
    "    d = geo_df.to_dict('index')\n",
    "    for ind, coords in d.items():\n",
    "        d[ind] = {'pos' : f\"{coords['Широта']} {coords['Долгота']}\"}\n",
    "    return d"
   ]
  },
  {
   "cell_type": "code",
   "execution_count": 213,
   "metadata": {},
   "outputs": [],
   "source": [
    "def add_to_csv(df, index, filename='data/geo.csv'):\n",
    "    geo_data = csv_to_dct(filename)\n",
    "\n",
    "    added = 0\n",
    "    failed = []\n",
    "\n",
    "    df_segment = df['Местоположение'][index].reset_index()\n",
    "\n",
    "    for ind, address in tqdm(zip(df_segment['index'], df_segment['Местоположение'])):\n",
    "        if geo_data.get((ind, address)) is None:\n",
    "            added += 1\n",
    "            try:\n",
    "                geo_data[(ind, address)] = get_geo_data(address)\n",
    "            except Exception as ex:\n",
    "                print(ex.args) \n",
    "                failed.append(address)\n",
    "                geo_data[(ind, address)] = \"nan\"\n",
    "    \n",
    "    geo_df = dict_to_csv(geo_data, filename)\n",
    "    return added, failed"
   ]
  },
  {
   "cell_type": "code",
   "execution_count": 43,
   "metadata": {},
   "outputs": [],
   "source": [
    "df = pd.read_csv('flats.csv', sep='^')"
   ]
  },
  {
   "cell_type": "code",
   "execution_count": 273,
   "metadata": {},
   "outputs": [
    {
     "name": "stderr",
     "output_type": "stream",
     "text": [
      "834it [00:03, 220.00it/s] "
     ]
    },
    {
     "name": "stdout",
     "output_type": "stream",
     "text": [
      "Usage: 842\n",
      "Added: 34\n",
      "Failed:\n"
     ]
    },
    {
     "name": "stderr",
     "output_type": "stream",
     "text": [
      "\n"
     ]
    }
   ],
   "source": [
    "segment = range(1700, 2534)\n",
    "\n",
    "added, failed = add_to_csv(df, segment)\n",
    "usage += added\n",
    "print(f'Usage: {usage}', f'Added: {added}', f'Failed:', *failed, sep='\\n')"
   ]
  },
  {
   "cell_type": "code",
   "execution_count": 109,
   "metadata": {},
   "outputs": [
    {
     "data": {
      "text/html": [
       "<div>\n",
       "<style scoped>\n",
       "    .dataframe tbody tr th:only-of-type {\n",
       "        vertical-align: middle;\n",
       "    }\n",
       "\n",
       "    .dataframe tbody tr th {\n",
       "        vertical-align: top;\n",
       "    }\n",
       "\n",
       "    .dataframe thead th {\n",
       "        text-align: right;\n",
       "    }\n",
       "</style>\n",
       "<table border=\"1\" class=\"dataframe\">\n",
       "  <thead>\n",
       "    <tr style=\"text-align: right;\">\n",
       "      <th></th>\n",
       "      <th>Индекс</th>\n",
       "      <th>Местоположение</th>\n",
       "      <th>Широта</th>\n",
       "      <th>Долгота</th>\n",
       "    </tr>\n",
       "  </thead>\n",
       "  <tbody>\n",
       "    <tr>\n",
       "      <th>0</th>\n",
       "      <td>0</td>\n",
       "      <td>Москва, Юровская ул., 19</td>\n",
       "      <td>37.372036</td>\n",
       "      <td>55.899219</td>\n",
       "    </tr>\n",
       "    <tr>\n",
       "      <th>1</th>\n",
       "      <td>1</td>\n",
       "      <td>Москва, Онежская ул., 12</td>\n",
       "      <td>37.521426</td>\n",
       "      <td>55.849640</td>\n",
       "    </tr>\n",
       "    <tr>\n",
       "      <th>2</th>\n",
       "      <td>2</td>\n",
       "      <td>Москва, Бобруйская ул., 28</td>\n",
       "      <td>37.398150</td>\n",
       "      <td>55.739032</td>\n",
       "    </tr>\n",
       "    <tr>\n",
       "      <th>3</th>\n",
       "      <td>3</td>\n",
       "      <td>Москва, ул. Искры, 13к1</td>\n",
       "      <td>37.664051</td>\n",
       "      <td>55.862570</td>\n",
       "    </tr>\n",
       "    <tr>\n",
       "      <th>4</th>\n",
       "      <td>4</td>\n",
       "      <td>Москва, Голиковский пер., 5</td>\n",
       "      <td>37.627499</td>\n",
       "      <td>55.740107</td>\n",
       "    </tr>\n",
       "  </tbody>\n",
       "</table>\n",
       "</div>"
      ],
      "text/plain": [
       "   Индекс               Местоположение     Широта    Долгота\n",
       "0       0     Москва, Юровская ул., 19  37.372036  55.899219\n",
       "1       1     Москва, Онежская ул., 12  37.521426  55.849640\n",
       "2       2   Москва, Бобруйская ул., 28  37.398150  55.739032\n",
       "3       3      Москва, ул. Искры, 13к1  37.664051  55.862570\n",
       "4       4  Москва, Голиковский пер., 5  37.627499  55.740107"
      ]
     },
     "execution_count": 109,
     "metadata": {},
     "output_type": "execute_result"
    }
   ],
   "source": [
    "geo = pd.read_csv('data/geo.csv', delimiter=';')\n",
    "\n",
    "geo.head()"
   ]
  },
  {
   "cell_type": "code",
   "execution_count": 110,
   "metadata": {},
   "outputs": [],
   "source": [
    "geo['Широта'], geo['Долгота'] = geo['Долгота'], geo['Широта']"
   ]
  },
  {
   "cell_type": "code",
   "execution_count": 112,
   "metadata": {},
   "outputs": [],
   "source": [
    "geo[['Местоположение', 'Долгота', 'Широта']].to_csv('geo.csv', sep=';')"
   ]
  },
  {
   "cell_type": "code",
   "execution_count": null,
   "metadata": {},
   "outputs": [],
   "source": []
  }
 ],
 "metadata": {
  "kernelspec": {
   "display_name": "Python 3",
   "language": "python",
   "name": "python3"
  },
  "language_info": {
   "codemirror_mode": {
    "name": "ipython",
    "version": 3
   },
   "file_extension": ".py",
   "mimetype": "text/x-python",
   "name": "python",
   "nbconvert_exporter": "python",
   "pygments_lexer": "ipython3",
   "version": "3.10.9"
  },
  "orig_nbformat": 4
 },
 "nbformat": 4,
 "nbformat_minor": 2
}
